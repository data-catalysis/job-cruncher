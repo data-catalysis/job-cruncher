{
 "cells": [
  {
   "cell_type": "code",
   "execution_count": 158,
   "metadata": {},
   "outputs": [],
   "source": [
    "import pandas as pd\n",
    "import sqlite3\n",
    "import spacy\n",
    "from numpy.linalg import norm\n",
    "from numpy import dot"
   ]
  },
  {
   "cell_type": "code",
   "execution_count": 78,
   "metadata": {},
   "outputs": [],
   "source": [
    "# Read sqlite query results into a pandas DataFrame\n",
    "con = sqlite3.connect(\"collectors/data.sqlite3\")\n",
    "job_df = pd.read_sql_query(\"SELECT * from job_post\", con)\n",
    "company_review_df = pd.read_sql_query(\"SELECT * from company_review\", con)\n",
    "job_interview_df = pd.read_sql_query(\"SELECT * from job_interview\", con)\n",
    "con.close()"
   ]
  },
  {
   "cell_type": "code",
   "execution_count": 79,
   "metadata": {},
   "outputs": [
    {
     "data": {
      "text/html": [
       "<div>\n",
       "<style scoped>\n",
       "    .dataframe tbody tr th:only-of-type {\n",
       "        vertical-align: middle;\n",
       "    }\n",
       "\n",
       "    .dataframe tbody tr th {\n",
       "        vertical-align: top;\n",
       "    }\n",
       "\n",
       "    .dataframe thead th {\n",
       "        text-align: right;\n",
       "    }\n",
       "</style>\n",
       "<table border=\"1\" class=\"dataframe\">\n",
       "  <thead>\n",
       "    <tr style=\"text-align: right;\">\n",
       "      <th></th>\n",
       "      <th>id</th>\n",
       "      <th>title</th>\n",
       "      <th>company</th>\n",
       "      <th>location</th>\n",
       "      <th>description</th>\n",
       "      <th>source</th>\n",
       "      <th>search_kw</th>\n",
       "    </tr>\n",
       "  </thead>\n",
       "  <tbody>\n",
       "    <tr>\n",
       "      <th>0</th>\n",
       "      <td>1</td>\n",
       "      <td>Data Scientist</td>\n",
       "      <td>Aquatic Informatics</td>\n",
       "      <td>Vancouver, BC</td>\n",
       "      <td>Do you want a meaningful role in a company tha...</td>\n",
       "      <td>indeed.com</td>\n",
       "      <td>data scientist</td>\n",
       "    </tr>\n",
       "    <tr>\n",
       "      <th>1</th>\n",
       "      <td>2</td>\n",
       "      <td>Business Intelligence Analyst</td>\n",
       "      <td>GLENTEL</td>\n",
       "      <td>Burnaby, BC</td>\n",
       "      <td>Brand: Glentel Corporate\\nLocation: Burnaby Of...</td>\n",
       "      <td>indeed.com</td>\n",
       "      <td>data scientist</td>\n",
       "    </tr>\n",
       "    <tr>\n",
       "      <th>2</th>\n",
       "      <td>3</td>\n",
       "      <td>Human Resources Data Scientist</td>\n",
       "      <td>Rio Tinto</td>\n",
       "      <td>Canada</td>\n",
       "      <td>2 x newly created Data Scientist opportunities...</td>\n",
       "      <td>indeed.com</td>\n",
       "      <td>data scientist</td>\n",
       "    </tr>\n",
       "    <tr>\n",
       "      <th>3</th>\n",
       "      <td>4</td>\n",
       "      <td>Lead - Human Resource Data Scientist</td>\n",
       "      <td>Rio Tinto</td>\n",
       "      <td>Canada</td>\n",
       "      <td>Newly created data science lead embedded withi...</td>\n",
       "      <td>indeed.com</td>\n",
       "      <td>data scientist</td>\n",
       "    </tr>\n",
       "    <tr>\n",
       "      <th>4</th>\n",
       "      <td>5</td>\n",
       "      <td>Machine Learning Engineer</td>\n",
       "      <td>Skycope Technologies Inc</td>\n",
       "      <td>Vancouver, BC</td>\n",
       "      <td>Who We are\\nFounded in 2016, Skycope Technolog...</td>\n",
       "      <td>indeed.com</td>\n",
       "      <td>data scientist</td>\n",
       "    </tr>\n",
       "  </tbody>\n",
       "</table>\n",
       "</div>"
      ],
      "text/plain": [
       "   id                                 title                   company  \\\n",
       "0   1                        Data Scientist       Aquatic Informatics   \n",
       "1   2         Business Intelligence Analyst                   GLENTEL   \n",
       "2   3        Human Resources Data Scientist                 Rio Tinto   \n",
       "3   4  Lead - Human Resource Data Scientist                 Rio Tinto   \n",
       "4   5             Machine Learning Engineer  Skycope Technologies Inc   \n",
       "\n",
       "        location                                        description  \\\n",
       "0  Vancouver, BC  Do you want a meaningful role in a company tha...   \n",
       "1    Burnaby, BC  Brand: Glentel Corporate\\nLocation: Burnaby Of...   \n",
       "2         Canada  2 x newly created Data Scientist opportunities...   \n",
       "3         Canada  Newly created data science lead embedded withi...   \n",
       "4  Vancouver, BC  Who We are\\nFounded in 2016, Skycope Technolog...   \n",
       "\n",
       "       source       search_kw  \n",
       "0  indeed.com  data scientist  \n",
       "1  indeed.com  data scientist  \n",
       "2  indeed.com  data scientist  \n",
       "3  indeed.com  data scientist  \n",
       "4  indeed.com  data scientist  "
      ]
     },
     "execution_count": 79,
     "metadata": {},
     "output_type": "execute_result"
    }
   ],
   "source": [
    "# Verify that result of SQL query is stored in the dataframe\n",
    "job_df.head()"
   ]
  },
  {
   "cell_type": "code",
   "execution_count": 80,
   "metadata": {},
   "outputs": [],
   "source": [
    "job_descriptions = job_df['description'].to_list()"
   ]
  },
  {
   "cell_type": "code",
   "execution_count": 81,
   "metadata": {},
   "outputs": [
    {
     "name": "stdout",
     "output_type": "stream",
     "text": [
      "FIRST 100 WORDS OF 5 JOB DESCRIPTIONS:\n",
      "\n",
      "JOB 0\n",
      "Do you want a meaningful role in a company that is making a difference in the world? Do you want to \n",
      "\n",
      "JOB 1\n",
      "Brand: Glentel Corporate\n",
      "Location: Burnaby Office - 8501 Commerce Court, Burnaby, BC\n",
      "Are you looking\n",
      "\n",
      "JOB 2\n",
      "2 x newly created Data Scientist opportunities embedded within the HR function\n",
      "Help to define and ma\n",
      "\n",
      "JOB 3\n",
      "Newly created data science lead embedded within the HR function\n",
      "Exciting opportunity to help shape t\n",
      "\n",
      "JOB 4\n",
      "Who We are\n",
      "Founded in 2016, Skycope Technologies Inc. is a high tech company based in Burnaby, Canad\n"
     ]
    }
   ],
   "source": [
    "print(\"FIRST 100 WORDS OF 5 JOB DESCRIPTIONS:\")\n",
    "for i, description in enumerate(job_descriptions[:5]): \n",
    "    print(\"\\nJOB \"+str(i))\n",
    "    print(description[:100])"
   ]
  },
  {
   "cell_type": "code",
   "execution_count": 88,
   "metadata": {},
   "outputs": [],
   "source": [
    "# Download pretrained enlgish model\n",
    "try:\n",
    "    import en_core_web_sm\n",
    "except:\n",
    "    !python -m spacy download en_core_web_sm\n",
    "    import en_core_web_sm"
   ]
  },
  {
   "cell_type": "code",
   "execution_count": 83,
   "metadata": {},
   "outputs": [],
   "source": [
    "# Pretrained english model (small sized)\n",
    "nlp = en_core_web_sm.load()"
   ]
  },
  {
   "cell_type": "code",
   "execution_count": 46,
   "metadata": {},
   "outputs": [],
   "source": [
    "docs = [nlp(doc) for doc in job_descriptions]"
   ]
  },
  {
   "cell_type": "code",
   "execution_count": 85,
   "metadata": {},
   "outputs": [
    {
     "name": "stdout",
     "output_type": "stream",
     "text": [
      "Do you want a meaningful role in a company that is making a difference in the world?\n",
      "Do you want to be involved in one of the most important environmental resource areas today?\n",
      "Do you want to learn what's involved in developing and deploying machine learning and predictive analytics solutions from colleagues with years of research and development experience?\n",
      "Then join our energetic and growing team and help revolutionize an industry.\n",
      "\n",
      "About\n",
      "our company\n",
      "Founded in 2003, Aquatic Informatics provides software solutions that address critical water data management, analytics and compliance challenges for the rapidly growing water industry.\n",
      "Aquatic Informatics is the trusted provider of water management solutions to over 1,000 municipal, federal, state/provincial, hydropower, mining, academic, and consulting organizations in over 60 countries that collect, manage, and process large volumes of water data.\n",
      "\n",
      "Aquatic Informatics' platforms include AQUARIUS (http://aquaticinformatics.com/why-aquarius/) analytics software for natural environments, WaterTrax (https://aquaticinformatics.com/products/watertrax/) compliance and electronic reporting tools for municipalities, Linko (https://aquaticinformatics.com/products/linko/) software for the management of industrial pretreatment and hauled waste records and Tokay (https://www.tokay.com/) for backflow prevention.\n",
      "From source water through to the receiving environment, our interconnected data management platforms drive the efficient management of water information across the water cycle to protect human health and reduce environmental impact.\n",
      "\n",
      "Aquatic Informatics is headquartered in Vancouver, Canada and has offices in the US and Australia.\n",
      "We are one of the fastest-growing clean technology companies in Canada.\n",
      "We value independent thinking, initiative, teamwork, a relentless pursuit of quality, a playful spirit, and a sense of humour.\n",
      "We like smart people – IQ and EQ – who care about the environment and want to do good in the world.\n",
      "\n",
      "About the opportunity\n",
      "You will become an integral member of the team researching and operationalizing algorithms and models for processing water and other environmental data.\n",
      "Working in an Agile scrum team, you will be exposed to the breadth of data science activities, including hypothesis definition, data wrangling and exploratory data analysis, model development and validation, and production deployment and debugging test and customer-reported issues.\n",
      "\n",
      "Qualifications\n",
      "\n",
      "Masters or PhD in data science, computer science/engineering, statistics, or a related quantitative discipline.\n",
      "\n",
      "2+ years of hands-on experience in applied machine learning, predictive modeling and data analysis.\n",
      "\n",
      "Solid understanding of mathematical concepts and techniques including: time series analysis, regression modeling, forecasting, and machine-learning.\n",
      "\n",
      "Experience with at least one scientific language (Python, R, Matlab) and knowledge of software design principles.\n",
      "\n",
      "Passion for data - thrive on using data to solve challenging real-world problems.\n",
      "\n",
      "Life long learner - incessantly inquisitive about emerging research and technology.\n",
      "\n",
      "Excellent English communication skills, both verbal and written.\n",
      "\n",
      "Assets\n",
      "Experience with python packages and frameworks including pandas, NumPy, scikit-learn, TensorFlow, and PyTorch.\n",
      "\n",
      "Background in environmental science.\n",
      "\n",
      "Experience with data visualization.\n",
      "\n",
      "Experience deploying data science solutions in production.\n",
      "\n",
      "Experience with AWS or other cloud services and cloud technologies.\n"
     ]
    }
   ],
   "source": [
    "# Sentence by sentence\n",
    "for sentence in docs[0].sents:\n",
    "    print(sentence)"
   ]
  },
  {
   "cell_type": "code",
   "execution_count": 75,
   "metadata": {},
   "outputs": [
    {
     "name": "stdout",
     "output_type": "stream",
     "text": [
      "Do 0\n",
      "you 3\n",
      "want 7\n",
      "a 12\n",
      "meaningful 14\n",
      "role 25\n",
      "in 30\n",
      "a 33\n",
      "company 35\n",
      "that 43\n",
      "is 48\n",
      "making 51\n",
      "a 58\n",
      "difference 60\n",
      "in 71\n",
      "the 74\n",
      "world 78\n",
      "? 83\n",
      "Do 85\n",
      "you 88\n",
      "want 92\n",
      "to 97\n",
      "be 100\n",
      "involved 103\n",
      "in 112\n"
     ]
    }
   ],
   "source": [
    "# word by word \n",
    "for token in docs[0][:25]:\n",
    "    print(token, token.idx)"
   ]
  },
  {
   "cell_type": "code",
   "execution_count": 86,
   "metadata": {},
   "outputs": [
    {
     "name": "stdout",
     "output_type": "stream",
     "text": [
      "today DATE\n",
      "years DATE\n",
      "2003 DATE\n",
      "Aquatic Informatics ORG\n",
      "Aquatic Informatics ORG\n",
      "over 1,000 CARDINAL\n",
      "over 60 CARDINAL\n",
      "Aquatic Informatics' ORG\n",
      "AQUARIUS ORG\n",
      "WaterTrax ORG\n",
      "Linko ORG\n",
      "https://aquaticinformatics.com/products/linko/ ORG\n",
      "Aquatic Informatics ORG\n",
      "Vancouver GPE\n",
      "Canada GPE\n",
      "US GPE\n",
      "Australia GPE\n",
      "one CARDINAL\n",
      "Canada GPE\n",
      "EQ ORG\n",
      "PhD WORK_OF_ART\n",
      "2+ years DATE\n",
      "at least one CARDINAL\n",
      "Python ORG\n",
      "English LANGUAGE\n",
      "NumPy LOC\n",
      "TensorFlow PRODUCT\n",
      "PyTorch ORG\n",
      "AWS ORG\n"
     ]
    }
   ],
   "source": [
    "# It is possible to get the entity extracted for every doc along with a label\n",
    "# Check: https://spacy.io/api/annotation#named-entities for further details\n",
    "for item in docs[0].ents:\n",
    "    print(item.text, item.label_)"
   ]
  },
  {
   "cell_type": "code",
   "execution_count": 99,
   "metadata": {},
   "outputs": [
    {
     "name": "stdout",
     "output_type": "stream",
     "text": [
      "BEFORE LEMMATIZATION:\n",
      "Do you want a meaningful role in a company that is making a difference in the world? Do you want to be involved in one of the most important environmental resource areas today? Do you want to learn what's involved in developing and deploying machine learning and\n",
      "\n",
      "AFTER LEMMATIZATION:\n",
      "do -PRON- want a meaningful role in a company that be make a difference in the world ? do -PRON- want to be involve in one of the most important environmental resource area today ? do -PRON- want to learn what be involve in develop and deploy machine learning and\n"
     ]
    }
   ],
   "source": [
    "# Show Lemmatization of a sentence/document\n",
    "print(\"BEFORE LEMMATIZATION:\")\n",
    "print(docs[0][:50])\n",
    "print(\"\\nAFTER LEMMATIZATION:\")\n",
    "print(' '.join([token.lemma_ for token in docs[0][:50]]))"
   ]
  },
  {
   "cell_type": "code",
   "execution_count": 159,
   "metadata": {},
   "outputs": [],
   "source": [
    "def sentvec(s):\n",
    "    sent = nlp(s)\n",
    "    return meanv([w.vector for w in sent])\n",
    "\n",
    "def meanv(coords):\n",
    "    # assumes every item in coords has same length as item 0\n",
    "    sumv = [0] * len(coords[0])\n",
    "    for item in coords:\n",
    "        for i in range(len(item)):\n",
    "            sumv[i] += item[i]\n",
    "    mean = [0] * len(sumv)\n",
    "    for i in range(len(sumv)):\n",
    "        mean[i] = float(sumv[i]) / len(coords)\n",
    "    return mean\n",
    "\n",
    "def cosine(v1, v2):\n",
    "    if norm(v1) > 0 and norm(v2) > 0:\n",
    "        return dot(v1, v2) / (norm(v1) * norm(v2))\n",
    "    else:\n",
    "        return 0.0"
   ]
  },
  {
   "cell_type": "code",
   "execution_count": 146,
   "metadata": {},
   "outputs": [],
   "source": [
    "sentences = list(docs[0].sents)"
   ]
  },
  {
   "cell_type": "code",
   "execution_count": 147,
   "metadata": {},
   "outputs": [],
   "source": [
    "def spacy_closest_sent(space, input_str, n=10):\n",
    "    input_vec = sentvec(input_str)\n",
    "    return sorted(space,\n",
    "                  key=lambda x: cosine(np.mean([w.vector for w in x], axis=0), input_vec),\n",
    "                  reverse=True)[:n]"
   ]
  },
  {
   "cell_type": "code",
   "execution_count": 162,
   "metadata": {},
   "outputs": [
    {
     "name": "stdout",
     "output_type": "stream",
     "text": [
      "Life long learner - incessantly inquisitive about emerging research and technology.\n",
      "\n",
      "---\n",
      "Experience with AWS or other cloud services and cloud technologies.\n",
      "---\n",
      "Do you want to learn what's involved in developing and deploying machine learning and predictive analytics solutions from colleagues with years of research and development experience?\n",
      "---\n",
      "About the opportunity\n",
      "You will become an integral member of the team researching and operationalizing algorithms and models for processing water and other environmental data.\n",
      "---\n",
      "About\n",
      "---\n",
      "Working in an Agile scrum team, you will be exposed to the breadth of data science activities, including hypothesis definition, data wrangling and exploratory data analysis, model development and validation, and production deployment and debugging test and customer-reported issues.\n",
      "\n",
      "---\n",
      "Solid understanding of mathematical concepts and techniques including: time series analysis, regression modeling, forecasting, and machine-learning.\n",
      "\n",
      "---\n",
      "2+ years of hands-on experience in applied machine learning, predictive modeling and data analysis.\n",
      "\n",
      "---\n",
      "Aquatic Informatics is the trusted provider of water management solutions to over 1,000 municipal, federal, state/provincial, hydropower, mining, academic, and consulting organizations in over 60 countries that collect, manage, and process large volumes of water data.\n",
      "\n",
      "---\n",
      "Then join our energetic and growing team and help revolutionize an industry.\n",
      "\n",
      "---\n"
     ]
    }
   ],
   "source": [
    "for sent in spacy_closest_sent(sentences, \"Learning forever and ever\"):\n",
    "    print(sent.text)\n",
    "    print(\"---\")"
   ]
  },
  {
   "cell_type": "code",
   "execution_count": null,
   "metadata": {},
   "outputs": [],
   "source": [
    "# print()\n",
    "# print()"
   ]
  }
 ],
 "metadata": {
  "kernelspec": {
   "display_name": "Python 3.7.5 64-bit ('venv': venv)",
   "language": "python",
   "name": "python37564bitvenvvenva3138b71e4064f57aed9d81ac75a212c"
  },
  "language_info": {
   "codemirror_mode": {
    "name": "ipython",
    "version": 3
   },
   "file_extension": ".py",
   "mimetype": "text/x-python",
   "name": "python",
   "nbconvert_exporter": "python",
   "pygments_lexer": "ipython3",
   "version": "3.7.5"
  }
 },
 "nbformat": 4,
 "nbformat_minor": 4
}
