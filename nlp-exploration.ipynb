{
 "cells": [
  {
   "cell_type": "code",
   "execution_count": 158,
   "metadata": {},
   "outputs": [],
   "source": [
    "import pandas as pd\n",
    "import sqlite3\n",
    "import spacy\n",
    "from numpy.linalg import norm\n",
    "from numpy import dot"
   ]
  },
  {
   "cell_type": "code",
   "execution_count": 78,
   "metadata": {},
   "outputs": [],
   "source": [
    "# Read sqlite query results into a pandas DataFrame\n",
    "con = sqlite3.connect(\"collectors/data.sqlite3\")\n",
    "job_df = pd.read_sql_query(\"SELECT * from job_post\", con)\n",
    "company_review_df = pd.read_sql_query(\"SELECT * from company_review\", con)\n",
    "job_interview_df = pd.read_sql_query(\"SELECT * from job_interview\", con)\n",
    "con.close()"
   ]
  },
  {
   "cell_type": "code",
   "execution_count": 79,
   "metadata": {},
   "outputs": [
    {
     "data": {
      "text/html": "<div>\n<style scoped>\n    .dataframe tbody tr th:only-of-type {\n        vertical-align: middle;\n    }\n\n    .dataframe tbody tr th {\n        vertical-align: top;\n    }\n\n    .dataframe thead th {\n        text-align: right;\n    }\n</style>\n<table border=\"1\" class=\"dataframe\">\n  <thead>\n    <tr style=\"text-align: right;\">\n      <th></th>\n      <th>id</th>\n      <th>title</th>\n      <th>company</th>\n      <th>location</th>\n      <th>description</th>\n      <th>source</th>\n      <th>search_kw</th>\n    </tr>\n  </thead>\n  <tbody>\n    <tr>\n      <th>0</th>\n      <td>1</td>\n      <td>Data Scientist</td>\n      <td>Aquatic Informatics</td>\n      <td>Vancouver, BC</td>\n      <td>Do you want a meaningful role in a company tha...</td>\n      <td>indeed.com</td>\n      <td>data scientist</td>\n    </tr>\n    <tr>\n      <th>1</th>\n      <td>2</td>\n      <td>Business Intelligence Analyst</td>\n      <td>GLENTEL</td>\n      <td>Burnaby, BC</td>\n      <td>Brand: Glentel Corporate\\nLocation: Burnaby Of...</td>\n      <td>indeed.com</td>\n      <td>data scientist</td>\n    </tr>\n    <tr>\n      <th>2</th>\n      <td>3</td>\n      <td>Human Resources Data Scientist</td>\n      <td>Rio Tinto</td>\n      <td>Canada</td>\n      <td>2 x newly created Data Scientist opportunities...</td>\n      <td>indeed.com</td>\n      <td>data scientist</td>\n    </tr>\n    <tr>\n      <th>3</th>\n      <td>4</td>\n      <td>Lead - Human Resource Data Scientist</td>\n      <td>Rio Tinto</td>\n      <td>Canada</td>\n      <td>Newly created data science lead embedded withi...</td>\n      <td>indeed.com</td>\n      <td>data scientist</td>\n    </tr>\n    <tr>\n      <th>4</th>\n      <td>5</td>\n      <td>Machine Learning Engineer</td>\n      <td>Skycope Technologies Inc</td>\n      <td>Vancouver, BC</td>\n      <td>Who We are\\nFounded in 2016, Skycope Technolog...</td>\n      <td>indeed.com</td>\n      <td>data scientist</td>\n    </tr>\n  </tbody>\n</table>\n</div>",
      "text/plain": "   id                                 title                   company  \\\n0   1                        Data Scientist       Aquatic Informatics   \n1   2         Business Intelligence Analyst                   GLENTEL   \n2   3        Human Resources Data Scientist                 Rio Tinto   \n3   4  Lead - Human Resource Data Scientist                 Rio Tinto   \n4   5             Machine Learning Engineer  Skycope Technologies Inc   \n\n        location                                        description  \\\n0  Vancouver, BC  Do you want a meaningful role in a company tha...   \n1    Burnaby, BC  Brand: Glentel Corporate\\nLocation: Burnaby Of...   \n2         Canada  2 x newly created Data Scientist opportunities...   \n3         Canada  Newly created data science lead embedded withi...   \n4  Vancouver, BC  Who We are\\nFounded in 2016, Skycope Technolog...   \n\n       source       search_kw  \n0  indeed.com  data scientist  \n1  indeed.com  data scientist  \n2  indeed.com  data scientist  \n3  indeed.com  data scientist  \n4  indeed.com  data scientist  "
     },
     "execution_count": 79,
     "metadata": {},
     "output_type": "execute_result"
    }
   ],
   "source": [
    "# Verify that result of SQL query is stored in the dataframe\n",
    "job_df.head()"
   ]
  },
  {
   "cell_type": "code",
   "execution_count": 80,
   "metadata": {},
   "outputs": [],
   "source": [
    "job_descriptions = job_df['description'].to_list()"
   ]
  },
  {
   "cell_type": "code",
   "execution_count": 81,
   "metadata": {},
   "outputs": [
    {
     "name": "stdout",
     "output_type": "stream",
     "text": "FIRST 100 WORDS OF 5 JOB DESCRIPTIONS:\n\nJOB 0\nDo you want a meaningful role in a company that is making a difference in the world? Do you want to \n\nJOB 1\nBrand: Glentel Corporate\nLocation: Burnaby Office - 8501 Commerce Court, Burnaby, BC\nAre you looking\n\nJOB 2\n2 x newly created Data Scientist opportunities embedded within the HR function\nHelp to define and ma\n\nJOB 3\nNewly created data science lead embedded within the HR function\nExciting opportunity to help shape t\n\nJOB 4\nWho We are\nFounded in 2016, Skycope Technologies Inc. is a high tech company based in Burnaby, Canad\n"
    }
   ],
   "source": [
    "print(\"FIRST 100 WORDS OF 5 JOB DESCRIPTIONS:\")\n",
    "for i, description in enumerate(job_descriptions[:5]): \n",
    "    print(\"\\nJOB \"+str(i))\n",
    "    print(description[:100])"
   ]
  },
  {
   "cell_type": "code",
   "execution_count": 88,
   "metadata": {},
   "outputs": [],
   "source": [
    "# Download pretrained enlgish model\n",
    "try:\n",
    "    import en_core_web_sm\n",
    "except:\n",
    "    !python -m spacy download en_core_web_sm\n",
    "    import en_core_web_sm"
   ]
  },
  {
   "cell_type": "code",
   "execution_count": 83,
   "metadata": {},
   "outputs": [],
   "source": [
    "# Pretrained english model (small sized)\n",
    "nlp = en_core_web_sm.load()"
   ]
  },
  {
   "cell_type": "code",
   "execution_count": 46,
   "metadata": {},
   "outputs": [],
   "source": [
    "docs = [nlp(doc) for doc in job_descriptions]"
   ]
  },
  {
   "cell_type": "code",
   "execution_count": 85,
   "metadata": {},
   "outputs": [
    {
     "name": "stdout",
     "output_type": "stream",
     "text": "Do you want a meaningful role in a company that is making a difference in the world?\nDo you want to be involved in one of the most important environmental resource areas today?\nDo you want to learn what's involved in developing and deploying machine learning and predictive analytics solutions from colleagues with years of research and development experience?\nThen join our energetic and growing team and help revolutionize an industry.\n\nAbout\nour company\nFounded in 2003, Aquatic Informatics provides software solutions that address critical water data management, analytics and compliance challenges for the rapidly growing water industry.\nAquatic Informatics is the trusted provider of water management solutions to over 1,000 municipal, federal, state/provincial, hydropower, mining, academic, and consulting organizations in over 60 countries that collect, manage, and process large volumes of water data.\n\nAquatic Informatics' platforms include AQUARIUS (http://aquaticinformatics.com/why-aquarius/) analytics software for natural environments, WaterTrax (https://aquaticinformatics.com/products/watertrax/) compliance and electronic reporting tools for municipalities, Linko (https://aquaticinformatics.com/products/linko/) software for the management of industrial pretreatment and hauled waste records and Tokay (https://www.tokay.com/) for backflow prevention.\nFrom source water through to the receiving environment, our interconnected data management platforms drive the efficient management of water information across the water cycle to protect human health and reduce environmental impact.\n\nAquatic Informatics is headquartered in Vancouver, Canada and has offices in the US and Australia.\nWe are one of the fastest-growing clean technology companies in Canada.\nWe value independent thinking, initiative, teamwork, a relentless pursuit of quality, a playful spirit, and a sense of humour.\nWe like smart people – IQ and EQ – who care about the environment and want to do good in the world.\n\nAbout the opportunity\nYou will become an integral member of the team researching and operationalizing algorithms and models for processing water and other environmental data.\nWorking in an Agile scrum team, you will be exposed to the breadth of data science activities, including hypothesis definition, data wrangling and exploratory data analysis, model development and validation, and production deployment and debugging test and customer-reported issues.\n\nQualifications\n\nMasters or PhD in data science, computer science/engineering, statistics, or a related quantitative discipline.\n\n2+ years of hands-on experience in applied machine learning, predictive modeling and data analysis.\n\nSolid understanding of mathematical concepts and techniques including: time series analysis, regression modeling, forecasting, and machine-learning.\n\nExperience with at least one scientific language (Python, R, Matlab) and knowledge of software design principles.\n\nPassion for data - thrive on using data to solve challenging real-world problems.\n\nLife long learner - incessantly inquisitive about emerging research and technology.\n\nExcellent English communication skills, both verbal and written.\n\nAssets\nExperience with python packages and frameworks including pandas, NumPy, scikit-learn, TensorFlow, and PyTorch.\n\nBackground in environmental science.\n\nExperience with data visualization.\n\nExperience deploying data science solutions in production.\n\nExperience with AWS or other cloud services and cloud technologies.\n"
    }
   ],
   "source": [
    "# Sentence by sentence\n",
    "for sentence in docs[0].sents:\n",
    "    print(sentence)"
   ]
  },
  {
   "cell_type": "code",
   "execution_count": 75,
   "metadata": {},
   "outputs": [
    {
     "name": "stdout",
     "output_type": "stream",
     "text": "Do 0\nyou 3\nwant 7\na 12\nmeaningful 14\nrole 25\nin 30\na 33\ncompany 35\nthat 43\nis 48\nmaking 51\na 58\ndifference 60\nin 71\nthe 74\nworld 78\n? 83\nDo 85\nyou 88\nwant 92\nto 97\nbe 100\ninvolved 103\nin 112\n"
    }
   ],
   "source": [
    "# word by word \n",
    "for token in docs[0][:25]:\n",
    "    print(token, token.idx)"
   ]
  },
  {
   "cell_type": "code",
   "execution_count": 86,
   "metadata": {},
   "outputs": [
    {
     "name": "stdout",
     "output_type": "stream",
     "text": "today DATE\nyears DATE\n2003 DATE\nAquatic Informatics ORG\nAquatic Informatics ORG\nover 1,000 CARDINAL\nover 60 CARDINAL\nAquatic Informatics' ORG\nAQUARIUS ORG\nWaterTrax ORG\nLinko ORG\nhttps://aquaticinformatics.com/products/linko/ ORG\nAquatic Informatics ORG\nVancouver GPE\nCanada GPE\nUS GPE\nAustralia GPE\none CARDINAL\nCanada GPE\nEQ ORG\nPhD WORK_OF_ART\n2+ years DATE\nat least one CARDINAL\nPython ORG\nEnglish LANGUAGE\nNumPy LOC\nTensorFlow PRODUCT\nPyTorch ORG\nAWS ORG\n"
    }
   ],
   "source": [
    "# It is possible to get the entity extracted for every doc along with a label\n",
    "# Check: https://spacy.io/api/annotation#named-entities for further details\n",
    "for item in docs[0].ents:\n",
    "    print(item.text, item.label_)"
   ]
  },
  {
   "cell_type": "code",
   "execution_count": 99,
   "metadata": {},
   "outputs": [
    {
     "name": "stdout",
     "output_type": "stream",
     "text": "BEFORE LEMMATIZATION:\nDo you want a meaningful role in a company that is making a difference in the world? Do you want to be involved in one of the most important environmental resource areas today? Do you want to learn what's involved in developing and deploying machine learning and\n\nAFTER LEMMATIZATION:\ndo -PRON- want a meaningful role in a company that be make a difference in the world ? do -PRON- want to be involve in one of the most important environmental resource area today ? do -PRON- want to learn what be involve in develop and deploy machine learning and\n"
    }
   ],
   "source": [
    "# Show Lemmatization of a sentence/document\n",
    "print(\"BEFORE LEMMATIZATION:\")\n",
    "print(docs[0][:50])\n",
    "print(\"\\nAFTER LEMMATIZATION:\")\n",
    "print(' '.join([token.lemma_ for token in docs[0][:50]]))"
   ]
  },
  {
   "cell_type": "code",
   "execution_count": 159,
   "metadata": {},
   "outputs": [],
   "source": [
    "def sentvec(s):\n",
    "    sent = nlp(s)\n",
    "    return meanv([w.vector for w in sent])\n",
    "\n",
    "def meanv(coords):\n",
    "    # assumes every item in coords has same length as item 0\n",
    "    sumv = [0] * len(coords[0])\n",
    "    for item in coords:\n",
    "        for i in range(len(item)):\n",
    "            sumv[i] += item[i]\n",
    "    mean = [0] * len(sumv)\n",
    "    for i in range(len(sumv)):\n",
    "        mean[i] = float(sumv[i]) / len(coords)\n",
    "    return mean\n",
    "\n",
    "def cosine(v1, v2):\n",
    "    if norm(v1) > 0 and norm(v2) > 0:\n",
    "        return dot(v1, v2) / (norm(v1) * norm(v2))\n",
    "    else:\n",
    "        return 0.0"
   ]
  },
  {
   "cell_type": "code",
   "execution_count": 146,
   "metadata": {},
   "outputs": [],
   "source": [
    "sentences = list(docs[0].sents)"
   ]
  },
  {
   "cell_type": "code",
   "execution_count": 147,
<<<<<<< HEAD
   "metadata": {},
   "outputs": [],
   "source": [
    "def spacy_closest_sent(space, input_str, n=10):\n",
    "    input_vec = sentvec(input_str)\n",
    "    return sorted(space,\n",
    "                  key=lambda x: cosine(np.mean([w.vector for w in x], axis=0), input_vec),\n",
    "                  reverse=True)[:n]"
   ]
  },
  {
   "cell_type": "code",
   "execution_count": 162,
   "metadata": {},
   "outputs": [
    {
     "name": "stdout",
     "output_type": "stream",
     "text": "Life long learner - incessantly inquisitive about emerging research and technology.\n\n---\nExperience with AWS or other cloud services and cloud technologies.\n---\nDo you want to learn what's involved in developing and deploying machine learning and predictive analytics solutions from colleagues with years of research and development experience?\n---\nAbout the opportunity\nYou will become an integral member of the team researching and operationalizing algorithms and models for processing water and other environmental data.\n---\nAbout\n---\nWorking in an Agile scrum team, you will be exposed to the breadth of data science activities, including hypothesis definition, data wrangling and exploratory data analysis, model development and validation, and production deployment and debugging test and customer-reported issues.\n\n---\nSolid understanding of mathematical concepts and techniques including: time series analysis, regression modeling, forecasting, and machine-learning.\n\n---\n2+ years of hands-on experience in applied machine learning, predictive modeling and data analysis.\n\n---\nAquatic Informatics is the trusted provider of water management solutions to over 1,000 municipal, federal, state/provincial, hydropower, mining, academic, and consulting organizations in over 60 countries that collect, manage, and process large volumes of water data.\n\n---\nThen join our energetic and growing team and help revolutionize an industry.\n\n---\n"
    }
   ],
   "source": [
    "for sent in spacy_closest_sent(sentences, \"Learning forever and ever\"):\n",
    "    print(sent.text)\n",
    "    print(\"---\")"
=======
   "metadata": {},
   "outputs": [],
   "source": [
    "def spacy_closest_sent(space, input_str, n=10):\n",
    "    input_vec = sentvec(input_str)\n",
    "    return sorted(space,\n",
    "                  key=lambda x: cosine(np.mean([w.vector for w in x], axis=0), input_vec),\n",
    "                  reverse=True)[:n]"
   ]
  },
  {
   "cell_type": "code",
   "execution_count": 162,
   "metadata": {},
   "outputs": [
    {
     "name": "stdout",
     "output_type": "stream",
     "text": "Life long learner - incessantly inquisitive about emerging research and technology.\n\n---\nExperience with AWS or other cloud services and cloud technologies.\n---\nDo you want to learn what's involved in developing and deploying machine learning and predictive analytics solutions from colleagues with years of research and development experience?\n---\nAbout the opportunity\nYou will become an integral member of the team researching and operationalizing algorithms and models for processing water and other environmental data.\n---\nAbout\n---\nWorking in an Agile scrum team, you will be exposed to the breadth of data science activities, including hypothesis definition, data wrangling and exploratory data analysis, model development and validation, and production deployment and debugging test and customer-reported issues.\n\n---\nSolid understanding of mathematical concepts and techniques including: time series analysis, regression modeling, forecasting, and machine-learning.\n\n---\n2+ years of hands-on experience in applied machine learning, predictive modeling and data analysis.\n\n---\nAquatic Informatics is the trusted provider of water management solutions to over 1,000 municipal, federal, state/provincial, hydropower, mining, academic, and consulting organizations in over 60 countries that collect, manage, and process large volumes of water data.\n\n---\nThen join our energetic and growing team and help revolutionize an industry.\n\n---\n"
    }
   ],
   "source": [
    "for sent in spacy_closest_sent(sentences, \"Learning forever and ever\"):\n",
    "    print(sent.text)\n",
    "    print(\"---\")"
   ]
  },
  {
   "cell_type": "code",
   "execution_count": null,
   "metadata": {},
   "outputs": [],
   "source": [
    "# print()\n",
    "# print()"
>>>>>>> 0981c7913df6eacb0e4551dfcde4a711321e9cec
   ]
  }
 ],
 "metadata": {
  "kernelspec": {
   "name": "python37564bitvenvvenva3138b71e4064f57aed9d81ac75a212c",
   "display_name": "Python 3.7.5 64-bit ('venv': venv)"
  }
 },
 "nbformat": 4,
 "nbformat_minor": 4
}