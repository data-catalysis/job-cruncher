{
 "cells": [
  {
   "cell_type": "markdown",
   "metadata": {},
   "source": [
    "# Insight into Job Reviews Data Set "
   ]
  },
  {
   "cell_type": "code",
   "execution_count": 6,
   "metadata": {},
   "outputs": [
    {
     "data": {
      "text/html": [
       "        <script type=\"text/javascript\">\n",
       "        window.PlotlyConfig = {MathJaxConfig: 'local'};\n",
       "        if (window.MathJax) {MathJax.Hub.Config({SVG: {font: \"STIX-Web\"}});}\n",
       "        if (typeof require !== 'undefined') {\n",
       "        require.undef(\"plotly\");\n",
       "        requirejs.config({\n",
       "            paths: {\n",
       "                'plotly': ['https://cdn.plot.ly/plotly-latest.min']\n",
       "            }\n",
       "        });\n",
       "        require(['plotly'], function(Plotly) {\n",
       "            window._Plotly = Plotly;\n",
       "        });\n",
       "        }\n",
       "        </script>\n",
       "        "
      ]
     },
     "metadata": {},
     "output_type": "display_data"
    }
   ],
   "source": [
    "import pandas as pd\n",
    "import sqlite3\n",
    "import cufflinks as cf\n",
    "from textblob import TextBlob\n",
    "cf.go_offline()\n",
    "cf.set_config_file(offline=False, world_readable=True)"
   ]
  },
  {
   "cell_type": "markdown",
   "metadata": {},
   "source": [
    "# Reading the data"
   ]
  },
  {
   "cell_type": "code",
   "execution_count": 7,
   "metadata": {},
   "outputs": [],
   "source": [
    "con = sqlite3.connect(\"collectors/data.sqlite3\")\n",
    "df = pd.read_sql_query(\"SELECT * from company_review\", con)\n",
    "con.close()"
   ]
  },
  {
   "cell_type": "code",
   "execution_count": 8,
   "metadata": {},
   "outputs": [
    {
     "data": {
      "text/html": [
       "<div>\n",
       "<style scoped>\n",
       "    .dataframe tbody tr th:only-of-type {\n",
       "        vertical-align: middle;\n",
       "    }\n",
       "\n",
       "    .dataframe tbody tr th {\n",
       "        vertical-align: top;\n",
       "    }\n",
       "\n",
       "    .dataframe thead th {\n",
       "        text-align: right;\n",
       "    }\n",
       "</style>\n",
       "<table border=\"1\" class=\"dataframe\">\n",
       "  <thead>\n",
       "    <tr style=\"text-align: right;\">\n",
       "      <th></th>\n",
       "      <th>id</th>\n",
       "      <th>company</th>\n",
       "      <th>rating</th>\n",
       "      <th>author</th>\n",
       "      <th>author_status</th>\n",
       "      <th>location</th>\n",
       "      <th>date</th>\n",
       "      <th>description</th>\n",
       "      <th>source</th>\n",
       "    </tr>\n",
       "  </thead>\n",
       "  <tbody>\n",
       "    <tr>\n",
       "      <th>0</th>\n",
       "      <td>1</td>\n",
       "      <td>bmo financial group</td>\n",
       "      <td>3.0</td>\n",
       "      <td>Credit Analyst (Current Employee)</td>\n",
       "      <td>N/A</td>\n",
       "      <td>Burnaby, BC</td>\n",
       "      <td>11 July 2018</td>\n",
       "      <td>Not a bad job but can get boring easily. Manag...</td>\n",
       "      <td>indeed.com</td>\n",
       "    </tr>\n",
       "    <tr>\n",
       "      <th>1</th>\n",
       "      <td>2</td>\n",
       "      <td>bmo financial group</td>\n",
       "      <td>3.0</td>\n",
       "      <td>Project Manager (Former Employee)</td>\n",
       "      <td>N/A</td>\n",
       "      <td>Toronto, ON</td>\n",
       "      <td>7 April 2020</td>\n",
       "      <td>co-workers are friendly but pay is not good at...</td>\n",
       "      <td>indeed.com</td>\n",
       "    </tr>\n",
       "    <tr>\n",
       "      <th>2</th>\n",
       "      <td>3</td>\n",
       "      <td>bmo financial group</td>\n",
       "      <td>1.0</td>\n",
       "      <td>Assistant Manager (Former Employee)</td>\n",
       "      <td>N/A</td>\n",
       "      <td>Cambridge, ON</td>\n",
       "      <td>6 April 2020</td>\n",
       "      <td>They give you the illusion of how great of a j...</td>\n",
       "      <td>indeed.com</td>\n",
       "    </tr>\n",
       "    <tr>\n",
       "      <th>3</th>\n",
       "      <td>4</td>\n",
       "      <td>bmo financial group</td>\n",
       "      <td>2.0</td>\n",
       "      <td>Software Specialist (Former Employee)</td>\n",
       "      <td>N/A</td>\n",
       "      <td>Toronto, ON</td>\n",
       "      <td>6 April 2020</td>\n",
       "      <td>Basically, in BMO agile team, they hire 5+ per...</td>\n",
       "      <td>indeed.com</td>\n",
       "    </tr>\n",
       "    <tr>\n",
       "      <th>4</th>\n",
       "      <td>5</td>\n",
       "      <td>bmo financial group</td>\n",
       "      <td>5.0</td>\n",
       "      <td>Relationship Manager (Current Employee)</td>\n",
       "      <td>N/A</td>\n",
       "      <td>Nanaimo, BC</td>\n",
       "      <td>4 April 2020</td>\n",
       "      <td>Work/life balance and customer centric. Traini...</td>\n",
       "      <td>indeed.com</td>\n",
       "    </tr>\n",
       "    <tr>\n",
       "      <th>...</th>\n",
       "      <td>...</td>\n",
       "      <td>...</td>\n",
       "      <td>...</td>\n",
       "      <td>...</td>\n",
       "      <td>...</td>\n",
       "      <td>...</td>\n",
       "      <td>...</td>\n",
       "      <td>...</td>\n",
       "      <td>...</td>\n",
       "    </tr>\n",
       "    <tr>\n",
       "      <th>790</th>\n",
       "      <td>791</td>\n",
       "      <td>amazon</td>\n",
       "      <td>2.0</td>\n",
       "      <td>Order Picker/Forklift Operator (Former Employee)</td>\n",
       "      <td>N/A</td>\n",
       "      <td>Ottawa, ON</td>\n",
       "      <td>18 January 2020</td>\n",
       "      <td>Very fast paced hard on your feet need very co...</td>\n",
       "      <td>indeed.com</td>\n",
       "    </tr>\n",
       "    <tr>\n",
       "      <th>791</th>\n",
       "      <td>792</td>\n",
       "      <td>amazon</td>\n",
       "      <td>1.0</td>\n",
       "      <td>Hard worker (Current Employee)</td>\n",
       "      <td>N/A</td>\n",
       "      <td>Brampton, ON</td>\n",
       "      <td>18 January 2020</td>\n",
       "      <td>Alotta bad stuff happened i would report it an...</td>\n",
       "      <td>indeed.com</td>\n",
       "    </tr>\n",
       "    <tr>\n",
       "      <th>792</th>\n",
       "      <td>793</td>\n",
       "      <td>amazon</td>\n",
       "      <td>4.0</td>\n",
       "      <td>Risk Analyst • Fraud Risk &amp; Compliance (Former...</td>\n",
       "      <td>N/A</td>\n",
       "      <td>Barrie, ON</td>\n",
       "      <td>18 January 2020</td>\n",
       "      <td>It is a good company . I would recommend peopl...</td>\n",
       "      <td>indeed.com</td>\n",
       "    </tr>\n",
       "    <tr>\n",
       "      <th>793</th>\n",
       "      <td>794</td>\n",
       "      <td>amazon</td>\n",
       "      <td>4.0</td>\n",
       "      <td>seasonal warehouse associate (Former Employee)</td>\n",
       "      <td>N/A</td>\n",
       "      <td>Brampton, ON</td>\n",
       "      <td>17 January 2020</td>\n",
       "      <td>it is a faced paced work environment and compe...</td>\n",
       "      <td>indeed.com</td>\n",
       "    </tr>\n",
       "    <tr>\n",
       "      <th>794</th>\n",
       "      <td>795</td>\n",
       "      <td>amazon</td>\n",
       "      <td>4.0</td>\n",
       "      <td>Associate (Former Employee)</td>\n",
       "      <td>N/A</td>\n",
       "      <td>293069 Colonel Roberts Way. Balzac, AB</td>\n",
       "      <td>17 January 2020</td>\n",
       "      <td>Its very amazing experience with all of nice p...</td>\n",
       "      <td>indeed.com</td>\n",
       "    </tr>\n",
       "  </tbody>\n",
       "</table>\n",
       "<p>795 rows × 9 columns</p>\n",
       "</div>"
      ],
      "text/plain": [
       "      id              company rating  \\\n",
       "0      1  bmo financial group    3.0   \n",
       "1      2  bmo financial group    3.0   \n",
       "2      3  bmo financial group    1.0   \n",
       "3      4  bmo financial group    2.0   \n",
       "4      5  bmo financial group    5.0   \n",
       "..   ...                  ...    ...   \n",
       "790  791               amazon    2.0   \n",
       "791  792               amazon    1.0   \n",
       "792  793               amazon    4.0   \n",
       "793  794               amazon    4.0   \n",
       "794  795               amazon    4.0   \n",
       "\n",
       "                                                author author_status  \\\n",
       "0                   Credit Analyst (Current Employee)            N/A   \n",
       "1                   Project Manager (Former Employee)            N/A   \n",
       "2                 Assistant Manager (Former Employee)            N/A   \n",
       "3               Software Specialist (Former Employee)            N/A   \n",
       "4             Relationship Manager (Current Employee)            N/A   \n",
       "..                                                 ...           ...   \n",
       "790  Order Picker/Forklift Operator (Former Employee)            N/A   \n",
       "791                    Hard worker (Current Employee)            N/A   \n",
       "792  Risk Analyst • Fraud Risk & Compliance (Former...           N/A   \n",
       "793    seasonal warehouse associate (Former Employee)            N/A   \n",
       "794                       Associate (Former Employee)            N/A   \n",
       "\n",
       "                                     location              date  \\\n",
       "0                                Burnaby, BC       11 July 2018   \n",
       "1                                Toronto, ON       7 April 2020   \n",
       "2                              Cambridge, ON       6 April 2020   \n",
       "3                                Toronto, ON       6 April 2020   \n",
       "4                                Nanaimo, BC       4 April 2020   \n",
       "..                                        ...               ...   \n",
       "790                               Ottawa, ON    18 January 2020   \n",
       "791                             Brampton, ON    18 January 2020   \n",
       "792                               Barrie, ON    18 January 2020   \n",
       "793                             Brampton, ON    17 January 2020   \n",
       "794   293069 Colonel Roberts Way. Balzac, AB    17 January 2020   \n",
       "\n",
       "                                           description      source  \n",
       "0    Not a bad job but can get boring easily. Manag...  indeed.com  \n",
       "1    co-workers are friendly but pay is not good at...  indeed.com  \n",
       "2    They give you the illusion of how great of a j...  indeed.com  \n",
       "3    Basically, in BMO agile team, they hire 5+ per...  indeed.com  \n",
       "4    Work/life balance and customer centric. Traini...  indeed.com  \n",
       "..                                                 ...         ...  \n",
       "790  Very fast paced hard on your feet need very co...  indeed.com  \n",
       "791  Alotta bad stuff happened i would report it an...  indeed.com  \n",
       "792  It is a good company . I would recommend peopl...  indeed.com  \n",
       "793  it is a faced paced work environment and compe...  indeed.com  \n",
       "794  Its very amazing experience with all of nice p...  indeed.com  \n",
       "\n",
       "[795 rows x 9 columns]"
      ]
     },
     "execution_count": 8,
     "metadata": {},
     "output_type": "execute_result"
    }
   ],
   "source": [
    "df.drop('title', axis=1, inplace=True)\n",
    "df"
   ]
  },
  {
   "cell_type": "markdown",
   "metadata": {},
   "source": [
    "# Data Preprocessing"
   ]
  },
  {
   "cell_type": "code",
   "execution_count": 9,
   "metadata": {},
   "outputs": [],
   "source": [
    "df = df[~df['description'].isnull()]\n",
    "\n",
    "def preprocess(DescriptionText):\n",
    "    DescriptionText = DescriptionText.str.replace(\"(<br/>)\", \"\")\n",
    "    DescriptionText = DescriptionText.str.replace('(<a).*(>).*(</a>)', '')\n",
    "    DescriptionText = DescriptionText.str.replace('(&amp)', '')\n",
    "    DescriptionText = DescriptionText.str.replace('(&gt)', '')\n",
    "    DescriptionText = DescriptionText.str.replace('(&lt)', '')\n",
    "    DescriptionText = DescriptionText.str.replace('(\\xa0)', ' ')  \n",
    "    return DescriptionText\n",
    "df['description'] = preprocess(df['description'])\n",
    "\n"
   ]
  },
  {
   "cell_type": "markdown",
   "metadata": {},
   "source": [
    "# Sentiment Analysis on Job Reviews given by Employees"
   ]
  },
  {
   "cell_type": "code",
   "execution_count": 10,
   "metadata": {},
   "outputs": [],
   "source": [
    "df['polarity'] = df['description'].map(lambda text: TextBlob(text).sentiment.polarity)\n"
   ]
  },
  {
   "cell_type": "code",
   "execution_count": 11,
   "metadata": {},
   "outputs": [
    {
     "data": {
      "text/html": [
       "<div>\n",
       "<style scoped>\n",
       "    .dataframe tbody tr th:only-of-type {\n",
       "        vertical-align: middle;\n",
       "    }\n",
       "\n",
       "    .dataframe tbody tr th {\n",
       "        vertical-align: top;\n",
       "    }\n",
       "\n",
       "    .dataframe thead th {\n",
       "        text-align: right;\n",
       "    }\n",
       "</style>\n",
       "<table border=\"1\" class=\"dataframe\">\n",
       "  <thead>\n",
       "    <tr style=\"text-align: right;\">\n",
       "      <th></th>\n",
       "      <th>id</th>\n",
       "      <th>company</th>\n",
       "      <th>rating</th>\n",
       "      <th>author</th>\n",
       "      <th>author_status</th>\n",
       "      <th>location</th>\n",
       "      <th>date</th>\n",
       "      <th>description</th>\n",
       "      <th>source</th>\n",
       "      <th>polarity</th>\n",
       "    </tr>\n",
       "  </thead>\n",
       "  <tbody>\n",
       "    <tr>\n",
       "      <th>0</th>\n",
       "      <td>1</td>\n",
       "      <td>bmo financial group</td>\n",
       "      <td>3.0</td>\n",
       "      <td>Credit Analyst (Current Employee)</td>\n",
       "      <td>N/A</td>\n",
       "      <td>Burnaby, BC</td>\n",
       "      <td>11 July 2018</td>\n",
       "      <td>Not a bad job but can get boring easily. Manag...</td>\n",
       "      <td>indeed.com</td>\n",
       "      <td>0.154762</td>\n",
       "    </tr>\n",
       "    <tr>\n",
       "      <th>1</th>\n",
       "      <td>2</td>\n",
       "      <td>bmo financial group</td>\n",
       "      <td>3.0</td>\n",
       "      <td>Project Manager (Former Employee)</td>\n",
       "      <td>N/A</td>\n",
       "      <td>Toronto, ON</td>\n",
       "      <td>7 April 2020</td>\n",
       "      <td>co-workers are friendly but pay is not good at...</td>\n",
       "      <td>indeed.com</td>\n",
       "      <td>0.151190</td>\n",
       "    </tr>\n",
       "    <tr>\n",
       "      <th>2</th>\n",
       "      <td>3</td>\n",
       "      <td>bmo financial group</td>\n",
       "      <td>1.0</td>\n",
       "      <td>Assistant Manager (Former Employee)</td>\n",
       "      <td>N/A</td>\n",
       "      <td>Cambridge, ON</td>\n",
       "      <td>6 April 2020</td>\n",
       "      <td>They give you the illusion of how great of a j...</td>\n",
       "      <td>indeed.com</td>\n",
       "      <td>0.179167</td>\n",
       "    </tr>\n",
       "    <tr>\n",
       "      <th>3</th>\n",
       "      <td>4</td>\n",
       "      <td>bmo financial group</td>\n",
       "      <td>2.0</td>\n",
       "      <td>Software Specialist (Former Employee)</td>\n",
       "      <td>N/A</td>\n",
       "      <td>Toronto, ON</td>\n",
       "      <td>6 April 2020</td>\n",
       "      <td>Basically, in BMO agile team, they hire 5+ per...</td>\n",
       "      <td>indeed.com</td>\n",
       "      <td>0.000000</td>\n",
       "    </tr>\n",
       "    <tr>\n",
       "      <th>4</th>\n",
       "      <td>5</td>\n",
       "      <td>bmo financial group</td>\n",
       "      <td>5.0</td>\n",
       "      <td>Relationship Manager (Current Employee)</td>\n",
       "      <td>N/A</td>\n",
       "      <td>Nanaimo, BC</td>\n",
       "      <td>4 April 2020</td>\n",
       "      <td>Work/life balance and customer centric. Traini...</td>\n",
       "      <td>indeed.com</td>\n",
       "      <td>0.250000</td>\n",
       "    </tr>\n",
       "    <tr>\n",
       "      <th>...</th>\n",
       "      <td>...</td>\n",
       "      <td>...</td>\n",
       "      <td>...</td>\n",
       "      <td>...</td>\n",
       "      <td>...</td>\n",
       "      <td>...</td>\n",
       "      <td>...</td>\n",
       "      <td>...</td>\n",
       "      <td>...</td>\n",
       "      <td>...</td>\n",
       "    </tr>\n",
       "    <tr>\n",
       "      <th>790</th>\n",
       "      <td>791</td>\n",
       "      <td>amazon</td>\n",
       "      <td>2.0</td>\n",
       "      <td>Order Picker/Forklift Operator (Former Employee)</td>\n",
       "      <td>N/A</td>\n",
       "      <td>Ottawa, ON</td>\n",
       "      <td>18 January 2020</td>\n",
       "      <td>Very fast paced hard on your feet need very co...</td>\n",
       "      <td>indeed.com</td>\n",
       "      <td>0.047667</td>\n",
       "    </tr>\n",
       "    <tr>\n",
       "      <th>791</th>\n",
       "      <td>792</td>\n",
       "      <td>amazon</td>\n",
       "      <td>1.0</td>\n",
       "      <td>Hard worker (Current Employee)</td>\n",
       "      <td>N/A</td>\n",
       "      <td>Brampton, ON</td>\n",
       "      <td>18 January 2020</td>\n",
       "      <td>Alotta bad stuff happened i would report it an...</td>\n",
       "      <td>indeed.com</td>\n",
       "      <td>-0.500000</td>\n",
       "    </tr>\n",
       "    <tr>\n",
       "      <th>792</th>\n",
       "      <td>793</td>\n",
       "      <td>amazon</td>\n",
       "      <td>4.0</td>\n",
       "      <td>Risk Analyst • Fraud Risk &amp; Compliance (Former...</td>\n",
       "      <td>N/A</td>\n",
       "      <td>Barrie, ON</td>\n",
       "      <td>18 January 2020</td>\n",
       "      <td>It is a good company . I would recommend peopl...</td>\n",
       "      <td>indeed.com</td>\n",
       "      <td>0.511111</td>\n",
       "    </tr>\n",
       "    <tr>\n",
       "      <th>793</th>\n",
       "      <td>794</td>\n",
       "      <td>amazon</td>\n",
       "      <td>4.0</td>\n",
       "      <td>seasonal warehouse associate (Former Employee)</td>\n",
       "      <td>N/A</td>\n",
       "      <td>Brampton, ON</td>\n",
       "      <td>17 January 2020</td>\n",
       "      <td>it is a faced paced work environment and compe...</td>\n",
       "      <td>indeed.com</td>\n",
       "      <td>0.100000</td>\n",
       "    </tr>\n",
       "    <tr>\n",
       "      <th>794</th>\n",
       "      <td>795</td>\n",
       "      <td>amazon</td>\n",
       "      <td>4.0</td>\n",
       "      <td>Associate (Former Employee)</td>\n",
       "      <td>N/A</td>\n",
       "      <td>293069 Colonel Roberts Way. Balzac, AB</td>\n",
       "      <td>17 January 2020</td>\n",
       "      <td>Its very amazing experience with all of nice p...</td>\n",
       "      <td>indeed.com</td>\n",
       "      <td>0.426929</td>\n",
       "    </tr>\n",
       "  </tbody>\n",
       "</table>\n",
       "<p>795 rows × 10 columns</p>\n",
       "</div>"
      ],
      "text/plain": [
       "      id              company rating  \\\n",
       "0      1  bmo financial group    3.0   \n",
       "1      2  bmo financial group    3.0   \n",
       "2      3  bmo financial group    1.0   \n",
       "3      4  bmo financial group    2.0   \n",
       "4      5  bmo financial group    5.0   \n",
       "..   ...                  ...    ...   \n",
       "790  791               amazon    2.0   \n",
       "791  792               amazon    1.0   \n",
       "792  793               amazon    4.0   \n",
       "793  794               amazon    4.0   \n",
       "794  795               amazon    4.0   \n",
       "\n",
       "                                                author author_status  \\\n",
       "0                   Credit Analyst (Current Employee)            N/A   \n",
       "1                   Project Manager (Former Employee)            N/A   \n",
       "2                 Assistant Manager (Former Employee)            N/A   \n",
       "3               Software Specialist (Former Employee)            N/A   \n",
       "4             Relationship Manager (Current Employee)            N/A   \n",
       "..                                                 ...           ...   \n",
       "790  Order Picker/Forklift Operator (Former Employee)            N/A   \n",
       "791                    Hard worker (Current Employee)            N/A   \n",
       "792  Risk Analyst • Fraud Risk & Compliance (Former...           N/A   \n",
       "793    seasonal warehouse associate (Former Employee)            N/A   \n",
       "794                       Associate (Former Employee)            N/A   \n",
       "\n",
       "                                     location              date  \\\n",
       "0                                Burnaby, BC       11 July 2018   \n",
       "1                                Toronto, ON       7 April 2020   \n",
       "2                              Cambridge, ON       6 April 2020   \n",
       "3                                Toronto, ON       6 April 2020   \n",
       "4                                Nanaimo, BC       4 April 2020   \n",
       "..                                        ...               ...   \n",
       "790                               Ottawa, ON    18 January 2020   \n",
       "791                             Brampton, ON    18 January 2020   \n",
       "792                               Barrie, ON    18 January 2020   \n",
       "793                             Brampton, ON    17 January 2020   \n",
       "794   293069 Colonel Roberts Way. Balzac, AB    17 January 2020   \n",
       "\n",
       "                                           description      source  polarity  \n",
       "0    Not a bad job but can get boring easily. Manag...  indeed.com  0.154762  \n",
       "1    co-workers are friendly but pay is not good at...  indeed.com  0.151190  \n",
       "2    They give you the illusion of how great of a j...  indeed.com  0.179167  \n",
       "3    Basically, in BMO agile team, they hire 5+ per...  indeed.com  0.000000  \n",
       "4    Work/life balance and customer centric. Traini...  indeed.com  0.250000  \n",
       "..                                                 ...         ...       ...  \n",
       "790  Very fast paced hard on your feet need very co...  indeed.com  0.047667  \n",
       "791  Alotta bad stuff happened i would report it an...  indeed.com -0.500000  \n",
       "792  It is a good company . I would recommend peopl...  indeed.com  0.511111  \n",
       "793  it is a faced paced work environment and compe...  indeed.com  0.100000  \n",
       "794  Its very amazing experience with all of nice p...  indeed.com  0.426929  \n",
       "\n",
       "[795 rows x 10 columns]"
      ]
     },
     "execution_count": 11,
     "metadata": {},
     "output_type": "execute_result"
    }
   ],
   "source": [
    "df"
   ]
  },
  {
   "cell_type": "markdown",
   "metadata": {},
   "source": [
    "# Sentiment Polarity Distribution"
   ]
  },
  {
   "cell_type": "code",
   "execution_count": 12,
   "metadata": {},
   "outputs": [
    {
     "data": {
      "application/vnd.plotly.v1+json": {
       "config": {
        "linkText": "Export to plot.ly",
        "plotlyServerURL": "https://plot.ly",
        "showLink": true
       },
       "data": [
        {
         "histfunc": "count",
         "histnorm": "",
         "marker": {
          "color": "rgba(55, 128, 191, 1.0)",
          "line": {
           "color": "#000000",
           "width": 1.3
          }
         },
         "name": "polarity",
         "nbinsx": 50,
         "opacity": 0.8,
         "orientation": "v",
         "type": "histogram",
         "x": [
          0.15476190476190474,
          0.15119047619047618,
          0.17916666666666664,
          0,
          0.25,
          0.28106060606060607,
          0.05,
          0.5,
          0.75,
          0.35,
          0.12499999999999999,
          0.075,
          -0.175,
          -0.12916666666666665,
          0.2595779220779221,
          0.14285714285714285,
          0.2907828282828283,
          0.08666666666666667,
          0.2016666666666666,
          0.552,
          0.55,
          0.15476190476190474,
          0.6090909090909091,
          0.3,
          0.09583333333333333,
          0.49285714285714277,
          0.37,
          -0.225,
          0.19,
          -0.26666666666666666,
          0.15,
          0.625,
          0.26666666666666666,
          0.30333333333333334,
          0.15,
          0.21999999999999997,
          0.3032312925170068,
          0.04583333333333334,
          -0.2,
          -0.25,
          0.26333333333333336,
          0.4,
          0.15476190476190474,
          -0.29733333333333334,
          0.22746212121212123,
          0.18333333333333335,
          0.35000000000000003,
          0.55,
          0.1574074074074074,
          0.3333333333333333,
          0.7,
          -0.11388888888888889,
          0.25,
          -0.033333333333333326,
          0.5333333333333333,
          0.7000000000000001,
          0.2802083333333333,
          -0.09102132435465768,
          0.5499999999999999,
          0.42000000000000004,
          0.52,
          0.20952380952380953,
          0.11800000000000006,
          0.15476190476190474,
          0.25571428571428567,
          0.1375,
          0.39999999999999997,
          -0.1138095238095238,
          0.5366666666666666,
          0.08181818181818182,
          0.5,
          0.21428571428571427,
          0.5181818181818181,
          0.011111111111111118,
          0.24430735930735928,
          0.2489583333333333,
          0.17666666666666667,
          0.5916666666666667,
          0.2416666666666667,
          0.12156385281385279,
          0.4777777777777777,
          0.35,
          0.25,
          0.175,
          0.15476190476190474,
          -0.0625,
          0.3,
          0.09999999999999999,
          0.4,
          0.2333333333333333,
          -0.23428571428571426,
          0.3375,
          -0.05757575757575758,
          0.4,
          0.056250000000000036,
          -0.08541666666666665,
          0.2654761904761905,
          0.44999999999999996,
          0.07083333333333335,
          -0.04333333333333334,
          0.42000000000000004,
          -0.3333333333333333,
          -0.041666666666666685,
          0.3828125,
          0.08,
          0.15476190476190474,
          0.3833333333333333,
          0.4583333333333333,
          0.29570995670995676,
          0.5,
          0.512,
          0.33376623376623377,
          0.190625,
          0.4125,
          0,
          -0.052142857142857144,
          -0.024999999999999994,
          0.3714166666666666,
          3.700743415417188e-17,
          0.55,
          -0.04262820512820513,
          0.14541666666666664,
          0.08333333333333333,
          0.54,
          0.375,
          0.16666666666666666,
          0.15476190476190474,
          0,
          0.35333333333333333,
          0.5166666666666667,
          0.4672727272727272,
          0.09999999999999999,
          -0.0625,
          0.3333333333333333,
          -0.016666666666666663,
          0.1,
          0.16,
          0.25476190476190474,
          -0.07517857142857146,
          0,
          0.19166666666666665,
          0.23030303030303031,
          0.38749999999999996,
          0.05333333333333334,
          0.38333333333333336,
          0.3,
          0,
          0.15476190476190474,
          0.8250000000000001,
          0.09642857142857142,
          0.37,
          0.1606060606060606,
          0.05059523809523809,
          0.5047619047619047,
          -0.2475,
          -0.29000000000000004,
          0.5964285714285713,
          0.35900000000000004,
          0.61875,
          0.20555555555555557,
          0.13333333333333333,
          0.48333333333333334,
          0.18333333333333332,
          0.2427083333333333,
          0.275,
          0.6714285714285714,
          -0.125,
          0.56,
          0.15476190476190474,
          0.7708333333333334,
          0.19583333333333333,
          0.3666666666666667,
          -0.02999999999999999,
          -0.1,
          0.2,
          0.15,
          0.03750000000000001,
          -0.008928571428571428,
          -0.10740740740740741,
          0.290625,
          0.15,
          -0.07083333333333335,
          0.56875,
          0.35833333333333334,
          0.82,
          0.48,
          0.4166666666666667,
          0,
          0.125,
          0.15476190476190474,
          0.15,
          0.525,
          0.050000000000000024,
          0.675,
          0.16428571428571428,
          0.43333333333333335,
          0.17351190476190476,
          0.61,
          0.13939393939393938,
          0.28125,
          0.3011111111111111,
          0.04563492063492064,
          0.16818181818181818,
          0.34706959706959706,
          0.415625,
          -0.15416666666666667,
          0,
          0.07142857142857147,
          0,
          0.3025555555555555,
          0.5666666666666667,
          0.062337662337662345,
          -0.09166666666666667,
          0.78,
          -0.125,
          0.55,
          -0.09999999999999998,
          0.3404761904761905,
          0.12499999999999999,
          0.0465909090909091,
          -0.1233333333333333,
          0.3011111111111111,
          0.21000000000000002,
          0.2857142857142857,
          0.45,
          0.5,
          -0.2708333333333333,
          0.425,
          0.46,
          0.6625000000000001,
          0.025,
          0.1603333333333333,
          0.6666666666666666,
          0.315,
          0,
          0.4166666666666667,
          0.3092261904761905,
          0.7666666666666666,
          0.23714285714285716,
          0.9,
          0.30833333333333335,
          0.016666666666666663,
          0.3011111111111111,
          0.12499999999999999,
          0.26666666666666666,
          0.12857142857142856,
          0.64375,
          0.09473800505050509,
          0.26666666666666666,
          -0.4444444444444444,
          0.39,
          0.38227272727272726,
          0.1,
          0.15302197802197803,
          0.312,
          -0.05500000000000001,
          0.42857142857142855,
          0.13154761904761905,
          0.22666666666666666,
          0.5333333333333333,
          0.1270408163265306,
          0.375,
          0.2058641975308642,
          0.3011111111111111,
          0.04545454545454545,
          0.41666666666666663,
          0.7,
          0.03472222222222221,
          -0.0625,
          -0.09593750000000001,
          0.10583333333333336,
          0.49000000000000005,
          0.7,
          0.5519999999999999,
          0.425,
          0.11666666666666665,
          -0.2713333333333333,
          0.23579545454545453,
          0.24000000000000005,
          0.3011111111111111,
          0.5687500000000001,
          0.08029556650246306,
          0.03749999999999998,
          0.17612500000000003,
          0.3011111111111111,
          0.15925324675324676,
          0.8,
          -0.2916666666666667,
          0.30370370370370364,
          0.1388888888888889,
          0.39999999999999997,
          0.2375,
          0.39,
          0.3979591836734694,
          -0.044642857142857144,
          0.26055555555555554,
          0.07083333333333335,
          0.315,
          0.1777685950413223,
          0.4666666666666666,
          0.04519230769230769,
          0.5049913194444444,
          0.38,
          0.4475,
          0.33749999999999997,
          0.3011111111111111,
          -0.08,
          0.44999999999999996,
          -0.3499999999999999,
          0.21666666666666667,
          0.11666666666666665,
          -0.037777777777777764,
          0.11499999999999999,
          0.19844155844155842,
          0.5733333333333334,
          -0.09722222222222217,
          0.29005681818181817,
          0.4,
          0.475,
          0.08416666666666665,
          0.031237373737373723,
          0.14583333333333334,
          0.16,
          -0.2875,
          0.7666666666666666,
          0.20937499999999998,
          0.3011111111111111,
          0.24375,
          0.5491666666666667,
          0.22937500000000002,
          0.5,
          0.5083333333333334,
          0.20000000000000004,
          0.2511904761904762,
          -0.008333333333333323,
          0.06516666666666668,
          0.2153246753246753,
          0.42000000000000004,
          0.18333333333333332,
          0.45,
          0.16924603174603176,
          0.425,
          0.3114478114478115,
          0.2125,
          -0.21666666666666667,
          0.175,
          -0.5,
          0.3011111111111111,
          0.7000000000000001,
          0.3714285714285714,
          0.38939393939393935,
          0.04545454545454545,
          0.33055555555555555,
          0.30833333333333335,
          0.6166666666666667,
          -0.5,
          0.1965909090909091,
          0.18214285714285716,
          0.7,
          -0.4333333333333334,
          0.14999999999999997,
          -0.09999999999999999,
          0.13874999999999998,
          0.32410052910052906,
          0,
          0,
          0.5033333333333334,
          0.07444444444444444,
          0.3011111111111111,
          -0.05505050505050505,
          0.48333333333333334,
          0,
          0.34285714285714286,
          -0.038214285714285715,
          0.3,
          0.35,
          0.15625,
          0.1346641156462585,
          0.11111111111111112,
          0.72,
          0.30000000000000004,
          0.41111111111111115,
          0.225,
          0.28888888888888886,
          0.6666666666666666,
          0.2333333333333333,
          -0.06937499999999999,
          0.10680272108843537,
          0.5166666666666666,
          0.3011111111111111,
          -0.4826388888888889,
          -0.015151515151515152,
          0.11499999999999999,
          0.4590909090909091,
          0,
          -0.11785714285714285,
          0.3666666666666667,
          0.0826388888888889,
          0.40496632996633,
          0.475,
          0.175,
          0.54,
          0.1878787878787879,
          0.2090909090909091,
          0.4055555555555556,
          0.40428571428571425,
          0.12698412698412698,
          0.13396464646464648,
          0.39255244755244767,
          0.3151275510204082,
          0.26038690476190474,
          0.4,
          0.5,
          0.16999999999999998,
          0.4916666666666667,
          -0.3261363636363636,
          0,
          -0.09999999999999999,
          -0.1528571428571429,
          0.425,
          -0.0375,
          0.18666666666666668,
          0.05555555555555556,
          0.8125,
          -0.27999999999999997,
          0.20666666666666664,
          0,
          0.03430555555555557,
          0.09027777777777778,
          0.27555555555555555,
          0.022222222222222216,
          0,
          -0.12187500000000001,
          0.5,
          0.0016666666666666607,
          0.35000000000000003,
          0.3246666666666667,
          0.54,
          0.17238095238095238,
          0.33749999999999997,
          0.5249999999999999,
          0.18714285714285714,
          0.48750000000000004,
          0.34900793650793643,
          0.546590909090909,
          0.17767857142857144,
          0.23218855218855217,
          -0.09028571428571427,
          0.465,
          0.16250000000000003,
          0.1348214285714286,
          0.15,
          0.018055555555555557,
          0.5666666666666667,
          0.5,
          0.2672727272727273,
          0.0625,
          0.45,
          0.37857142857142856,
          0.5,
          -0.09499999999999993,
          0.1725,
          0.2714285714285714,
          0.21875,
          0.16680272108843536,
          0.39999999999999997,
          -0.3,
          0.32083333333333336,
          0.42,
          0.2777777777777778,
          0.2888888888888889,
          0.6666666666666666,
          0.375,
          0.7333333333333334,
          0.42666666666666664,
          0.5,
          -0.2221861471861472,
          0.16130952380952382,
          -0.2,
          0.6666666666666666,
          -0.1826666666666667,
          0.24727272727272726,
          0.15476190476190477,
          -0.23958333333333337,
          0.3155,
          0.725,
          0,
          0.37952380952380954,
          0.375,
          0.22,
          0.04,
          0.20833333333333334,
          -0.01333333333333333,
          -0.05,
          0.26476190476190475,
          0.29797979797979796,
          0.5,
          0.31666666666666665,
          0.11904761904761904,
          0.18785714285714283,
          0.25,
          0.18166666666666667,
          0.575,
          0.016875,
          0.5,
          0,
          0,
          0.4,
          0,
          0,
          0,
          0,
          0,
          0,
          0,
          0,
          0,
          0.5,
          0,
          0,
          0,
          -0.2388888888888889,
          0,
          0,
          0.16666666666666666,
          0,
          0,
          0,
          0,
          0,
          0,
          0.75,
          -0.05,
          0,
          0,
          0,
          0,
          0,
          0.5,
          0,
          -0.2,
          0,
          0.1,
          0,
          -0.125,
          0,
          0,
          0,
          0.16666666666666666,
          0,
          0,
          0,
          0,
          0,
          0,
          0,
          0,
          0,
          0,
          0.5,
          0,
          0,
          0,
          1,
          0.4,
          0,
          0,
          0,
          0,
          0,
          0,
          0,
          0,
          0,
          0.3333333333333333,
          0,
          0.19930555555555554,
          0.4666666666666666,
          -0.006250000000000013,
          -0.159375,
          0.6016666666666667,
          0.33320779220779223,
          0.37870370370370376,
          0.775,
          0.027954545454545454,
          0.3545454545454546,
          0.4261111111111111,
          0.4964285714285714,
          0.74,
          0.20551948051948055,
          0.1935714285714286,
          0.44625,
          0,
          0,
          0.15,
          0.335,
          0.35,
          0.35,
          0.5666666666666667,
          -0.07466666666666667,
          0.12708333333333333,
          0,
          -0.025,
          0.45,
          0,
          0.6477777777777777,
          0.3181818181818182,
          0.2645833333333333,
          0.37777777777777777,
          -0.08730158730158731,
          0.2066666666666667,
          0.4,
          0.10376984126984128,
          0.3,
          -0.13999999999999999,
          0.7,
          0.335,
          0.34,
          0.15904452690166973,
          0.6,
          0.20666666666666664,
          0.36499999999999994,
          0.1278409090909091,
          -0.17559523809523805,
          0.3333333333333333,
          0.5916666666666666,
          0.005555555555555548,
          0.38727272727272727,
          0.3233333333333333,
          0.06666666666666667,
          -0.09351851851851851,
          -0.025,
          0.1056547619047619,
          0.142,
          -0.15,
          0.5666666666666667,
          0.44999999999999996,
          0.335,
          0.3,
          0.128125,
          0,
          0.4271428571428572,
          0.19999999999999998,
          0.15000000000000002,
          0.4666666666666666,
          0.32,
          0.2770833333333333,
          0.37499999999999994,
          0.38809523809523805,
          0.07083333333333333,
          0.0625,
          0.4,
          0.4124999999999999,
          0.505,
          0.6,
          0.17083333333333334,
          0.5,
          0.3666666666666667,
          0.335,
          0.05,
          -0.14375000000000004,
          0.42000000000000004,
          -0.15000000000000002,
          0.3166666666666667,
          0.4,
          0.35,
          0.025000000000000005,
          0.20249999999999996,
          0.08472222222222221,
          0.08055555555555555,
          0.26666666666666666,
          0.2916666666666667,
          0.07708333333333332,
          0.525,
          -0.021428571428571432,
          0.2315972222222222,
          0.45,
          0.5175,
          0.4277777777777778,
          0.335,
          0.3833333333333333,
          0.21166666666666667,
          0.33809523809523806,
          -0.12864583333333335,
          0.28482142857142856,
          0.11666666666666668,
          0.07288359788359787,
          0.06666666666666665,
          0.13333333333333333,
          0.5125,
          0.2784848484848485,
          0.014898989898989893,
          0.55,
          0.4859375,
          0.36,
          0.25357142857142856,
          0.4291666666666667,
          -0.0953333333333333,
          0.2819444444444445,
          0.38,
          0.335,
          0.11727272727272726,
          0.5833333333333334,
          0.2642857142857143,
          0.19285714285714287,
          0.15625,
          -0.0132440476190476,
          -0.2455357142857143,
          0.453125,
          0.45166666666666666,
          0.47954545454545455,
          0.23194444444444443,
          0.5159999999999999,
          0.2333333333333333,
          -0.03243145743145744,
          0.25,
          0.5833333333333334,
          0.48750000000000004,
          0.35727272727272724,
          -0.2916666666666667,
          0.21666666666666665,
          0.335,
          0.25,
          0.079,
          0.1986111111111111,
          0.015476190476190477,
          0.22400000000000003,
          0.25,
          -0.11666666666666665,
          0.325,
          0.26944444444444443,
          0.26666666666666666,
          0.0062996031746031765,
          0.061726190476190476,
          0.2997159090909091,
          0.5875,
          0.8,
          0.26944444444444443,
          0.775,
          0.11785714285714285,
          -0.018333333333333347,
          0.275,
          0.335,
          0.2805555555555555,
          -0.28250000000000003,
          0.3464814814814815,
          0.4222222222222222,
          0.33199999999999996,
          0.417,
          0,
          0.6583333333333333,
          -0.275,
          0.01499999999999999,
          0.2341666666666667,
          0.20142857142857143,
          0.6444444444444444,
          -0.0005194805194805228,
          0.625,
          0.5874999999999999,
          0.22083333333333333,
          0.55,
          -0.15,
          0.30277777777777776,
          0.335,
          0.35000000000000003,
          0.32142857142857145,
          0.23679063360881544,
          0.18333333333333335,
          0.10892857142857143,
          -0.24,
          0.15,
          0.375,
          0.49000000000000005,
          0.14505555555555555,
          0.355,
          0.5780519480519482,
          0.10833333333333334,
          0.6,
          0.23269230769230773,
          0.7,
          0.65,
          0.3770833333333333,
          0.2525,
          -0.125,
          0.335,
          -0.018333333333333326,
          -0.021186868686868667,
          0.8,
          0.33699999999999997,
          0.5083333333333333,
          0.04766666666666667,
          -0.5,
          0.5111111111111112,
          0.1,
          0.42692857142857144
         ]
        }
       ],
       "layout": {
        "barmode": "overlay",
        "legend": {
         "bgcolor": "#F5F6F9",
         "font": {
          "color": "#4D5663"
         }
        },
        "paper_bgcolor": "#F5F6F9",
        "plot_bgcolor": "#F5F6F9",
        "template": {
         "data": {
          "bar": [
           {
            "error_x": {
             "color": "#2a3f5f"
            },
            "error_y": {
             "color": "#2a3f5f"
            },
            "marker": {
             "line": {
              "color": "#E5ECF6",
              "width": 0.5
             }
            },
            "type": "bar"
           }
          ],
          "barpolar": [
           {
            "marker": {
             "line": {
              "color": "#E5ECF6",
              "width": 0.5
             }
            },
            "type": "barpolar"
           }
          ],
          "carpet": [
           {
            "aaxis": {
             "endlinecolor": "#2a3f5f",
             "gridcolor": "white",
             "linecolor": "white",
             "minorgridcolor": "white",
             "startlinecolor": "#2a3f5f"
            },
            "baxis": {
             "endlinecolor": "#2a3f5f",
             "gridcolor": "white",
             "linecolor": "white",
             "minorgridcolor": "white",
             "startlinecolor": "#2a3f5f"
            },
            "type": "carpet"
           }
          ],
          "choropleth": [
           {
            "colorbar": {
             "outlinewidth": 0,
             "ticks": ""
            },
            "type": "choropleth"
           }
          ],
          "contour": [
           {
            "colorbar": {
             "outlinewidth": 0,
             "ticks": ""
            },
            "colorscale": [
             [
              0,
              "#0d0887"
             ],
             [
              0.1111111111111111,
              "#46039f"
             ],
             [
              0.2222222222222222,
              "#7201a8"
             ],
             [
              0.3333333333333333,
              "#9c179e"
             ],
             [
              0.4444444444444444,
              "#bd3786"
             ],
             [
              0.5555555555555556,
              "#d8576b"
             ],
             [
              0.6666666666666666,
              "#ed7953"
             ],
             [
              0.7777777777777778,
              "#fb9f3a"
             ],
             [
              0.8888888888888888,
              "#fdca26"
             ],
             [
              1,
              "#f0f921"
             ]
            ],
            "type": "contour"
           }
          ],
          "contourcarpet": [
           {
            "colorbar": {
             "outlinewidth": 0,
             "ticks": ""
            },
            "type": "contourcarpet"
           }
          ],
          "heatmap": [
           {
            "colorbar": {
             "outlinewidth": 0,
             "ticks": ""
            },
            "colorscale": [
             [
              0,
              "#0d0887"
             ],
             [
              0.1111111111111111,
              "#46039f"
             ],
             [
              0.2222222222222222,
              "#7201a8"
             ],
             [
              0.3333333333333333,
              "#9c179e"
             ],
             [
              0.4444444444444444,
              "#bd3786"
             ],
             [
              0.5555555555555556,
              "#d8576b"
             ],
             [
              0.6666666666666666,
              "#ed7953"
             ],
             [
              0.7777777777777778,
              "#fb9f3a"
             ],
             [
              0.8888888888888888,
              "#fdca26"
             ],
             [
              1,
              "#f0f921"
             ]
            ],
            "type": "heatmap"
           }
          ],
          "heatmapgl": [
           {
            "colorbar": {
             "outlinewidth": 0,
             "ticks": ""
            },
            "colorscale": [
             [
              0,
              "#0d0887"
             ],
             [
              0.1111111111111111,
              "#46039f"
             ],
             [
              0.2222222222222222,
              "#7201a8"
             ],
             [
              0.3333333333333333,
              "#9c179e"
             ],
             [
              0.4444444444444444,
              "#bd3786"
             ],
             [
              0.5555555555555556,
              "#d8576b"
             ],
             [
              0.6666666666666666,
              "#ed7953"
             ],
             [
              0.7777777777777778,
              "#fb9f3a"
             ],
             [
              0.8888888888888888,
              "#fdca26"
             ],
             [
              1,
              "#f0f921"
             ]
            ],
            "type": "heatmapgl"
           }
          ],
          "histogram": [
           {
            "marker": {
             "colorbar": {
              "outlinewidth": 0,
              "ticks": ""
             }
            },
            "type": "histogram"
           }
          ],
          "histogram2d": [
           {
            "colorbar": {
             "outlinewidth": 0,
             "ticks": ""
            },
            "colorscale": [
             [
              0,
              "#0d0887"
             ],
             [
              0.1111111111111111,
              "#46039f"
             ],
             [
              0.2222222222222222,
              "#7201a8"
             ],
             [
              0.3333333333333333,
              "#9c179e"
             ],
             [
              0.4444444444444444,
              "#bd3786"
             ],
             [
              0.5555555555555556,
              "#d8576b"
             ],
             [
              0.6666666666666666,
              "#ed7953"
             ],
             [
              0.7777777777777778,
              "#fb9f3a"
             ],
             [
              0.8888888888888888,
              "#fdca26"
             ],
             [
              1,
              "#f0f921"
             ]
            ],
            "type": "histogram2d"
           }
          ],
          "histogram2dcontour": [
           {
            "colorbar": {
             "outlinewidth": 0,
             "ticks": ""
            },
            "colorscale": [
             [
              0,
              "#0d0887"
             ],
             [
              0.1111111111111111,
              "#46039f"
             ],
             [
              0.2222222222222222,
              "#7201a8"
             ],
             [
              0.3333333333333333,
              "#9c179e"
             ],
             [
              0.4444444444444444,
              "#bd3786"
             ],
             [
              0.5555555555555556,
              "#d8576b"
             ],
             [
              0.6666666666666666,
              "#ed7953"
             ],
             [
              0.7777777777777778,
              "#fb9f3a"
             ],
             [
              0.8888888888888888,
              "#fdca26"
             ],
             [
              1,
              "#f0f921"
             ]
            ],
            "type": "histogram2dcontour"
           }
          ],
          "mesh3d": [
           {
            "colorbar": {
             "outlinewidth": 0,
             "ticks": ""
            },
            "type": "mesh3d"
           }
          ],
          "parcoords": [
           {
            "line": {
             "colorbar": {
              "outlinewidth": 0,
              "ticks": ""
             }
            },
            "type": "parcoords"
           }
          ],
          "pie": [
           {
            "automargin": true,
            "type": "pie"
           }
          ],
          "scatter": [
           {
            "marker": {
             "colorbar": {
              "outlinewidth": 0,
              "ticks": ""
             }
            },
            "type": "scatter"
           }
          ],
          "scatter3d": [
           {
            "line": {
             "colorbar": {
              "outlinewidth": 0,
              "ticks": ""
             }
            },
            "marker": {
             "colorbar": {
              "outlinewidth": 0,
              "ticks": ""
             }
            },
            "type": "scatter3d"
           }
          ],
          "scattercarpet": [
           {
            "marker": {
             "colorbar": {
              "outlinewidth": 0,
              "ticks": ""
             }
            },
            "type": "scattercarpet"
           }
          ],
          "scattergeo": [
           {
            "marker": {
             "colorbar": {
              "outlinewidth": 0,
              "ticks": ""
             }
            },
            "type": "scattergeo"
           }
          ],
          "scattergl": [
           {
            "marker": {
             "colorbar": {
              "outlinewidth": 0,
              "ticks": ""
             }
            },
            "type": "scattergl"
           }
          ],
          "scattermapbox": [
           {
            "marker": {
             "colorbar": {
              "outlinewidth": 0,
              "ticks": ""
             }
            },
            "type": "scattermapbox"
           }
          ],
          "scatterpolar": [
           {
            "marker": {
             "colorbar": {
              "outlinewidth": 0,
              "ticks": ""
             }
            },
            "type": "scatterpolar"
           }
          ],
          "scatterpolargl": [
           {
            "marker": {
             "colorbar": {
              "outlinewidth": 0,
              "ticks": ""
             }
            },
            "type": "scatterpolargl"
           }
          ],
          "scatterternary": [
           {
            "marker": {
             "colorbar": {
              "outlinewidth": 0,
              "ticks": ""
             }
            },
            "type": "scatterternary"
           }
          ],
          "surface": [
           {
            "colorbar": {
             "outlinewidth": 0,
             "ticks": ""
            },
            "colorscale": [
             [
              0,
              "#0d0887"
             ],
             [
              0.1111111111111111,
              "#46039f"
             ],
             [
              0.2222222222222222,
              "#7201a8"
             ],
             [
              0.3333333333333333,
              "#9c179e"
             ],
             [
              0.4444444444444444,
              "#bd3786"
             ],
             [
              0.5555555555555556,
              "#d8576b"
             ],
             [
              0.6666666666666666,
              "#ed7953"
             ],
             [
              0.7777777777777778,
              "#fb9f3a"
             ],
             [
              0.8888888888888888,
              "#fdca26"
             ],
             [
              1,
              "#f0f921"
             ]
            ],
            "type": "surface"
           }
          ],
          "table": [
           {
            "cells": {
             "fill": {
              "color": "#EBF0F8"
             },
             "line": {
              "color": "white"
             }
            },
            "header": {
             "fill": {
              "color": "#C8D4E3"
             },
             "line": {
              "color": "white"
             }
            },
            "type": "table"
           }
          ]
         },
         "layout": {
          "annotationdefaults": {
           "arrowcolor": "#2a3f5f",
           "arrowhead": 0,
           "arrowwidth": 1
          },
          "coloraxis": {
           "colorbar": {
            "outlinewidth": 0,
            "ticks": ""
           }
          },
          "colorscale": {
           "diverging": [
            [
             0,
             "#8e0152"
            ],
            [
             0.1,
             "#c51b7d"
            ],
            [
             0.2,
             "#de77ae"
            ],
            [
             0.3,
             "#f1b6da"
            ],
            [
             0.4,
             "#fde0ef"
            ],
            [
             0.5,
             "#f7f7f7"
            ],
            [
             0.6,
             "#e6f5d0"
            ],
            [
             0.7,
             "#b8e186"
            ],
            [
             0.8,
             "#7fbc41"
            ],
            [
             0.9,
             "#4d9221"
            ],
            [
             1,
             "#276419"
            ]
           ],
           "sequential": [
            [
             0,
             "#0d0887"
            ],
            [
             0.1111111111111111,
             "#46039f"
            ],
            [
             0.2222222222222222,
             "#7201a8"
            ],
            [
             0.3333333333333333,
             "#9c179e"
            ],
            [
             0.4444444444444444,
             "#bd3786"
            ],
            [
             0.5555555555555556,
             "#d8576b"
            ],
            [
             0.6666666666666666,
             "#ed7953"
            ],
            [
             0.7777777777777778,
             "#fb9f3a"
            ],
            [
             0.8888888888888888,
             "#fdca26"
            ],
            [
             1,
             "#f0f921"
            ]
           ],
           "sequentialminus": [
            [
             0,
             "#0d0887"
            ],
            [
             0.1111111111111111,
             "#46039f"
            ],
            [
             0.2222222222222222,
             "#7201a8"
            ],
            [
             0.3333333333333333,
             "#9c179e"
            ],
            [
             0.4444444444444444,
             "#bd3786"
            ],
            [
             0.5555555555555556,
             "#d8576b"
            ],
            [
             0.6666666666666666,
             "#ed7953"
            ],
            [
             0.7777777777777778,
             "#fb9f3a"
            ],
            [
             0.8888888888888888,
             "#fdca26"
            ],
            [
             1,
             "#f0f921"
            ]
           ]
          },
          "colorway": [
           "#636efa",
           "#EF553B",
           "#00cc96",
           "#ab63fa",
           "#FFA15A",
           "#19d3f3",
           "#FF6692",
           "#B6E880",
           "#FF97FF",
           "#FECB52"
          ],
          "font": {
           "color": "#2a3f5f"
          },
          "geo": {
           "bgcolor": "white",
           "lakecolor": "white",
           "landcolor": "#E5ECF6",
           "showlakes": true,
           "showland": true,
           "subunitcolor": "white"
          },
          "hoverlabel": {
           "align": "left"
          },
          "hovermode": "closest",
          "mapbox": {
           "style": "light"
          },
          "paper_bgcolor": "white",
          "plot_bgcolor": "#E5ECF6",
          "polar": {
           "angularaxis": {
            "gridcolor": "white",
            "linecolor": "white",
            "ticks": ""
           },
           "bgcolor": "#E5ECF6",
           "radialaxis": {
            "gridcolor": "white",
            "linecolor": "white",
            "ticks": ""
           }
          },
          "scene": {
           "xaxis": {
            "backgroundcolor": "#E5ECF6",
            "gridcolor": "white",
            "gridwidth": 2,
            "linecolor": "white",
            "showbackground": true,
            "ticks": "",
            "zerolinecolor": "white"
           },
           "yaxis": {
            "backgroundcolor": "#E5ECF6",
            "gridcolor": "white",
            "gridwidth": 2,
            "linecolor": "white",
            "showbackground": true,
            "ticks": "",
            "zerolinecolor": "white"
           },
           "zaxis": {
            "backgroundcolor": "#E5ECF6",
            "gridcolor": "white",
            "gridwidth": 2,
            "linecolor": "white",
            "showbackground": true,
            "ticks": "",
            "zerolinecolor": "white"
           }
          },
          "shapedefaults": {
           "line": {
            "color": "#2a3f5f"
           }
          },
          "ternary": {
           "aaxis": {
            "gridcolor": "white",
            "linecolor": "white",
            "ticks": ""
           },
           "baxis": {
            "gridcolor": "white",
            "linecolor": "white",
            "ticks": ""
           },
           "bgcolor": "#E5ECF6",
           "caxis": {
            "gridcolor": "white",
            "linecolor": "white",
            "ticks": ""
           }
          },
          "title": {
           "x": 0.05
          },
          "xaxis": {
           "automargin": true,
           "gridcolor": "white",
           "linecolor": "white",
           "ticks": "",
           "title": {
            "standoff": 15
           },
           "zerolinecolor": "white",
           "zerolinewidth": 2
          },
          "yaxis": {
           "automargin": true,
           "gridcolor": "white",
           "linecolor": "white",
           "ticks": "",
           "title": {
            "standoff": 15
           },
           "zerolinecolor": "white",
           "zerolinewidth": 2
          }
         }
        },
        "title": {
         "font": {
          "color": "#4D5663"
         },
         "text": "Sentiment Polarity Distribution"
        },
        "xaxis": {
         "gridcolor": "#E1E5ED",
         "linecolor": "black",
         "showgrid": true,
         "tickfont": {
          "color": "#4D5663"
         },
         "title": {
          "font": {
           "color": "#4D5663"
          },
          "text": "polarity"
         },
         "zerolinecolor": "#E1E5ED"
        },
        "yaxis": {
         "gridcolor": "#E1E5ED",
         "linecolor": "black",
         "showgrid": true,
         "tickfont": {
          "color": "#4D5663"
         },
         "title": {
          "font": {
           "color": "#4D5663"
          },
          "text": "count"
         },
         "zerolinecolor": "#E1E5ED"
        }
       }
      },
      "text/html": [
       "<div>\n",
       "        \n",
       "        \n",
       "            <div id=\"bc1dce4f-1791-4c04-8c72-cd1a68d45c08\" class=\"plotly-graph-div\" style=\"height:525px; width:100%;\"></div>\n",
       "            <script type=\"text/javascript\">\n",
       "                require([\"plotly\"], function(Plotly) {\n",
       "                    window.PLOTLYENV=window.PLOTLYENV || {};\n",
       "                    window.PLOTLYENV.BASE_URL='https://plot.ly';\n",
       "                    \n",
       "                if (document.getElementById(\"bc1dce4f-1791-4c04-8c72-cd1a68d45c08\")) {\n",
       "                    Plotly.newPlot(\n",
       "                        'bc1dce4f-1791-4c04-8c72-cd1a68d45c08',\n",
       "                        [{\"histfunc\": \"count\", \"histnorm\": \"\", \"marker\": {\"color\": \"rgba(55, 128, 191, 1.0)\", \"line\": {\"color\": \"#000000\", \"width\": 1.3}}, \"name\": \"polarity\", \"nbinsx\": 50, \"opacity\": 0.8, \"orientation\": \"v\", \"type\": \"histogram\", \"x\": [0.15476190476190474, 0.15119047619047618, 0.17916666666666664, 0.0, 0.25, 0.28106060606060607, 0.05, 0.5, 0.75, 0.35, 0.12499999999999999, 0.075, -0.175, -0.12916666666666665, 0.2595779220779221, 0.14285714285714285, 0.2907828282828283, 0.08666666666666667, 0.2016666666666666, 0.552, 0.55, 0.15476190476190474, 0.6090909090909091, 0.3, 0.09583333333333333, 0.49285714285714277, 0.37, -0.225, 0.19, -0.26666666666666666, 0.15, 0.625, 0.26666666666666666, 0.30333333333333334, 0.15, 0.21999999999999997, 0.3032312925170068, 0.04583333333333334, -0.2, -0.25, 0.26333333333333336, 0.4, 0.15476190476190474, -0.29733333333333334, 0.22746212121212123, 0.18333333333333335, 0.35000000000000003, 0.55, 0.1574074074074074, 0.3333333333333333, 0.7, -0.11388888888888889, 0.25, -0.033333333333333326, 0.5333333333333333, 0.7000000000000001, 0.2802083333333333, -0.09102132435465768, 0.5499999999999999, 0.42000000000000004, 0.52, 0.20952380952380953, 0.11800000000000006, 0.15476190476190474, 0.25571428571428567, 0.1375, 0.39999999999999997, -0.1138095238095238, 0.5366666666666666, 0.08181818181818182, 0.5, 0.21428571428571427, 0.5181818181818181, 0.011111111111111118, 0.24430735930735928, 0.2489583333333333, 0.17666666666666667, 0.5916666666666667, 0.2416666666666667, 0.12156385281385279, 0.4777777777777777, 0.35, 0.25, 0.175, 0.15476190476190474, -0.0625, 0.3, 0.09999999999999999, 0.4, 0.2333333333333333, -0.23428571428571426, 0.3375, -0.05757575757575758, 0.4, 0.056250000000000036, -0.08541666666666665, 0.2654761904761905, 0.44999999999999996, 0.07083333333333335, -0.04333333333333334, 0.42000000000000004, -0.3333333333333333, -0.041666666666666685, 0.3828125, 0.08, 0.15476190476190474, 0.3833333333333333, 0.4583333333333333, 0.29570995670995676, 0.5, 0.512, 0.33376623376623377, 0.190625, 0.4125, 0.0, -0.052142857142857144, -0.024999999999999994, 0.3714166666666666, 3.700743415417188e-17, 0.55, -0.04262820512820513, 0.14541666666666664, 0.08333333333333333, 0.54, 0.375, 0.16666666666666666, 0.15476190476190474, 0.0, 0.35333333333333333, 0.5166666666666667, 0.4672727272727272, 0.09999999999999999, -0.0625, 0.3333333333333333, -0.016666666666666663, 0.1, 0.16, 0.25476190476190474, -0.07517857142857146, 0.0, 0.19166666666666665, 0.23030303030303031, 0.38749999999999996, 0.05333333333333334, 0.38333333333333336, 0.3, 0.0, 0.15476190476190474, 0.8250000000000001, 0.09642857142857142, 0.37, 0.1606060606060606, 0.05059523809523809, 0.5047619047619047, -0.2475, -0.29000000000000004, 0.5964285714285713, 0.35900000000000004, 0.61875, 0.20555555555555557, 0.13333333333333333, 0.48333333333333334, 0.18333333333333332, 0.2427083333333333, 0.275, 0.6714285714285714, -0.125, 0.56, 0.15476190476190474, 0.7708333333333334, 0.19583333333333333, 0.3666666666666667, -0.02999999999999999, -0.1, 0.2, 0.15, 0.03750000000000001, -0.008928571428571428, -0.10740740740740741, 0.290625, 0.15, -0.07083333333333335, 0.56875, 0.35833333333333334, 0.82, 0.48, 0.4166666666666667, 0.0, 0.125, 0.15476190476190474, 0.15, 0.525, 0.050000000000000024, 0.675, 0.16428571428571428, 0.43333333333333335, 0.17351190476190476, 0.61, 0.13939393939393938, 0.28125, 0.3011111111111111, 0.04563492063492064, 0.16818181818181818, 0.34706959706959706, 0.415625, -0.15416666666666667, 0.0, 0.07142857142857147, 0.0, 0.3025555555555555, 0.5666666666666667, 0.062337662337662345, -0.09166666666666667, 0.78, -0.125, 0.55, -0.09999999999999998, 0.3404761904761905, 0.12499999999999999, 0.0465909090909091, -0.1233333333333333, 0.3011111111111111, 0.21000000000000002, 0.2857142857142857, 0.45, 0.5, -0.2708333333333333, 0.425, 0.46, 0.6625000000000001, 0.025, 0.1603333333333333, 0.6666666666666666, 0.315, 0.0, 0.4166666666666667, 0.3092261904761905, 0.7666666666666666, 0.23714285714285716, 0.9, 0.30833333333333335, 0.016666666666666663, 0.3011111111111111, 0.12499999999999999, 0.26666666666666666, 0.12857142857142856, 0.64375, 0.09473800505050509, 0.26666666666666666, -0.4444444444444444, 0.39, 0.38227272727272726, 0.1, 0.15302197802197803, 0.312, -0.05500000000000001, 0.42857142857142855, 0.13154761904761905, 0.22666666666666666, 0.5333333333333333, 0.1270408163265306, 0.375, 0.2058641975308642, 0.3011111111111111, 0.04545454545454545, 0.41666666666666663, 0.7, 0.03472222222222221, -0.0625, -0.09593750000000001, 0.10583333333333336, 0.49000000000000005, 0.7, 0.5519999999999999, 0.425, 0.11666666666666665, -0.2713333333333333, 0.23579545454545453, 0.24000000000000005, 0.3011111111111111, 0.5687500000000001, 0.08029556650246306, 0.03749999999999998, 0.17612500000000003, 0.3011111111111111, 0.15925324675324676, 0.8, -0.2916666666666667, 0.30370370370370364, 0.1388888888888889, 0.39999999999999997, 0.2375, 0.39, 0.3979591836734694, -0.044642857142857144, 0.26055555555555554, 0.07083333333333335, 0.315, 0.1777685950413223, 0.4666666666666666, 0.04519230769230769, 0.5049913194444444, 0.38, 0.4475, 0.33749999999999997, 0.3011111111111111, -0.08, 0.44999999999999996, -0.3499999999999999, 0.21666666666666667, 0.11666666666666665, -0.037777777777777764, 0.11499999999999999, 0.19844155844155842, 0.5733333333333334, -0.09722222222222217, 0.29005681818181817, 0.4, 0.475, 0.08416666666666665, 0.031237373737373723, 0.14583333333333334, 0.16, -0.2875, 0.7666666666666666, 0.20937499999999998, 0.3011111111111111, 0.24375, 0.5491666666666667, 0.22937500000000002, 0.5, 0.5083333333333334, 0.20000000000000004, 0.2511904761904762, -0.008333333333333323, 0.06516666666666668, 0.2153246753246753, 0.42000000000000004, 0.18333333333333332, 0.45, 0.16924603174603176, 0.425, 0.3114478114478115, 0.2125, -0.21666666666666667, 0.175, -0.5, 0.3011111111111111, 0.7000000000000001, 0.3714285714285714, 0.38939393939393935, 0.04545454545454545, 0.33055555555555555, 0.30833333333333335, 0.6166666666666667, -0.5, 0.1965909090909091, 0.18214285714285716, 0.7, -0.4333333333333334, 0.14999999999999997, -0.09999999999999999, 0.13874999999999998, 0.32410052910052906, 0.0, 0.0, 0.5033333333333334, 0.07444444444444444, 0.3011111111111111, -0.05505050505050505, 0.48333333333333334, 0.0, 0.34285714285714286, -0.038214285714285715, 0.3, 0.35, 0.15625, 0.1346641156462585, 0.11111111111111112, 0.72, 0.30000000000000004, 0.41111111111111115, 0.225, 0.28888888888888886, 0.6666666666666666, 0.2333333333333333, -0.06937499999999999, 0.10680272108843537, 0.5166666666666666, 0.3011111111111111, -0.4826388888888889, -0.015151515151515152, 0.11499999999999999, 0.4590909090909091, 0.0, -0.11785714285714285, 0.3666666666666667, 0.0826388888888889, 0.40496632996633, 0.475, 0.175, 0.54, 0.1878787878787879, 0.2090909090909091, 0.4055555555555556, 0.40428571428571425, 0.12698412698412698, 0.13396464646464648, 0.39255244755244767, 0.3151275510204082, 0.26038690476190474, 0.4, 0.5, 0.16999999999999998, 0.4916666666666667, -0.3261363636363636, 0.0, -0.09999999999999999, -0.1528571428571429, 0.425, -0.0375, 0.18666666666666668, 0.05555555555555556, 0.8125, -0.27999999999999997, 0.20666666666666664, 0.0, 0.03430555555555557, 0.09027777777777778, 0.27555555555555555, 0.022222222222222216, 0.0, -0.12187500000000001, 0.5, 0.0016666666666666607, 0.35000000000000003, 0.3246666666666667, 0.54, 0.17238095238095238, 0.33749999999999997, 0.5249999999999999, 0.18714285714285714, 0.48750000000000004, 0.34900793650793643, 0.546590909090909, 0.17767857142857144, 0.23218855218855217, -0.09028571428571427, 0.465, 0.16250000000000003, 0.1348214285714286, 0.15, 0.018055555555555557, 0.5666666666666667, 0.5, 0.2672727272727273, 0.0625, 0.45, 0.37857142857142856, 0.5, -0.09499999999999993, 0.1725, 0.2714285714285714, 0.21875, 0.16680272108843536, 0.39999999999999997, -0.3, 0.32083333333333336, 0.42, 0.2777777777777778, 0.2888888888888889, 0.6666666666666666, 0.375, 0.7333333333333334, 0.42666666666666664, 0.5, -0.2221861471861472, 0.16130952380952382, -0.2, 0.6666666666666666, -0.1826666666666667, 0.24727272727272726, 0.15476190476190477, -0.23958333333333337, 0.3155, 0.725, 0.0, 0.37952380952380954, 0.375, 0.22, 0.04, 0.20833333333333334, -0.01333333333333333, -0.05, 0.26476190476190475, 0.29797979797979796, 0.5, 0.31666666666666665, 0.11904761904761904, 0.18785714285714283, 0.25, 0.18166666666666667, 0.575, 0.016875, 0.5, 0.0, 0.0, 0.4, 0.0, 0.0, 0.0, 0.0, 0.0, 0.0, 0.0, 0.0, 0.0, 0.5, 0.0, 0.0, 0.0, -0.2388888888888889, 0.0, 0.0, 0.16666666666666666, 0.0, 0.0, 0.0, 0.0, 0.0, 0.0, 0.75, -0.05, 0.0, 0.0, 0.0, 0.0, 0.0, 0.5, 0.0, -0.2, 0.0, 0.1, 0.0, -0.125, 0.0, 0.0, 0.0, 0.16666666666666666, 0.0, 0.0, 0.0, 0.0, 0.0, 0.0, 0.0, 0.0, 0.0, 0.0, 0.5, 0.0, 0.0, 0.0, 1.0, 0.4, 0.0, 0.0, 0.0, 0.0, 0.0, 0.0, 0.0, 0.0, 0.0, 0.3333333333333333, 0.0, 0.19930555555555554, 0.4666666666666666, -0.006250000000000013, -0.159375, 0.6016666666666667, 0.33320779220779223, 0.37870370370370376, 0.775, 0.027954545454545454, 0.3545454545454546, 0.4261111111111111, 0.4964285714285714, 0.74, 0.20551948051948055, 0.1935714285714286, 0.44625, 0.0, 0.0, 0.15, 0.335, 0.35, 0.35, 0.5666666666666667, -0.07466666666666667, 0.12708333333333333, 0.0, -0.025, 0.45, 0.0, 0.6477777777777777, 0.3181818181818182, 0.2645833333333333, 0.37777777777777777, -0.08730158730158731, 0.2066666666666667, 0.4, 0.10376984126984128, 0.3, -0.13999999999999999, 0.7, 0.335, 0.34, 0.15904452690166973, 0.6, 0.20666666666666664, 0.36499999999999994, 0.1278409090909091, -0.17559523809523805, 0.3333333333333333, 0.5916666666666666, 0.005555555555555548, 0.38727272727272727, 0.3233333333333333, 0.06666666666666667, -0.09351851851851851, -0.025, 0.1056547619047619, 0.142, -0.15, 0.5666666666666667, 0.44999999999999996, 0.335, 0.3, 0.128125, 0.0, 0.4271428571428572, 0.19999999999999998, 0.15000000000000002, 0.4666666666666666, 0.32, 0.2770833333333333, 0.37499999999999994, 0.38809523809523805, 0.07083333333333333, 0.0625, 0.4, 0.4124999999999999, 0.505, 0.6, 0.17083333333333334, 0.5, 0.3666666666666667, 0.335, 0.05, -0.14375000000000004, 0.42000000000000004, -0.15000000000000002, 0.3166666666666667, 0.4, 0.35, 0.025000000000000005, 0.20249999999999996, 0.08472222222222221, 0.08055555555555555, 0.26666666666666666, 0.2916666666666667, 0.07708333333333332, 0.525, -0.021428571428571432, 0.2315972222222222, 0.45, 0.5175, 0.4277777777777778, 0.335, 0.3833333333333333, 0.21166666666666667, 0.33809523809523806, -0.12864583333333335, 0.28482142857142856, 0.11666666666666668, 0.07288359788359787, 0.06666666666666665, 0.13333333333333333, 0.5125, 0.2784848484848485, 0.014898989898989893, 0.55, 0.4859375, 0.36, 0.25357142857142856, 0.4291666666666667, -0.0953333333333333, 0.2819444444444445, 0.38, 0.335, 0.11727272727272726, 0.5833333333333334, 0.2642857142857143, 0.19285714285714287, 0.15625, -0.0132440476190476, -0.2455357142857143, 0.453125, 0.45166666666666666, 0.47954545454545455, 0.23194444444444443, 0.5159999999999999, 0.2333333333333333, -0.03243145743145744, 0.25, 0.5833333333333334, 0.48750000000000004, 0.35727272727272724, -0.2916666666666667, 0.21666666666666665, 0.335, 0.25, 0.079, 0.1986111111111111, 0.015476190476190477, 0.22400000000000003, 0.25, -0.11666666666666665, 0.325, 0.26944444444444443, 0.26666666666666666, 0.0062996031746031765, 0.061726190476190476, 0.2997159090909091, 0.5875, 0.8, 0.26944444444444443, 0.775, 0.11785714285714285, -0.018333333333333347, 0.275, 0.335, 0.2805555555555555, -0.28250000000000003, 0.3464814814814815, 0.4222222222222222, 0.33199999999999996, 0.417, 0.0, 0.6583333333333333, -0.275, 0.01499999999999999, 0.2341666666666667, 0.20142857142857143, 0.6444444444444444, -0.0005194805194805228, 0.625, 0.5874999999999999, 0.22083333333333333, 0.55, -0.15, 0.30277777777777776, 0.335, 0.35000000000000003, 0.32142857142857145, 0.23679063360881544, 0.18333333333333335, 0.10892857142857143, -0.24, 0.15, 0.375, 0.49000000000000005, 0.14505555555555555, 0.355, 0.5780519480519482, 0.10833333333333334, 0.6, 0.23269230769230773, 0.7, 0.65, 0.3770833333333333, 0.2525, -0.125, 0.335, -0.018333333333333326, -0.021186868686868667, 0.8, 0.33699999999999997, 0.5083333333333333, 0.04766666666666667, -0.5, 0.5111111111111112, 0.1, 0.42692857142857144]}],\n",
       "                        {\"barmode\": \"overlay\", \"legend\": {\"bgcolor\": \"#F5F6F9\", \"font\": {\"color\": \"#4D5663\"}}, \"paper_bgcolor\": \"#F5F6F9\", \"plot_bgcolor\": \"#F5F6F9\", \"template\": {\"data\": {\"bar\": [{\"error_x\": {\"color\": \"#2a3f5f\"}, \"error_y\": {\"color\": \"#2a3f5f\"}, \"marker\": {\"line\": {\"color\": \"#E5ECF6\", \"width\": 0.5}}, \"type\": \"bar\"}], \"barpolar\": [{\"marker\": {\"line\": {\"color\": \"#E5ECF6\", \"width\": 0.5}}, \"type\": \"barpolar\"}], \"carpet\": [{\"aaxis\": {\"endlinecolor\": \"#2a3f5f\", \"gridcolor\": \"white\", \"linecolor\": \"white\", \"minorgridcolor\": \"white\", \"startlinecolor\": \"#2a3f5f\"}, \"baxis\": {\"endlinecolor\": \"#2a3f5f\", \"gridcolor\": \"white\", \"linecolor\": \"white\", \"minorgridcolor\": \"white\", \"startlinecolor\": \"#2a3f5f\"}, \"type\": \"carpet\"}], \"choropleth\": [{\"colorbar\": {\"outlinewidth\": 0, \"ticks\": \"\"}, \"type\": \"choropleth\"}], \"contour\": [{\"colorbar\": {\"outlinewidth\": 0, \"ticks\": \"\"}, \"colorscale\": [[0.0, \"#0d0887\"], [0.1111111111111111, \"#46039f\"], [0.2222222222222222, \"#7201a8\"], [0.3333333333333333, \"#9c179e\"], [0.4444444444444444, \"#bd3786\"], [0.5555555555555556, \"#d8576b\"], [0.6666666666666666, \"#ed7953\"], [0.7777777777777778, \"#fb9f3a\"], [0.8888888888888888, \"#fdca26\"], [1.0, \"#f0f921\"]], \"type\": \"contour\"}], \"contourcarpet\": [{\"colorbar\": {\"outlinewidth\": 0, \"ticks\": \"\"}, \"type\": \"contourcarpet\"}], \"heatmap\": [{\"colorbar\": {\"outlinewidth\": 0, \"ticks\": \"\"}, \"colorscale\": [[0.0, \"#0d0887\"], [0.1111111111111111, \"#46039f\"], [0.2222222222222222, \"#7201a8\"], [0.3333333333333333, \"#9c179e\"], [0.4444444444444444, \"#bd3786\"], [0.5555555555555556, \"#d8576b\"], [0.6666666666666666, \"#ed7953\"], [0.7777777777777778, \"#fb9f3a\"], [0.8888888888888888, \"#fdca26\"], [1.0, \"#f0f921\"]], \"type\": \"heatmap\"}], \"heatmapgl\": [{\"colorbar\": {\"outlinewidth\": 0, \"ticks\": \"\"}, \"colorscale\": [[0.0, \"#0d0887\"], [0.1111111111111111, \"#46039f\"], [0.2222222222222222, \"#7201a8\"], [0.3333333333333333, \"#9c179e\"], [0.4444444444444444, \"#bd3786\"], [0.5555555555555556, \"#d8576b\"], [0.6666666666666666, \"#ed7953\"], [0.7777777777777778, \"#fb9f3a\"], [0.8888888888888888, \"#fdca26\"], [1.0, \"#f0f921\"]], \"type\": \"heatmapgl\"}], \"histogram\": [{\"marker\": {\"colorbar\": {\"outlinewidth\": 0, \"ticks\": \"\"}}, \"type\": \"histogram\"}], \"histogram2d\": [{\"colorbar\": {\"outlinewidth\": 0, \"ticks\": \"\"}, \"colorscale\": [[0.0, \"#0d0887\"], [0.1111111111111111, \"#46039f\"], [0.2222222222222222, \"#7201a8\"], [0.3333333333333333, \"#9c179e\"], [0.4444444444444444, \"#bd3786\"], [0.5555555555555556, \"#d8576b\"], [0.6666666666666666, \"#ed7953\"], [0.7777777777777778, \"#fb9f3a\"], [0.8888888888888888, \"#fdca26\"], [1.0, \"#f0f921\"]], \"type\": \"histogram2d\"}], \"histogram2dcontour\": [{\"colorbar\": {\"outlinewidth\": 0, \"ticks\": \"\"}, \"colorscale\": [[0.0, \"#0d0887\"], [0.1111111111111111, \"#46039f\"], [0.2222222222222222, \"#7201a8\"], [0.3333333333333333, \"#9c179e\"], [0.4444444444444444, \"#bd3786\"], [0.5555555555555556, \"#d8576b\"], [0.6666666666666666, \"#ed7953\"], [0.7777777777777778, \"#fb9f3a\"], [0.8888888888888888, \"#fdca26\"], [1.0, \"#f0f921\"]], \"type\": \"histogram2dcontour\"}], \"mesh3d\": [{\"colorbar\": {\"outlinewidth\": 0, \"ticks\": \"\"}, \"type\": \"mesh3d\"}], \"parcoords\": [{\"line\": {\"colorbar\": {\"outlinewidth\": 0, \"ticks\": \"\"}}, \"type\": \"parcoords\"}], \"pie\": [{\"automargin\": true, \"type\": \"pie\"}], \"scatter\": [{\"marker\": {\"colorbar\": {\"outlinewidth\": 0, \"ticks\": \"\"}}, \"type\": \"scatter\"}], \"scatter3d\": [{\"line\": {\"colorbar\": {\"outlinewidth\": 0, \"ticks\": \"\"}}, \"marker\": {\"colorbar\": {\"outlinewidth\": 0, \"ticks\": \"\"}}, \"type\": \"scatter3d\"}], \"scattercarpet\": [{\"marker\": {\"colorbar\": {\"outlinewidth\": 0, \"ticks\": \"\"}}, \"type\": \"scattercarpet\"}], \"scattergeo\": [{\"marker\": {\"colorbar\": {\"outlinewidth\": 0, \"ticks\": \"\"}}, \"type\": \"scattergeo\"}], \"scattergl\": [{\"marker\": {\"colorbar\": {\"outlinewidth\": 0, \"ticks\": \"\"}}, \"type\": \"scattergl\"}], \"scattermapbox\": [{\"marker\": {\"colorbar\": {\"outlinewidth\": 0, \"ticks\": \"\"}}, \"type\": \"scattermapbox\"}], \"scatterpolar\": [{\"marker\": {\"colorbar\": {\"outlinewidth\": 0, \"ticks\": \"\"}}, \"type\": \"scatterpolar\"}], \"scatterpolargl\": [{\"marker\": {\"colorbar\": {\"outlinewidth\": 0, \"ticks\": \"\"}}, \"type\": \"scatterpolargl\"}], \"scatterternary\": [{\"marker\": {\"colorbar\": {\"outlinewidth\": 0, \"ticks\": \"\"}}, \"type\": \"scatterternary\"}], \"surface\": [{\"colorbar\": {\"outlinewidth\": 0, \"ticks\": \"\"}, \"colorscale\": [[0.0, \"#0d0887\"], [0.1111111111111111, \"#46039f\"], [0.2222222222222222, \"#7201a8\"], [0.3333333333333333, \"#9c179e\"], [0.4444444444444444, \"#bd3786\"], [0.5555555555555556, \"#d8576b\"], [0.6666666666666666, \"#ed7953\"], [0.7777777777777778, \"#fb9f3a\"], [0.8888888888888888, \"#fdca26\"], [1.0, \"#f0f921\"]], \"type\": \"surface\"}], \"table\": [{\"cells\": {\"fill\": {\"color\": \"#EBF0F8\"}, \"line\": {\"color\": \"white\"}}, \"header\": {\"fill\": {\"color\": \"#C8D4E3\"}, \"line\": {\"color\": \"white\"}}, \"type\": \"table\"}]}, \"layout\": {\"annotationdefaults\": {\"arrowcolor\": \"#2a3f5f\", \"arrowhead\": 0, \"arrowwidth\": 1}, \"coloraxis\": {\"colorbar\": {\"outlinewidth\": 0, \"ticks\": \"\"}}, \"colorscale\": {\"diverging\": [[0, \"#8e0152\"], [0.1, \"#c51b7d\"], [0.2, \"#de77ae\"], [0.3, \"#f1b6da\"], [0.4, \"#fde0ef\"], [0.5, \"#f7f7f7\"], [0.6, \"#e6f5d0\"], [0.7, \"#b8e186\"], [0.8, \"#7fbc41\"], [0.9, \"#4d9221\"], [1, \"#276419\"]], \"sequential\": [[0.0, \"#0d0887\"], [0.1111111111111111, \"#46039f\"], [0.2222222222222222, \"#7201a8\"], [0.3333333333333333, \"#9c179e\"], [0.4444444444444444, \"#bd3786\"], [0.5555555555555556, \"#d8576b\"], [0.6666666666666666, \"#ed7953\"], [0.7777777777777778, \"#fb9f3a\"], [0.8888888888888888, \"#fdca26\"], [1.0, \"#f0f921\"]], \"sequentialminus\": [[0.0, \"#0d0887\"], [0.1111111111111111, \"#46039f\"], [0.2222222222222222, \"#7201a8\"], [0.3333333333333333, \"#9c179e\"], [0.4444444444444444, \"#bd3786\"], [0.5555555555555556, \"#d8576b\"], [0.6666666666666666, \"#ed7953\"], [0.7777777777777778, \"#fb9f3a\"], [0.8888888888888888, \"#fdca26\"], [1.0, \"#f0f921\"]]}, \"colorway\": [\"#636efa\", \"#EF553B\", \"#00cc96\", \"#ab63fa\", \"#FFA15A\", \"#19d3f3\", \"#FF6692\", \"#B6E880\", \"#FF97FF\", \"#FECB52\"], \"font\": {\"color\": \"#2a3f5f\"}, \"geo\": {\"bgcolor\": \"white\", \"lakecolor\": \"white\", \"landcolor\": \"#E5ECF6\", \"showlakes\": true, \"showland\": true, \"subunitcolor\": \"white\"}, \"hoverlabel\": {\"align\": \"left\"}, \"hovermode\": \"closest\", \"mapbox\": {\"style\": \"light\"}, \"paper_bgcolor\": \"white\", \"plot_bgcolor\": \"#E5ECF6\", \"polar\": {\"angularaxis\": {\"gridcolor\": \"white\", \"linecolor\": \"white\", \"ticks\": \"\"}, \"bgcolor\": \"#E5ECF6\", \"radialaxis\": {\"gridcolor\": \"white\", \"linecolor\": \"white\", \"ticks\": \"\"}}, \"scene\": {\"xaxis\": {\"backgroundcolor\": \"#E5ECF6\", \"gridcolor\": \"white\", \"gridwidth\": 2, \"linecolor\": \"white\", \"showbackground\": true, \"ticks\": \"\", \"zerolinecolor\": \"white\"}, \"yaxis\": {\"backgroundcolor\": \"#E5ECF6\", \"gridcolor\": \"white\", \"gridwidth\": 2, \"linecolor\": \"white\", \"showbackground\": true, \"ticks\": \"\", \"zerolinecolor\": \"white\"}, \"zaxis\": {\"backgroundcolor\": \"#E5ECF6\", \"gridcolor\": \"white\", \"gridwidth\": 2, \"linecolor\": \"white\", \"showbackground\": true, \"ticks\": \"\", \"zerolinecolor\": \"white\"}}, \"shapedefaults\": {\"line\": {\"color\": \"#2a3f5f\"}}, \"ternary\": {\"aaxis\": {\"gridcolor\": \"white\", \"linecolor\": \"white\", \"ticks\": \"\"}, \"baxis\": {\"gridcolor\": \"white\", \"linecolor\": \"white\", \"ticks\": \"\"}, \"bgcolor\": \"#E5ECF6\", \"caxis\": {\"gridcolor\": \"white\", \"linecolor\": \"white\", \"ticks\": \"\"}}, \"title\": {\"x\": 0.05}, \"xaxis\": {\"automargin\": true, \"gridcolor\": \"white\", \"linecolor\": \"white\", \"ticks\": \"\", \"title\": {\"standoff\": 15}, \"zerolinecolor\": \"white\", \"zerolinewidth\": 2}, \"yaxis\": {\"automargin\": true, \"gridcolor\": \"white\", \"linecolor\": \"white\", \"ticks\": \"\", \"title\": {\"standoff\": 15}, \"zerolinecolor\": \"white\", \"zerolinewidth\": 2}}}, \"title\": {\"font\": {\"color\": \"#4D5663\"}, \"text\": \"Sentiment Polarity Distribution\"}, \"xaxis\": {\"gridcolor\": \"#E1E5ED\", \"linecolor\": \"black\", \"showgrid\": true, \"tickfont\": {\"color\": \"#4D5663\"}, \"title\": {\"font\": {\"color\": \"#4D5663\"}, \"text\": \"polarity\"}, \"zerolinecolor\": \"#E1E5ED\"}, \"yaxis\": {\"gridcolor\": \"#E1E5ED\", \"linecolor\": \"black\", \"showgrid\": true, \"tickfont\": {\"color\": \"#4D5663\"}, \"title\": {\"font\": {\"color\": \"#4D5663\"}, \"text\": \"count\"}, \"zerolinecolor\": \"#E1E5ED\"}},\n",
       "                        {\"showLink\": true, \"linkText\": \"Export to plot.ly\", \"plotlyServerURL\": \"https://plot.ly\", \"responsive\": true}\n",
       "                    ).then(function(){\n",
       "                            \n",
       "var gd = document.getElementById('bc1dce4f-1791-4c04-8c72-cd1a68d45c08');\n",
       "var x = new MutationObserver(function (mutations, observer) {{\n",
       "        var display = window.getComputedStyle(gd).display;\n",
       "        if (!display || display === 'none') {{\n",
       "            console.log([gd, 'removed!']);\n",
       "            Plotly.purge(gd);\n",
       "            observer.disconnect();\n",
       "        }}\n",
       "}});\n",
       "\n",
       "// Listen for the removal of the full notebook cells\n",
       "var notebookContainer = gd.closest('#notebook-container');\n",
       "if (notebookContainer) {{\n",
       "    x.observe(notebookContainer, {childList: true});\n",
       "}}\n",
       "\n",
       "// Listen for the clearing of the current output cell\n",
       "var outputEl = gd.closest('.output');\n",
       "if (outputEl) {{\n",
       "    x.observe(outputEl, {childList: true});\n",
       "}}\n",
       "\n",
       "                        })\n",
       "                };\n",
       "                });\n",
       "            </script>\n",
       "        </div>"
      ]
     },
     "metadata": {},
     "output_type": "display_data"
    }
   ],
   "source": [
    "df['polarity'].iplot(\n",
    "    kind='hist',\n",
    "    bins=50,\n",
    "    xTitle='polarity',\n",
    "    linecolor='black',\n",
    "    yTitle='count',\n",
    "    color = 'Blue',\n",
    "    title='Sentiment Polarity Distribution')"
   ]
  },
  {
   "cell_type": "code",
   "execution_count": null,
   "metadata": {},
   "outputs": [],
   "source": []
  }
 ],
 "metadata": {
  "kernelspec": {
   "display_name": "Python 3",
   "language": "python",
   "name": "python3"
  },
  "language_info": {
   "codemirror_mode": {
    "name": "ipython",
    "version": 3
   },
   "file_extension": ".py",
   "mimetype": "text/x-python",
   "name": "python",
   "nbconvert_exporter": "python",
   "pygments_lexer": "ipython3",
   "version": "3.7.7"
  }
 },
 "nbformat": 4,
 "nbformat_minor": 4
}
