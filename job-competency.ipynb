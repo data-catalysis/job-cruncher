{
 "nbformat": 4,
 "nbformat_minor": 2,
 "metadata": {
  "language_info": {
   "name": "python",
   "codemirror_mode": {
    "name": "ipython",
    "version": 3
   },
   "version": "3.7.5-final"
  },
  "orig_nbformat": 2,
  "file_extension": ".py",
  "mimetype": "text/x-python",
  "name": "python",
  "npconvert_exporter": "python",
  "pygments_lexer": "ipython3",
  "version": 3,
  "kernelspec": {
   "name": "python37564bitvenvvenva3138b71e4064f57aed9d81ac75a212c",
   "display_name": "Python 3.7.5 64-bit ('venv': venv)"
  }
 },
 "cells": [
  {
   "cell_type": "markdown",
   "metadata": {},
   "source": [
    "# Notebook to map job title and description with occupation and competency"
   ]
  },
  {
   "cell_type": "code",
   "execution_count": 2,
   "metadata": {},
   "outputs": [],
   "source": [
    "import numpy as np\n",
    "import pandas as pd\n",
    "import sqlite3\n",
    "import spacy"
   ]
  },
  {
   "cell_type": "code",
   "execution_count": 3,
   "metadata": {},
   "outputs": [],
   "source": [
    "# Download pretrained enlgish model\n",
    "try:\n",
    "    import en_core_web_sm\n",
    "except:\n",
    "    !python -m spacy download en_core_web_sm\n",
    "    import en_core_web_sm"
   ]
  },
  {
   "cell_type": "code",
   "execution_count": 4,
   "metadata": {},
   "outputs": [],
   "source": [
    "# Read sqlite query results into a pandas DataFrame\n",
    "con = sqlite3.connect(\"collectors/data.sqlite3\")\n",
    "job_df = pd.read_sql_query(\"SELECT * from job_post\", con)\n",
    "con.close()"
   ]
  },
  {
   "cell_type": "code",
   "execution_count": 5,
   "metadata": {},
   "outputs": [
    {
     "data": {
      "text/html": "<div>\n<style scoped>\n    .dataframe tbody tr th:only-of-type {\n        vertical-align: middle;\n    }\n\n    .dataframe tbody tr th {\n        vertical-align: top;\n    }\n\n    .dataframe thead th {\n        text-align: right;\n    }\n</style>\n<table border=\"1\" class=\"dataframe\">\n  <thead>\n    <tr style=\"text-align: right;\">\n      <th></th>\n      <th>id</th>\n      <th>title</th>\n      <th>company</th>\n      <th>location</th>\n      <th>description</th>\n      <th>source</th>\n      <th>search_kw</th>\n    </tr>\n  </thead>\n  <tbody>\n    <tr>\n      <th>0</th>\n      <td>1</td>\n      <td>Data Scientist</td>\n      <td>Aquatic Informatics</td>\n      <td>Vancouver, BC</td>\n      <td>Do you want a meaningful role in a company tha...</td>\n      <td>indeed.com</td>\n      <td>data scientist</td>\n    </tr>\n    <tr>\n      <th>1</th>\n      <td>2</td>\n      <td>Business Intelligence Analyst</td>\n      <td>GLENTEL</td>\n      <td>Burnaby, BC</td>\n      <td>Brand: Glentel Corporate\\nLocation: Burnaby Of...</td>\n      <td>indeed.com</td>\n      <td>data scientist</td>\n    </tr>\n    <tr>\n      <th>2</th>\n      <td>3</td>\n      <td>Human Resources Data Scientist</td>\n      <td>Rio Tinto</td>\n      <td>Canada</td>\n      <td>2 x newly created Data Scientist opportunities...</td>\n      <td>indeed.com</td>\n      <td>data scientist</td>\n    </tr>\n    <tr>\n      <th>3</th>\n      <td>4</td>\n      <td>Lead - Human Resource Data Scientist</td>\n      <td>Rio Tinto</td>\n      <td>Canada</td>\n      <td>Newly created data science lead embedded withi...</td>\n      <td>indeed.com</td>\n      <td>data scientist</td>\n    </tr>\n    <tr>\n      <th>4</th>\n      <td>5</td>\n      <td>Machine Learning Engineer</td>\n      <td>Skycope Technologies Inc</td>\n      <td>Vancouver, BC</td>\n      <td>Who We are\\nFounded in 2016, Skycope Technolog...</td>\n      <td>indeed.com</td>\n      <td>data scientist</td>\n    </tr>\n  </tbody>\n</table>\n</div>",
      "text/plain": "   id                                 title                   company  \\\n0   1                        Data Scientist       Aquatic Informatics   \n1   2         Business Intelligence Analyst                   GLENTEL   \n2   3        Human Resources Data Scientist                 Rio Tinto   \n3   4  Lead - Human Resource Data Scientist                 Rio Tinto   \n4   5             Machine Learning Engineer  Skycope Technologies Inc   \n\n        location                                        description  \\\n0  Vancouver, BC  Do you want a meaningful role in a company tha...   \n1    Burnaby, BC  Brand: Glentel Corporate\\nLocation: Burnaby Of...   \n2         Canada  2 x newly created Data Scientist opportunities...   \n3         Canada  Newly created data science lead embedded withi...   \n4  Vancouver, BC  Who We are\\nFounded in 2016, Skycope Technolog...   \n\n       source       search_kw  \n0  indeed.com  data scientist  \n1  indeed.com  data scientist  \n2  indeed.com  data scientist  \n3  indeed.com  data scientist  \n4  indeed.com  data scientist  "
     },
     "execution_count": 5,
     "metadata": {},
     "output_type": "execute_result"
    }
   ],
   "source": [
    "# Verify that result of SQL query is stored in the dataframe\n",
    "job_df.head()"
   ]
  },
  {
   "cell_type": "code",
   "execution_count": 5,
   "metadata": {},
   "outputs": [],
   "source": [
    "job_titles = job_df['title'].to_list()"
   ]
  },
  {
   "cell_type": "code",
   "execution_count": 6,
   "metadata": {},
   "outputs": [],
   "source": [
    "job_titles = [title.lower() for title in job_titles]"
   ]
  },
  {
   "cell_type": "code",
   "execution_count": 7,
   "metadata": {},
   "outputs": [],
   "source": [
    "nlp = en_core_web_sm.load()"
   ]
  },
  {
   "cell_type": "code",
   "execution_count": 8,
   "metadata": {},
   "outputs": [],
   "source": [
    "# Preprocess the text\n",
    "def process_text(text):\n",
    "    doc = nlp(text)\n",
    "    result = []\n",
    "    for token in doc:\n",
    "        if token.text in nlp.Defaults.stop_words:\n",
    "            continue\n",
    "        if token.is_punct:\n",
    "            continue\n",
    "        if token.lemma_ == '-PRON-':\n",
    "            continue\n",
    "        # result.append(token.lemma_)\n",
    "        result.append(token.text)\n",
    "    return \" \".join(result)\n",
    "    # return result"
   ]
  },
  {
   "cell_type": "code",
   "execution_count": 9,
   "metadata": {},
   "outputs": [],
   "source": [
    "# Process every document\n",
    "for i in range(len(job_titles)):\n",
    "    job_titles[i] = process_text(job_titles[i])"
   ]
  },
  {
   "cell_type": "code",
   "execution_count": 10,
   "metadata": {},
   "outputs": [
    {
     "data": {
      "text/plain": "['data scientist',\n 'business intelligence analyst',\n 'human resources data scientist',\n 'lead human resource data scientist',\n 'machine learning engineer']"
     },
     "execution_count": 10,
     "metadata": {},
     "output_type": "execute_result"
    }
   ],
   "source": [
    "job_titles[0:5]"
   ]
  },
  {
   "cell_type": "code",
   "execution_count": 48,
   "metadata": {},
   "outputs": [
    {
     "data": {
      "text/html": "<div>\n<style scoped>\n    .dataframe tbody tr th:only-of-type {\n        vertical-align: middle;\n    }\n\n    .dataframe tbody tr th {\n        vertical-align: top;\n    }\n\n    .dataframe thead th {\n        text-align: right;\n    }\n</style>\n<table border=\"1\" class=\"dataframe\">\n  <thead>\n    <tr style=\"text-align: right;\">\n      <th></th>\n      <th>occupation</th>\n      <th>competency</th>\n      <th>category</th>\n      <th>description</th>\n    </tr>\n  </thead>\n  <tbody>\n    <tr>\n      <th>0</th>\n      <td>Computer and Information Research Scientists</td>\n      <td>Source code management SCM software</td>\n      <td>Technology Skills</td>\n      <td>Development environment software</td>\n    </tr>\n    <tr>\n      <th>1</th>\n      <td>Computer and Information Research Scientists</td>\n      <td>Microsoft Azure</td>\n      <td>Technology Skills</td>\n      <td>Development environment software</td>\n    </tr>\n    <tr>\n      <th>2</th>\n      <td>Computer and Information Research Scientists</td>\n      <td>Visualization</td>\n      <td>Abilities</td>\n      <td>The ability to imagine how something will look...</td>\n    </tr>\n    <tr>\n      <th>3</th>\n      <td>Computer and Information Research Scientists</td>\n      <td>Free-field speakers</td>\n      <td>Tools Used</td>\n      <td>Loudspeakers</td>\n    </tr>\n    <tr>\n      <th>4</th>\n      <td>Computer and Information Research Scientists</td>\n      <td>Data visualization software</td>\n      <td>Technology Skills</td>\n      <td>Analytical or scientific software</td>\n    </tr>\n    <tr>\n      <th>5</th>\n      <td>Computer and Information Research Scientists</td>\n      <td>Judgment and Decision Making</td>\n      <td>Skills</td>\n      <td>Considering the relative costs and benefits of...</td>\n    </tr>\n    <tr>\n      <th>6</th>\n      <td>Computer and Information Research Scientists</td>\n      <td>Linux</td>\n      <td>Technology Skills</td>\n      <td>Operating system software</td>\n    </tr>\n    <tr>\n      <th>7</th>\n      <td>Computer and Information Research Scientists</td>\n      <td>IBM Rational Apex</td>\n      <td>Technology Skills</td>\n      <td>Configuration management software</td>\n    </tr>\n    <tr>\n      <th>8</th>\n      <td>Computer and Information Research Scientists</td>\n      <td>Minitab</td>\n      <td>Technology Skills</td>\n      <td>Analytical or scientific software</td>\n    </tr>\n    <tr>\n      <th>9</th>\n      <td>Computer and Information Research Scientists</td>\n      <td>Evaluate project plans and proposals to assess...</td>\n      <td>Task Statements</td>\n      <td>Core</td>\n    </tr>\n  </tbody>\n</table>\n</div>",
      "text/plain": "                                     occupation  \\\n0  Computer and Information Research Scientists   \n1  Computer and Information Research Scientists   \n2  Computer and Information Research Scientists   \n3  Computer and Information Research Scientists   \n4  Computer and Information Research Scientists   \n5  Computer and Information Research Scientists   \n6  Computer and Information Research Scientists   \n7  Computer and Information Research Scientists   \n8  Computer and Information Research Scientists   \n9  Computer and Information Research Scientists   \n\n                                          competency           category  \\\n0                Source code management SCM software  Technology Skills   \n1                                    Microsoft Azure  Technology Skills   \n2                                      Visualization          Abilities   \n3                                Free-field speakers         Tools Used   \n4                        Data visualization software  Technology Skills   \n5                       Judgment and Decision Making             Skills   \n6                                              Linux  Technology Skills   \n7                                  IBM Rational Apex  Technology Skills   \n8                                            Minitab  Technology Skills   \n9  Evaluate project plans and proposals to assess...    Task Statements   \n\n                                         description  \n0                   Development environment software  \n1                   Development environment software  \n2  The ability to imagine how something will look...  \n3                                       Loudspeakers  \n4                  Analytical or scientific software  \n5  Considering the relative costs and benefits of...  \n6                          Operating system software  \n7                  Configuration management software  \n8                  Analytical or scientific software  \n9                                               Core  "
     },
     "execution_count": 48,
     "metadata": {},
     "output_type": "execute_result"
    }
   ],
   "source": [
    "onet_competencies = 'datasets/competencies.csv'\n",
    "onet_df = pd.read_csv(onet_competencies,index_col=0)\n",
    "onet_df[onet_df['occupation'] == 'Computer and Information Research Scientists'].head(10)"
   ]
  },
  {
   "cell_type": "code",
   "execution_count": 49,
   "metadata": {},
   "outputs": [
    {
     "data": {
      "text/html": "<div>\n<style scoped>\n    .dataframe tbody tr th:only-of-type {\n        vertical-align: middle;\n    }\n\n    .dataframe tbody tr th {\n        vertical-align: top;\n    }\n\n    .dataframe thead th {\n        text-align: right;\n    }\n</style>\n<table border=\"1\" class=\"dataframe\">\n  <thead>\n    <tr style=\"text-align: right;\">\n      <th></th>\n      <th>identifier</th>\n      <th>name</th>\n      <th>description</th>\n      <th>titles</th>\n    </tr>\n  </thead>\n  <tbody>\n    <tr>\n      <th>0</th>\n      <td>15-1111.00</td>\n      <td>Computer and Information Research Scientists</td>\n      <td>Conduct research into fundamental computer and...</td>\n      <td>Artificial Intelligence Specialist (AI Special...</td>\n    </tr>\n    <tr>\n      <th>1</th>\n      <td>19-4061.00</td>\n      <td>Social Science Research Assistants</td>\n      <td>Assist social scientists in laboratory, survey...</td>\n      <td>Bilingual Research Interviewer,Clinical Resear...</td>\n    </tr>\n    <tr>\n      <th>2</th>\n      <td>19-2099.01</td>\n      <td>Remote Sensing Scientists and Technologists</td>\n      <td>Apply remote sensing principles and methods to...</td>\n      <td>All Source Intelligence Analyst,Data Analytics...</td>\n    </tr>\n    <tr>\n      <th>3</th>\n      <td>19-1029.01</td>\n      <td>Bioinformatics Scientists</td>\n      <td>Conduct research using bioinformatics theory a...</td>\n      <td>Assistant Scientist,Bioinformatician,Bioinform...</td>\n    </tr>\n    <tr>\n      <th>4</th>\n      <td>15-1199.04</td>\n      <td>Geospatial Information Scientists and Technolo...</td>\n      <td>Research or develop geospatial technologies. M...</td>\n      <td>Geographic Information Scientist,Geographic In...</td>\n    </tr>\n    <tr>\n      <th>5</th>\n      <td>19-3022.00</td>\n      <td>Survey Researchers</td>\n      <td>Plan, develop, or conduct surveys. May analyze...</td>\n      <td>Data Analyst,Data Collection Specialist,Field ...</td>\n    </tr>\n    <tr>\n      <th>6</th>\n      <td>15-2041.00</td>\n      <td>Statisticians</td>\n      <td>Develop or apply mathematical or statistical t...</td>\n      <td>Analytical Statistician,Applied Scientist,Appl...</td>\n    </tr>\n    <tr>\n      <th>7</th>\n      <td>15-1121.00</td>\n      <td>Computer Systems Analysts</td>\n      <td>Analyze science, engineering, business, and ot...</td>\n      <td>Applications Analyst,Applications Systems Anal...</td>\n    </tr>\n    <tr>\n      <th>8</th>\n      <td>15-2021.00</td>\n      <td>Mathematicians</td>\n      <td>Conduct research in fundamental mathematics or...</td>\n      <td>Agent-Based Modeler,Algebraist,Applied Mathema...</td>\n    </tr>\n    <tr>\n      <th>9</th>\n      <td>15-1133.00</td>\n      <td>Software Developers, Systems Software</td>\n      <td>Research, design, develop, and test operating ...</td>\n      <td>Applications Analyst,Automation Engineer,Beta ...</td>\n    </tr>\n  </tbody>\n</table>\n</div>",
      "text/plain": "   identifier                                               name  \\\n0  15-1111.00       Computer and Information Research Scientists   \n1  19-4061.00                 Social Science Research Assistants   \n2  19-2099.01        Remote Sensing Scientists and Technologists   \n3  19-1029.01                          Bioinformatics Scientists   \n4  15-1199.04  Geospatial Information Scientists and Technolo...   \n5  19-3022.00                                 Survey Researchers   \n6  15-2041.00                                      Statisticians   \n7  15-1121.00                          Computer Systems Analysts   \n8  15-2021.00                                     Mathematicians   \n9  15-1133.00              Software Developers, Systems Software   \n\n                                         description  \\\n0  Conduct research into fundamental computer and...   \n1  Assist social scientists in laboratory, survey...   \n2  Apply remote sensing principles and methods to...   \n3  Conduct research using bioinformatics theory a...   \n4  Research or develop geospatial technologies. M...   \n5  Plan, develop, or conduct surveys. May analyze...   \n6  Develop or apply mathematical or statistical t...   \n7  Analyze science, engineering, business, and ot...   \n8  Conduct research in fundamental mathematics or...   \n9  Research, design, develop, and test operating ...   \n\n                                              titles  \n0  Artificial Intelligence Specialist (AI Special...  \n1  Bilingual Research Interviewer,Clinical Resear...  \n2  All Source Intelligence Analyst,Data Analytics...  \n3  Assistant Scientist,Bioinformatician,Bioinform...  \n4  Geographic Information Scientist,Geographic In...  \n5  Data Analyst,Data Collection Specialist,Field ...  \n6  Analytical Statistician,Applied Scientist,Appl...  \n7  Applications Analyst,Applications Systems Anal...  \n8  Agent-Based Modeler,Algebraist,Applied Mathema...  \n9  Applications Analyst,Automation Engineer,Beta ...  "
     },
     "execution_count": 49,
     "metadata": {},
     "output_type": "execute_result"
    }
   ],
   "source": [
    "onet_occupations = 'datasets/occupations.csv'\n",
    "onet_oc_df = pd.read_csv(onet_occupations,index_col=0)\n",
    "onet_oc_df.head(10)"
   ]
  },
  {
   "cell_type": "code",
   "execution_count": 84,
   "metadata": {},
   "outputs": [
    {
     "data": {
      "text/html": "<div>\n<style scoped>\n    .dataframe tbody tr th:only-of-type {\n        vertical-align: middle;\n    }\n\n    .dataframe tbody tr th {\n        vertical-align: top;\n    }\n\n    .dataframe thead th {\n        text-align: right;\n    }\n</style>\n<table border=\"1\" class=\"dataframe\">\n  <thead>\n    <tr style=\"text-align: right;\">\n      <th></th>\n      <th>id</th>\n      <th>title</th>\n      <th>company</th>\n      <th>location</th>\n      <th>description</th>\n      <th>source</th>\n      <th>search_kw</th>\n      <th>title_processed</th>\n    </tr>\n  </thead>\n  <tbody>\n    <tr>\n      <th>0</th>\n      <td>1</td>\n      <td>Data Scientist</td>\n      <td>Aquatic Informatics</td>\n      <td>Vancouver, BC</td>\n      <td>Do you want a meaningful role in a company tha...</td>\n      <td>indeed.com</td>\n      <td>data scientist</td>\n      <td>data scientist</td>\n    </tr>\n    <tr>\n      <th>1</th>\n      <td>2</td>\n      <td>Business Intelligence Analyst</td>\n      <td>GLENTEL</td>\n      <td>Burnaby, BC</td>\n      <td>Brand: Glentel Corporate\\nLocation: Burnaby Of...</td>\n      <td>indeed.com</td>\n      <td>data scientist</td>\n      <td>business intelligence analyst</td>\n    </tr>\n    <tr>\n      <th>2</th>\n      <td>3</td>\n      <td>Human Resources Data Scientist</td>\n      <td>Rio Tinto</td>\n      <td>Canada</td>\n      <td>2 x newly created Data Scientist opportunities...</td>\n      <td>indeed.com</td>\n      <td>data scientist</td>\n      <td>human resources data scientist</td>\n    </tr>\n    <tr>\n      <th>3</th>\n      <td>4</td>\n      <td>Lead - Human Resource Data Scientist</td>\n      <td>Rio Tinto</td>\n      <td>Canada</td>\n      <td>Newly created data science lead embedded withi...</td>\n      <td>indeed.com</td>\n      <td>data scientist</td>\n      <td>lead human resource data scientist</td>\n    </tr>\n    <tr>\n      <th>4</th>\n      <td>5</td>\n      <td>Machine Learning Engineer</td>\n      <td>Skycope Technologies Inc</td>\n      <td>Vancouver, BC</td>\n      <td>Who We are\\nFounded in 2016, Skycope Technolog...</td>\n      <td>indeed.com</td>\n      <td>data scientist</td>\n      <td>machine learning engineer</td>\n    </tr>\n    <tr>\n      <th>5</th>\n      <td>6</td>\n      <td>Data Scientist</td>\n      <td>BrainStation</td>\n      <td>Vancouver, BC</td>\n      <td>BrainStation is a global leader in digital ski...</td>\n      <td>indeed.com</td>\n      <td>data scientist</td>\n      <td>data scientist</td>\n    </tr>\n    <tr>\n      <th>6</th>\n      <td>7</td>\n      <td>Associate Data Scientist</td>\n      <td>TrainTurf Academic Solutions Limited</td>\n      <td>Vancouver, BC</td>\n      <td>We are looking for a Data Scientist to support...</td>\n      <td>indeed.com</td>\n      <td>data scientist</td>\n      <td>associate data scientist</td>\n    </tr>\n    <tr>\n      <th>7</th>\n      <td>8</td>\n      <td>Data Scientist I</td>\n      <td>AMZN CAN Fulfillment Svcs, ULC</td>\n      <td>Vancouver, BC</td>\n      <td>Master or PhD in Computer Science, Machine Lea...</td>\n      <td>indeed.com</td>\n      <td>data scientist</td>\n      <td>data scientist</td>\n    </tr>\n    <tr>\n      <th>8</th>\n      <td>9</td>\n      <td>Data Scientist, AI@Unity</td>\n      <td>Unity Technologies</td>\n      <td>Vancouver, BC</td>\n      <td>Data is the foundation of our business in AI @...</td>\n      <td>indeed.com</td>\n      <td>data scientist</td>\n      <td>data scientist ai@unity</td>\n    </tr>\n    <tr>\n      <th>9</th>\n      <td>10</td>\n      <td>Data Scientist</td>\n      <td>Providence Health Care</td>\n      <td>Vancouver, BC</td>\n      <td>Reporting to the Technical Manager, Digital Pr...</td>\n      <td>indeed.com</td>\n      <td>data scientist</td>\n      <td>data scientist</td>\n    </tr>\n  </tbody>\n</table>\n</div>",
      "text/plain": "   id                                 title  \\\n0   1                        Data Scientist   \n1   2         Business Intelligence Analyst   \n2   3        Human Resources Data Scientist   \n3   4  Lead - Human Resource Data Scientist   \n4   5             Machine Learning Engineer   \n5   6                        Data Scientist   \n6   7              Associate Data Scientist   \n7   8                      Data Scientist I   \n8   9              Data Scientist, AI@Unity   \n9  10                        Data Scientist   \n\n                                company       location  \\\n0                   Aquatic Informatics  Vancouver, BC   \n1                               GLENTEL    Burnaby, BC   \n2                             Rio Tinto         Canada   \n3                             Rio Tinto         Canada   \n4              Skycope Technologies Inc  Vancouver, BC   \n5                          BrainStation  Vancouver, BC   \n6  TrainTurf Academic Solutions Limited  Vancouver, BC   \n7        AMZN CAN Fulfillment Svcs, ULC  Vancouver, BC   \n8                    Unity Technologies  Vancouver, BC   \n9                Providence Health Care  Vancouver, BC   \n\n                                         description      source  \\\n0  Do you want a meaningful role in a company tha...  indeed.com   \n1  Brand: Glentel Corporate\\nLocation: Burnaby Of...  indeed.com   \n2  2 x newly created Data Scientist opportunities...  indeed.com   \n3  Newly created data science lead embedded withi...  indeed.com   \n4  Who We are\\nFounded in 2016, Skycope Technolog...  indeed.com   \n5  BrainStation is a global leader in digital ski...  indeed.com   \n6  We are looking for a Data Scientist to support...  indeed.com   \n7  Master or PhD in Computer Science, Machine Lea...  indeed.com   \n8  Data is the foundation of our business in AI @...  indeed.com   \n9  Reporting to the Technical Manager, Digital Pr...  indeed.com   \n\n        search_kw                     title_processed  \n0  data scientist                      data scientist  \n1  data scientist       business intelligence analyst  \n2  data scientist      human resources data scientist  \n3  data scientist  lead human resource data scientist  \n4  data scientist           machine learning engineer  \n5  data scientist                      data scientist  \n6  data scientist            associate data scientist  \n7  data scientist                      data scientist  \n8  data scientist             data scientist ai@unity  \n9  data scientist                      data scientist  "
     },
     "execution_count": 84,
     "metadata": {},
     "output_type": "execute_result"
    }
   ],
   "source": [
    "title_occupation = job_df.copy()\n",
    "title_occupation['title_processed'] = job_titles\n",
    "title_occupation.head(10)"
   ]
  },
  {
   "cell_type": "code",
   "execution_count": 88,
   "metadata": {},
   "outputs": [],
   "source": [
    "# Process every document\n",
    "occupation_titles =  onet_oc_df['titles'].to_list()\n",
    "for i in range(len(occupation_titles)):\n",
    "    occupation_titles[i] = [process_text(title.lower()) for title in occupation_titles[i].split(',')]"
   ]
  },
  {
   "cell_type": "code",
   "execution_count": 89,
   "metadata": {},
   "outputs": [],
   "source": [
    "onet_oc_df['titles_processed'] = occupation_titles"
   ]
  },
  {
   "cell_type": "code",
   "execution_count": 90,
   "metadata": {},
   "outputs": [
    {
     "data": {
      "text/html": "<div>\n<style scoped>\n    .dataframe tbody tr th:only-of-type {\n        vertical-align: middle;\n    }\n\n    .dataframe tbody tr th {\n        vertical-align: top;\n    }\n\n    .dataframe thead th {\n        text-align: right;\n    }\n</style>\n<table border=\"1\" class=\"dataframe\">\n  <thead>\n    <tr style=\"text-align: right;\">\n      <th></th>\n      <th>identifier</th>\n      <th>name</th>\n      <th>description</th>\n      <th>titles</th>\n      <th>titles_processed</th>\n    </tr>\n  </thead>\n  <tbody>\n    <tr>\n      <th>0</th>\n      <td>15-1111.00</td>\n      <td>Computer and Information Research Scientists</td>\n      <td>Conduct research into fundamental computer and...</td>\n      <td>Artificial Intelligence Specialist (AI Special...</td>\n      <td>[artificial intelligence specialist ai special...</td>\n    </tr>\n    <tr>\n      <th>1</th>\n      <td>19-4061.00</td>\n      <td>Social Science Research Assistants</td>\n      <td>Assist social scientists in laboratory, survey...</td>\n      <td>Bilingual Research Interviewer,Clinical Resear...</td>\n      <td>[bilingual research interviewer, clinical rese...</td>\n    </tr>\n    <tr>\n      <th>2</th>\n      <td>19-2099.01</td>\n      <td>Remote Sensing Scientists and Technologists</td>\n      <td>Apply remote sensing principles and methods to...</td>\n      <td>All Source Intelligence Analyst,Data Analytics...</td>\n      <td>[source intelligence analyst, data analytics c...</td>\n    </tr>\n    <tr>\n      <th>3</th>\n      <td>19-1029.01</td>\n      <td>Bioinformatics Scientists</td>\n      <td>Conduct research using bioinformatics theory a...</td>\n      <td>Assistant Scientist,Bioinformatician,Bioinform...</td>\n      <td>[assistant scientist, bioinformatician, bioinf...</td>\n    </tr>\n    <tr>\n      <th>4</th>\n      <td>15-1199.04</td>\n      <td>Geospatial Information Scientists and Technolo...</td>\n      <td>Research or develop geospatial technologies. M...</td>\n      <td>Geographic Information Scientist,Geographic In...</td>\n      <td>[geographic information scientist, geographic ...</td>\n    </tr>\n    <tr>\n      <th>5</th>\n      <td>19-3022.00</td>\n      <td>Survey Researchers</td>\n      <td>Plan, develop, or conduct surveys. May analyze...</td>\n      <td>Data Analyst,Data Collection Specialist,Field ...</td>\n      <td>[data analyst, data collection specialist, fie...</td>\n    </tr>\n    <tr>\n      <th>6</th>\n      <td>15-2041.00</td>\n      <td>Statisticians</td>\n      <td>Develop or apply mathematical or statistical t...</td>\n      <td>Analytical Statistician,Applied Scientist,Appl...</td>\n      <td>[analytical statistician, applied scientist, a...</td>\n    </tr>\n    <tr>\n      <th>7</th>\n      <td>15-1121.00</td>\n      <td>Computer Systems Analysts</td>\n      <td>Analyze science, engineering, business, and ot...</td>\n      <td>Applications Analyst,Applications Systems Anal...</td>\n      <td>[applications analyst, applications systems an...</td>\n    </tr>\n    <tr>\n      <th>8</th>\n      <td>15-2021.00</td>\n      <td>Mathematicians</td>\n      <td>Conduct research in fundamental mathematics or...</td>\n      <td>Agent-Based Modeler,Algebraist,Applied Mathema...</td>\n      <td>[agent based modeler, algebraist, applied math...</td>\n    </tr>\n    <tr>\n      <th>9</th>\n      <td>15-1133.00</td>\n      <td>Software Developers, Systems Software</td>\n      <td>Research, design, develop, and test operating ...</td>\n      <td>Applications Analyst,Automation Engineer,Beta ...</td>\n      <td>[applications analyst, automation engineer, be...</td>\n    </tr>\n  </tbody>\n</table>\n</div>",
      "text/plain": "   identifier                                               name  \\\n0  15-1111.00       Computer and Information Research Scientists   \n1  19-4061.00                 Social Science Research Assistants   \n2  19-2099.01        Remote Sensing Scientists and Technologists   \n3  19-1029.01                          Bioinformatics Scientists   \n4  15-1199.04  Geospatial Information Scientists and Technolo...   \n5  19-3022.00                                 Survey Researchers   \n6  15-2041.00                                      Statisticians   \n7  15-1121.00                          Computer Systems Analysts   \n8  15-2021.00                                     Mathematicians   \n9  15-1133.00              Software Developers, Systems Software   \n\n                                         description  \\\n0  Conduct research into fundamental computer and...   \n1  Assist social scientists in laboratory, survey...   \n2  Apply remote sensing principles and methods to...   \n3  Conduct research using bioinformatics theory a...   \n4  Research or develop geospatial technologies. M...   \n5  Plan, develop, or conduct surveys. May analyze...   \n6  Develop or apply mathematical or statistical t...   \n7  Analyze science, engineering, business, and ot...   \n8  Conduct research in fundamental mathematics or...   \n9  Research, design, develop, and test operating ...   \n\n                                              titles  \\\n0  Artificial Intelligence Specialist (AI Special...   \n1  Bilingual Research Interviewer,Clinical Resear...   \n2  All Source Intelligence Analyst,Data Analytics...   \n3  Assistant Scientist,Bioinformatician,Bioinform...   \n4  Geographic Information Scientist,Geographic In...   \n5  Data Analyst,Data Collection Specialist,Field ...   \n6  Analytical Statistician,Applied Scientist,Appl...   \n7  Applications Analyst,Applications Systems Anal...   \n8  Agent-Based Modeler,Algebraist,Applied Mathema...   \n9  Applications Analyst,Automation Engineer,Beta ...   \n\n                                    titles_processed  \n0  [artificial intelligence specialist ai special...  \n1  [bilingual research interviewer, clinical rese...  \n2  [source intelligence analyst, data analytics c...  \n3  [assistant scientist, bioinformatician, bioinf...  \n4  [geographic information scientist, geographic ...  \n5  [data analyst, data collection specialist, fie...  \n6  [analytical statistician, applied scientist, a...  \n7  [applications analyst, applications systems an...  \n8  [agent based modeler, algebraist, applied math...  \n9  [applications analyst, automation engineer, be...  "
     },
     "execution_count": 90,
     "metadata": {},
     "output_type": "execute_result"
    }
   ],
   "source": [
    "onet_oc_df.head(10)"
   ]
  },
  {
   "cell_type": "markdown",
   "metadata": {},
   "source": [
    "## Two methods to calculate the similarity\n",
    "### 1. Calculate job title similarity with all the alternate titles for each occupation in ONet\n",
    "### 2. Calculate job title similarity with each alternate title for each occupation in ONet, and store maximum similarty score valued title"
   ]
  },
  {
   "cell_type": "code",
   "execution_count": 272,
   "metadata": {},
   "outputs": [
    {
     "data": {
      "text/html": "<div>\n<style scoped>\n    .dataframe tbody tr th:only-of-type {\n        vertical-align: middle;\n    }\n\n    .dataframe tbody tr th {\n        vertical-align: top;\n    }\n\n    .dataframe thead th {\n        text-align: right;\n    }\n</style>\n<table border=\"1\" class=\"dataframe\">\n  <thead>\n    <tr style=\"text-align: right;\">\n      <th></th>\n      <th>id</th>\n      <th>title_processed</th>\n      <th>identifier</th>\n      <th>titles_processed</th>\n    </tr>\n  </thead>\n  <tbody>\n    <tr>\n      <th>0</th>\n      <td>1</td>\n      <td>data scientist</td>\n      <td>15-1111.00</td>\n      <td>[artificial intelligence specialist ai special...</td>\n    </tr>\n    <tr>\n      <th>1</th>\n      <td>1</td>\n      <td>data scientist</td>\n      <td>19-4061.00</td>\n      <td>[bilingual research interviewer, clinical rese...</td>\n    </tr>\n    <tr>\n      <th>2</th>\n      <td>1</td>\n      <td>data scientist</td>\n      <td>19-2099.01</td>\n      <td>[source intelligence analyst, data analytics c...</td>\n    </tr>\n    <tr>\n      <th>3</th>\n      <td>1</td>\n      <td>data scientist</td>\n      <td>19-1029.01</td>\n      <td>[assistant scientist, bioinformatician, bioinf...</td>\n    </tr>\n    <tr>\n      <th>4</th>\n      <td>1</td>\n      <td>data scientist</td>\n      <td>15-1199.04</td>\n      <td>[geographic information scientist, geographic ...</td>\n    </tr>\n    <tr>\n      <th>5</th>\n      <td>1</td>\n      <td>data scientist</td>\n      <td>19-3022.00</td>\n      <td>[data analyst, data collection specialist, fie...</td>\n    </tr>\n    <tr>\n      <th>6</th>\n      <td>1</td>\n      <td>data scientist</td>\n      <td>15-2041.00</td>\n      <td>[analytical statistician, applied scientist, a...</td>\n    </tr>\n    <tr>\n      <th>7</th>\n      <td>1</td>\n      <td>data scientist</td>\n      <td>15-1121.00</td>\n      <td>[applications analyst, applications systems an...</td>\n    </tr>\n    <tr>\n      <th>8</th>\n      <td>1</td>\n      <td>data scientist</td>\n      <td>15-2021.00</td>\n      <td>[agent based modeler, algebraist, applied math...</td>\n    </tr>\n    <tr>\n      <th>9</th>\n      <td>1</td>\n      <td>data scientist</td>\n      <td>15-1133.00</td>\n      <td>[applications analyst, automation engineer, be...</td>\n    </tr>\n  </tbody>\n</table>\n</div>",
      "text/plain": "   id title_processed  identifier  \\\n0   1  data scientist  15-1111.00   \n1   1  data scientist  19-4061.00   \n2   1  data scientist  19-2099.01   \n3   1  data scientist  19-1029.01   \n4   1  data scientist  15-1199.04   \n5   1  data scientist  19-3022.00   \n6   1  data scientist  15-2041.00   \n7   1  data scientist  15-1121.00   \n8   1  data scientist  15-2021.00   \n9   1  data scientist  15-1133.00   \n\n                                    titles_processed  \n0  [artificial intelligence specialist ai special...  \n1  [bilingual research interviewer, clinical rese...  \n2  [source intelligence analyst, data analytics c...  \n3  [assistant scientist, bioinformatician, bioinf...  \n4  [geographic information scientist, geographic ...  \n5  [data analyst, data collection specialist, fie...  \n6  [analytical statistician, applied scientist, a...  \n7  [applications analyst, applications systems an...  \n8  [agent based modeler, algebraist, applied math...  \n9  [applications analyst, automation engineer, be...  "
     },
     "execution_count": 272,
     "metadata": {},
     "output_type": "execute_result"
    }
   ],
   "source": [
    "import itertools\n",
    "\n",
    "df1 = title_occupation[['id', 'title_processed']]\n",
    "df2 = onet_oc_df[['identifier', 'titles_processed']]\n",
    "\n",
    "df_vals = list(itertools.product(df1.values.tolist(),df2.values.tolist()))\n",
    "colnames = list(df1.columns) + list(df2.columns)\n",
    "score_df = pd.DataFrame(list(map(lambda x : sum(x,[]), df_vals)), columns=colnames)\n",
    "score_df.head(10)"
   ]
  },
  {
   "cell_type": "code",
   "execution_count": 219,
   "metadata": {},
   "outputs": [],
   "source": [
    "# Method 1 - with all alternate titles together\n",
    "\n",
    "nlp_title = np.array([nlp(title) for title in df1['title_processed']])\n",
    "nlp_occupation_title = np.array([nlp(' '.join(title)) for title in df2['titles_processed']])\n",
    "scores = np.array([title.similarity(occupation_title) \\\n",
    "                  for title in nlp_title \\\n",
    "                  for occupation_title in nlp_occupation_title])"
   ]
  },
  {
   "cell_type": "code",
   "execution_count": 274,
   "metadata": {},
   "outputs": [
    {
     "data": {
      "text/html": "<div>\n<style scoped>\n    .dataframe tbody tr th:only-of-type {\n        vertical-align: middle;\n    }\n\n    .dataframe tbody tr th {\n        vertical-align: top;\n    }\n\n    .dataframe thead th {\n        text-align: right;\n    }\n</style>\n<table border=\"1\" class=\"dataframe\">\n  <thead>\n    <tr style=\"text-align: right;\">\n      <th></th>\n      <th>id</th>\n      <th>title_processed</th>\n      <th>identifier</th>\n      <th>titles_processed</th>\n      <th>score_all</th>\n    </tr>\n  </thead>\n  <tbody>\n    <tr>\n      <th>0</th>\n      <td>1</td>\n      <td>data scientist</td>\n      <td>15-1111.00</td>\n      <td>[artificial intelligence specialist ai special...</td>\n      <td>0.749518</td>\n    </tr>\n    <tr>\n      <th>1</th>\n      <td>1</td>\n      <td>data scientist</td>\n      <td>19-4061.00</td>\n      <td>[bilingual research interviewer, clinical rese...</td>\n      <td>0.615939</td>\n    </tr>\n    <tr>\n      <th>2</th>\n      <td>1</td>\n      <td>data scientist</td>\n      <td>19-2099.01</td>\n      <td>[source intelligence analyst, data analytics c...</td>\n      <td>0.735846</td>\n    </tr>\n    <tr>\n      <th>3</th>\n      <td>1</td>\n      <td>data scientist</td>\n      <td>19-1029.01</td>\n      <td>[assistant scientist, bioinformatician, bioinf...</td>\n      <td>0.712033</td>\n    </tr>\n    <tr>\n      <th>4</th>\n      <td>1</td>\n      <td>data scientist</td>\n      <td>15-1199.04</td>\n      <td>[geographic information scientist, geographic ...</td>\n      <td>0.708090</td>\n    </tr>\n    <tr>\n      <th>5</th>\n      <td>1</td>\n      <td>data scientist</td>\n      <td>19-3022.00</td>\n      <td>[data analyst, data collection specialist, fie...</td>\n      <td>0.683782</td>\n    </tr>\n    <tr>\n      <th>6</th>\n      <td>1</td>\n      <td>data scientist</td>\n      <td>15-2041.00</td>\n      <td>[analytical statistician, applied scientist, a...</td>\n      <td>0.729251</td>\n    </tr>\n    <tr>\n      <th>7</th>\n      <td>1</td>\n      <td>data scientist</td>\n      <td>15-1121.00</td>\n      <td>[applications analyst, applications systems an...</td>\n      <td>0.714373</td>\n    </tr>\n    <tr>\n      <th>8</th>\n      <td>1</td>\n      <td>data scientist</td>\n      <td>15-2021.00</td>\n      <td>[agent based modeler, algebraist, applied math...</td>\n      <td>0.733290</td>\n    </tr>\n    <tr>\n      <th>9</th>\n      <td>1</td>\n      <td>data scientist</td>\n      <td>15-1133.00</td>\n      <td>[applications analyst, automation engineer, be...</td>\n      <td>0.677256</td>\n    </tr>\n  </tbody>\n</table>\n</div>",
      "text/plain": "   id title_processed  identifier  \\\n0   1  data scientist  15-1111.00   \n1   1  data scientist  19-4061.00   \n2   1  data scientist  19-2099.01   \n3   1  data scientist  19-1029.01   \n4   1  data scientist  15-1199.04   \n5   1  data scientist  19-3022.00   \n6   1  data scientist  15-2041.00   \n7   1  data scientist  15-1121.00   \n8   1  data scientist  15-2021.00   \n9   1  data scientist  15-1133.00   \n\n                                    titles_processed  score_all  \n0  [artificial intelligence specialist ai special...   0.749518  \n1  [bilingual research interviewer, clinical rese...   0.615939  \n2  [source intelligence analyst, data analytics c...   0.735846  \n3  [assistant scientist, bioinformatician, bioinf...   0.712033  \n4  [geographic information scientist, geographic ...   0.708090  \n5  [data analyst, data collection specialist, fie...   0.683782  \n6  [analytical statistician, applied scientist, a...   0.729251  \n7  [applications analyst, applications systems an...   0.714373  \n8  [agent based modeler, algebraist, applied math...   0.733290  \n9  [applications analyst, automation engineer, be...   0.677256  "
     },
     "execution_count": 274,
     "metadata": {},
     "output_type": "execute_result"
    }
   ],
   "source": [
    "score_df['score_all'] = scores\n",
    "score_df.head(10)"
   ]
  },
  {
   "cell_type": "code",
   "execution_count": 275,
   "metadata": {},
   "outputs": [
    {
     "data": {
      "text/html": "<div>\n<style scoped>\n    .dataframe tbody tr th:only-of-type {\n        vertical-align: middle;\n    }\n\n    .dataframe tbody tr th {\n        vertical-align: top;\n    }\n\n    .dataframe thead th {\n        text-align: right;\n    }\n</style>\n<table border=\"1\" class=\"dataframe\">\n  <thead>\n    <tr style=\"text-align: right;\">\n      <th></th>\n      <th>id</th>\n      <th>title_processed</th>\n      <th>identifier</th>\n      <th>titles_processed</th>\n      <th>score_all</th>\n    </tr>\n  </thead>\n  <tbody>\n    <tr>\n      <th>0</th>\n      <td>1</td>\n      <td>data scientist</td>\n      <td>15-1111.00</td>\n      <td>[artificial intelligence specialist ai special...</td>\n      <td>0.749518</td>\n    </tr>\n    <tr>\n      <th>35</th>\n      <td>2</td>\n      <td>business intelligence analyst</td>\n      <td>15-1199.08</td>\n      <td>[analytical data miner, business analyst, busi...</td>\n      <td>0.873630</td>\n    </tr>\n    <tr>\n      <th>57</th>\n      <td>3</td>\n      <td>human resources data scientist</td>\n      <td>15-2041.02</td>\n      <td>[clinical applications director, clinical bios...</td>\n      <td>0.810885</td>\n    </tr>\n    <tr>\n      <th>66</th>\n      <td>4</td>\n      <td>lead human resource data scientist</td>\n      <td>15-2041.00</td>\n      <td>[analytical statistician, applied scientist, a...</td>\n      <td>0.828754</td>\n    </tr>\n    <tr>\n      <th>82</th>\n      <td>5</td>\n      <td>machine learning engineer</td>\n      <td>19-2099.01</td>\n      <td>[source intelligence analyst, data analytics c...</td>\n      <td>0.811024</td>\n    </tr>\n    <tr>\n      <th>100</th>\n      <td>6</td>\n      <td>data scientist</td>\n      <td>15-1111.00</td>\n      <td>[artificial intelligence specialist ai special...</td>\n      <td>0.749518</td>\n    </tr>\n    <tr>\n      <th>126</th>\n      <td>7</td>\n      <td>associate data scientist</td>\n      <td>15-2041.00</td>\n      <td>[analytical statistician, applied scientist, a...</td>\n      <td>0.841210</td>\n    </tr>\n    <tr>\n      <th>140</th>\n      <td>8</td>\n      <td>data scientist</td>\n      <td>15-1111.00</td>\n      <td>[artificial intelligence specialist ai special...</td>\n      <td>0.749518</td>\n    </tr>\n    <tr>\n      <th>162</th>\n      <td>9</td>\n      <td>data scientist ai@unity</td>\n      <td>19-2099.01</td>\n      <td>[source intelligence analyst, data analytics c...</td>\n      <td>0.723357</td>\n    </tr>\n    <tr>\n      <th>180</th>\n      <td>10</td>\n      <td>data scientist</td>\n      <td>15-1111.00</td>\n      <td>[artificial intelligence specialist ai special...</td>\n      <td>0.749518</td>\n    </tr>\n  </tbody>\n</table>\n</div>",
      "text/plain": "     id                     title_processed  identifier  \\\n0     1                      data scientist  15-1111.00   \n35    2       business intelligence analyst  15-1199.08   \n57    3      human resources data scientist  15-2041.02   \n66    4  lead human resource data scientist  15-2041.00   \n82    5           machine learning engineer  19-2099.01   \n100   6                      data scientist  15-1111.00   \n126   7            associate data scientist  15-2041.00   \n140   8                      data scientist  15-1111.00   \n162   9             data scientist ai@unity  19-2099.01   \n180  10                      data scientist  15-1111.00   \n\n                                      titles_processed  score_all  \n0    [artificial intelligence specialist ai special...   0.749518  \n35   [analytical data miner, business analyst, busi...   0.873630  \n57   [clinical applications director, clinical bios...   0.810885  \n66   [analytical statistician, applied scientist, a...   0.828754  \n82   [source intelligence analyst, data analytics c...   0.811024  \n100  [artificial intelligence specialist ai special...   0.749518  \n126  [analytical statistician, applied scientist, a...   0.841210  \n140  [artificial intelligence specialist ai special...   0.749518  \n162  [source intelligence analyst, data analytics c...   0.723357  \n180  [artificial intelligence specialist ai special...   0.749518  "
     },
     "execution_count": 275,
     "metadata": {},
     "output_type": "execute_result"
    }
   ],
   "source": [
    "score_df = score_df.sort_values('score_all', ascending=False).drop_duplicates(['id'])\n",
    "score_df = score_df.sort_values('id')\n",
    "score_df.head(10)"
   ]
  },
  {
   "cell_type": "code",
   "execution_count": 282,
   "metadata": {},
   "outputs": [
    {
     "data": {
      "text/html": "<div>\n<style scoped>\n    .dataframe tbody tr th:only-of-type {\n        vertical-align: middle;\n    }\n\n    .dataframe tbody tr th {\n        vertical-align: top;\n    }\n\n    .dataframe thead th {\n        text-align: right;\n    }\n</style>\n<table border=\"1\" class=\"dataframe\">\n  <thead>\n    <tr style=\"text-align: right;\">\n      <th></th>\n      <th>id</th>\n      <th>title_processed</th>\n      <th>identifier</th>\n      <th>score_all</th>\n      <th>name</th>\n    </tr>\n  </thead>\n  <tbody>\n    <tr>\n      <th>0</th>\n      <td>1</td>\n      <td>data scientist</td>\n      <td>15-1111.00</td>\n      <td>0.749518</td>\n      <td>Computer and Information Research Scientists</td>\n    </tr>\n    <tr>\n      <th>1</th>\n      <td>2</td>\n      <td>business intelligence analyst</td>\n      <td>15-1199.08</td>\n      <td>0.873630</td>\n      <td>Business Intelligence Analysts</td>\n    </tr>\n    <tr>\n      <th>2</th>\n      <td>3</td>\n      <td>human resources data scientist</td>\n      <td>15-2041.02</td>\n      <td>0.810885</td>\n      <td>Clinical Data Managers</td>\n    </tr>\n    <tr>\n      <th>3</th>\n      <td>4</td>\n      <td>lead human resource data scientist</td>\n      <td>15-2041.00</td>\n      <td>0.828754</td>\n      <td>Statisticians</td>\n    </tr>\n    <tr>\n      <th>4</th>\n      <td>5</td>\n      <td>machine learning engineer</td>\n      <td>19-2099.01</td>\n      <td>0.811024</td>\n      <td>Remote Sensing Scientists and Technologists</td>\n    </tr>\n  </tbody>\n</table>\n</div>",
      "text/plain": "   id                     title_processed  identifier  score_all  \\\n0   1                      data scientist  15-1111.00   0.749518   \n1   2       business intelligence analyst  15-1199.08   0.873630   \n2   3      human resources data scientist  15-2041.02   0.810885   \n3   4  lead human resource data scientist  15-2041.00   0.828754   \n4   5           machine learning engineer  19-2099.01   0.811024   \n\n                                           name  \n0  Computer and Information Research Scientists  \n1                Business Intelligence Analysts  \n2                        Clinical Data Managers  \n3                                 Statisticians  \n4   Remote Sensing Scientists and Technologists  "
     },
     "execution_count": 282,
     "metadata": {},
     "output_type": "execute_result"
    }
   ],
   "source": [
    "df1 = score_df.drop(['titles_processed'], axis=1)\n",
    "df2 = onet_oc_df[['identifier', 'name']].drop_duplicates()\n",
    "\n",
    "get_occupation = df1.merge(df2, on='identifier', how='left')\n",
    "get_occupation.head(5)"
   ]
  },
  {
   "cell_type": "code",
   "execution_count": 286,
   "metadata": {},
   "outputs": [],
   "source": [
    "# Save file\n",
    "get_occupation.to_csv('results/title_occupation.csv', index=False)"
   ]
  }
 ]
}