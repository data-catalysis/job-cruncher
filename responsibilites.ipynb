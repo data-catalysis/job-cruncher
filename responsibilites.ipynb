{
 "nbformat": 4,
 "nbformat_minor": 2,
 "metadata": {
  "language_info": {
   "name": "python",
   "codemirror_mode": {
    "name": "ipython",
    "version": 3
   },
   "version": "3.7.5-final"
  },
  "orig_nbformat": 2,
  "file_extension": ".py",
  "mimetype": "text/x-python",
  "name": "python",
  "npconvert_exporter": "python",
  "pygments_lexer": "ipython3",
  "version": 3,
  "kernelspec": {
   "name": "python37564bitvenvvenva3138b71e4064f57aed9d81ac75a212c",
   "display_name": "Python 3.7.5 64-bit ('venv': venv)"
  }
 },
 "cells": [
  {
   "cell_type": "code",
   "execution_count": 1,
   "metadata": {},
   "outputs": [],
   "source": [
    "import numpy as np\n",
    "import pandas as pd\n",
    "import sqlite3\n",
    "import spacy"
   ]
  },
  {
   "cell_type": "code",
   "execution_count": 2,
   "metadata": {},
   "outputs": [],
   "source": [
    "# Download pretrained enlgish model\n",
    "try:\n",
    "    import en_core_web_sm\n",
    "except:\n",
    "    !python -m spacy download en_core_web_sm\n",
    "    import en_core_web_sm"
   ]
  },
  {
   "cell_type": "code",
   "execution_count": 3,
   "metadata": {},
   "outputs": [],
   "source": [
    "# Read sqlite query results into a pandas DataFrame\n",
    "con = sqlite3.connect(\"collectors/data.sqlite3\")\n",
    "job_df = pd.read_sql_query(\"SELECT * from job_post\", con)\n",
    "con.close()"
   ]
  },
  {
   "cell_type": "code",
   "execution_count": 4,
   "metadata": {},
   "outputs": [
    {
     "data": {
      "text/html": "<div>\n<style scoped>\n    .dataframe tbody tr th:only-of-type {\n        vertical-align: middle;\n    }\n\n    .dataframe tbody tr th {\n        vertical-align: top;\n    }\n\n    .dataframe thead th {\n        text-align: right;\n    }\n</style>\n<table border=\"1\" class=\"dataframe\">\n  <thead>\n    <tr style=\"text-align: right;\">\n      <th></th>\n      <th>id</th>\n      <th>title</th>\n      <th>company</th>\n      <th>location</th>\n      <th>description</th>\n      <th>source</th>\n      <th>search_kw</th>\n    </tr>\n  </thead>\n  <tbody>\n    <tr>\n      <th>0</th>\n      <td>1</td>\n      <td>Data Scientist</td>\n      <td>Aquatic Informatics</td>\n      <td>Vancouver, BC</td>\n      <td>Do you want a meaningful role in a company tha...</td>\n      <td>indeed.com</td>\n      <td>data scientist</td>\n    </tr>\n    <tr>\n      <th>1</th>\n      <td>2</td>\n      <td>Business Intelligence Analyst</td>\n      <td>GLENTEL</td>\n      <td>Burnaby, BC</td>\n      <td>Brand: Glentel Corporate\\nLocation: Burnaby Of...</td>\n      <td>indeed.com</td>\n      <td>data scientist</td>\n    </tr>\n    <tr>\n      <th>2</th>\n      <td>3</td>\n      <td>Human Resources Data Scientist</td>\n      <td>Rio Tinto</td>\n      <td>Canada</td>\n      <td>2 x newly created Data Scientist opportunities...</td>\n      <td>indeed.com</td>\n      <td>data scientist</td>\n    </tr>\n    <tr>\n      <th>3</th>\n      <td>4</td>\n      <td>Lead - Human Resource Data Scientist</td>\n      <td>Rio Tinto</td>\n      <td>Canada</td>\n      <td>Newly created data science lead embedded withi...</td>\n      <td>indeed.com</td>\n      <td>data scientist</td>\n    </tr>\n    <tr>\n      <th>4</th>\n      <td>5</td>\n      <td>Machine Learning Engineer</td>\n      <td>Skycope Technologies Inc</td>\n      <td>Vancouver, BC</td>\n      <td>Who We are\\nFounded in 2016, Skycope Technolog...</td>\n      <td>indeed.com</td>\n      <td>data scientist</td>\n    </tr>\n  </tbody>\n</table>\n</div>",
      "text/plain": "   id                                 title                   company  \\\n0   1                        Data Scientist       Aquatic Informatics   \n1   2         Business Intelligence Analyst                   GLENTEL   \n2   3        Human Resources Data Scientist                 Rio Tinto   \n3   4  Lead - Human Resource Data Scientist                 Rio Tinto   \n4   5             Machine Learning Engineer  Skycope Technologies Inc   \n\n        location                                        description  \\\n0  Vancouver, BC  Do you want a meaningful role in a company tha...   \n1    Burnaby, BC  Brand: Glentel Corporate\\nLocation: Burnaby Of...   \n2         Canada  2 x newly created Data Scientist opportunities...   \n3         Canada  Newly created data science lead embedded withi...   \n4  Vancouver, BC  Who We are\\nFounded in 2016, Skycope Technolog...   \n\n       source       search_kw  \n0  indeed.com  data scientist  \n1  indeed.com  data scientist  \n2  indeed.com  data scientist  \n3  indeed.com  data scientist  \n4  indeed.com  data scientist  "
     },
     "execution_count": 4,
     "metadata": {},
     "output_type": "execute_result"
    }
   ],
   "source": [
    "# Verify that result of SQL query is stored in the dataframe\n",
    "job_df.head()"
   ]
  },
  {
   "cell_type": "code",
   "execution_count": 52,
   "metadata": {},
   "outputs": [
    {
     "data": {
      "text/html": "<div>\n<style scoped>\n    .dataframe tbody tr th:only-of-type {\n        vertical-align: middle;\n    }\n\n    .dataframe tbody tr th {\n        vertical-align: top;\n    }\n\n    .dataframe thead th {\n        text-align: right;\n    }\n</style>\n<table border=\"1\" class=\"dataframe\">\n  <thead>\n    <tr style=\"text-align: right;\">\n      <th></th>\n      <th>occupation</th>\n      <th>competency</th>\n      <th>category</th>\n      <th>description</th>\n    </tr>\n  </thead>\n  <tbody>\n    <tr>\n      <th>0</th>\n      <td>Computer and Information Research Scientists</td>\n      <td>Source code management SCM software</td>\n      <td>Technology Skills</td>\n      <td>Development environment software</td>\n    </tr>\n    <tr>\n      <th>1</th>\n      <td>Computer and Information Research Scientists</td>\n      <td>Microsoft Azure</td>\n      <td>Technology Skills</td>\n      <td>Development environment software</td>\n    </tr>\n    <tr>\n      <th>2</th>\n      <td>Computer and Information Research Scientists</td>\n      <td>Visualization</td>\n      <td>Abilities</td>\n      <td>The ability to imagine how something will look...</td>\n    </tr>\n    <tr>\n      <th>3</th>\n      <td>Computer and Information Research Scientists</td>\n      <td>Free-field speakers</td>\n      <td>Tools Used</td>\n      <td>Loudspeakers</td>\n    </tr>\n    <tr>\n      <th>4</th>\n      <td>Computer and Information Research Scientists</td>\n      <td>Data visualization software</td>\n      <td>Technology Skills</td>\n      <td>Analytical or scientific software</td>\n    </tr>\n  </tbody>\n</table>\n</div>",
      "text/plain": "                                     occupation  \\\n0  Computer and Information Research Scientists   \n1  Computer and Information Research Scientists   \n2  Computer and Information Research Scientists   \n3  Computer and Information Research Scientists   \n4  Computer and Information Research Scientists   \n\n                            competency           category  \\\n0  Source code management SCM software  Technology Skills   \n1                      Microsoft Azure  Technology Skills   \n2                        Visualization          Abilities   \n3                  Free-field speakers         Tools Used   \n4          Data visualization software  Technology Skills   \n\n                                         description  \n0                   Development environment software  \n1                   Development environment software  \n2  The ability to imagine how something will look...  \n3                                       Loudspeakers  \n4                  Analytical or scientific software  "
     },
     "execution_count": 52,
     "metadata": {},
     "output_type": "execute_result"
    }
   ],
   "source": [
    "onet_competencies = 'datasets/competencies.csv'\n",
    "onet_df = pd.read_csv(onet_competencies,index_col=0)\n",
    "onet_df[onet_df['occupation'] == 'Computer and Information Research Scientists'].head(5)"
   ]
  },
  {
   "cell_type": "code",
   "execution_count": 7,
   "metadata": {},
   "outputs": [],
   "source": [
    "def process_text(text):\n",
    "    doc = nlp(text)\n",
    "    result = []\n",
    "    for token in doc:\n",
    "        if token.text in nlp.Defaults.stop_words:\n",
    "            continue\n",
    "        if token.is_punct:\n",
    "            continue\n",
    "        if token.lemma_ == '-PRON-':\n",
    "            continue\n",
    "        # result.append(token.lemma_)\n",
    "        result.append(token.text)\n",
    "    return \" \".join(result)"
   ]
  },
  {
   "cell_type": "code",
   "execution_count": 8,
   "metadata": {},
   "outputs": [],
   "source": [
    "nlp = en_core_web_sm.load()\n",
    "nlp.Defaults.stop_words.add(\"\\n\")"
   ]
  },
  {
   "cell_type": "code",
   "execution_count": 53,
   "metadata": {},
   "outputs": [],
   "source": [
    "onet_comp = np.array(onet_df['competency'])\n",
    "onet_desc = np.array(onet_df['description'])"
   ]
  },
  {
   "cell_type": "code",
   "execution_count": 54,
   "metadata": {},
   "outputs": [],
   "source": [
    "onet_comp = np.array([process_text(comp.lower()) for comp in onet_comp])\n",
    "onet_desc = np.array([process_text(desc.lower()) for desc in onet_desc])"
   ]
  },
  {
   "cell_type": "code",
   "execution_count": 55,
   "metadata": {},
   "outputs": [
    {
     "name": "stdout",
     "output_type": "stream",
     "text": "ONET length before filter:  4938\nONET length after filter:   817\n"
    },
    {
     "data": {
      "text/html": "<div>\n<style scoped>\n    .dataframe tbody tr th:only-of-type {\n        vertical-align: middle;\n    }\n\n    .dataframe tbody tr th {\n        vertical-align: top;\n    }\n\n    .dataframe thead th {\n        text-align: right;\n    }\n</style>\n<table border=\"1\" class=\"dataframe\">\n  <thead>\n    <tr style=\"text-align: right;\">\n      <th></th>\n      <th>occupation</th>\n      <th>competency</th>\n      <th>category</th>\n      <th>description</th>\n    </tr>\n  </thead>\n  <tbody>\n    <tr>\n      <th>9</th>\n      <td>Computer and Information Research Scientists</td>\n      <td>Evaluate project plans and proposals to assess...</td>\n      <td>Task Statements</td>\n      <td>Core</td>\n    </tr>\n    <tr>\n      <th>10</th>\n      <td>Computer and Information Research Scientists</td>\n      <td>Processing Information</td>\n      <td>Work Activities</td>\n      <td>Compiling, coding, categorizing, calculating, ...</td>\n    </tr>\n    <tr>\n      <th>15</th>\n      <td>Computer and Information Research Scientists</td>\n      <td>Estimating the Quantifiable Characteristics of...</td>\n      <td>Work Activities</td>\n      <td>Estimating sizes, distances, and quantities; o...</td>\n    </tr>\n    <tr>\n      <th>26</th>\n      <td>Computer and Information Research Scientists</td>\n      <td>Documenting/Recording Information</td>\n      <td>Work Activities</td>\n      <td>Entering, transcribing, recording, storing, or...</td>\n    </tr>\n    <tr>\n      <th>38</th>\n      <td>Computer and Information Research Scientists</td>\n      <td>Identifying Objects, Actions, and Events</td>\n      <td>Work Activities</td>\n      <td>Identifying information by categorizing, estim...</td>\n    </tr>\n  </tbody>\n</table>\n</div>",
      "text/plain": "                                      occupation  \\\n9   Computer and Information Research Scientists   \n10  Computer and Information Research Scientists   \n15  Computer and Information Research Scientists   \n26  Computer and Information Research Scientists   \n38  Computer and Information Research Scientists   \n\n                                           competency         category  \\\n9   Evaluate project plans and proposals to assess...  Task Statements   \n10                             Processing Information  Work Activities   \n15  Estimating the Quantifiable Characteristics of...  Work Activities   \n26                  Documenting/Recording Information  Work Activities   \n38           Identifying Objects, Actions, and Events  Work Activities   \n\n                                          description  \n9                                                Core  \n10  Compiling, coding, categorizing, calculating, ...  \n15  Estimating sizes, distances, and quantities; o...  \n26  Entering, transcribing, recording, storing, or...  \n38  Identifying information by categorizing, estim...  "
     },
     "execution_count": 55,
     "metadata": {},
     "output_type": "execute_result"
    }
   ],
   "source": [
    "# Filter ONet DF to keep only required category of competencies\n",
    "\n",
    "category_list = ['Task Statements', 'Work Activities']\n",
    "\n",
    "print(\"ONET length before filter: \", len(onet_df))\n",
    "filtered_onet_df = onet_df.loc[onet_df['category'].isin(category_list)]\n",
    "print(\"ONET length after filter:  \", len(filtered_onet_df))\n",
    "filtered_onet_df.head(5)"
   ]
  },
  {
   "cell_type": "code",
   "execution_count": 11,
   "metadata": {},
   "outputs": [
    {
     "data": {
      "text/html": "<div>\n<style scoped>\n    .dataframe tbody tr th:only-of-type {\n        vertical-align: middle;\n    }\n\n    .dataframe tbody tr th {\n        vertical-align: top;\n    }\n\n    .dataframe thead th {\n        text-align: right;\n    }\n</style>\n<table border=\"1\" class=\"dataframe\">\n  <thead>\n    <tr style=\"text-align: right;\">\n      <th></th>\n      <th>id</th>\n      <th>title_processed</th>\n      <th>identifier</th>\n      <th>score_all</th>\n      <th>name</th>\n      <th>description</th>\n    </tr>\n  </thead>\n  <tbody>\n    <tr>\n      <th>0</th>\n      <td>1</td>\n      <td>data scientist</td>\n      <td>15-1111.00</td>\n      <td>0.749518</td>\n      <td>Computer and Information Research Scientists</td>\n      <td>Do you want a meaningful role in a company tha...</td>\n    </tr>\n    <tr>\n      <th>1</th>\n      <td>2</td>\n      <td>business intelligence analyst</td>\n      <td>15-1199.08</td>\n      <td>0.873630</td>\n      <td>Business Intelligence Analysts</td>\n      <td>Brand: Glentel Corporate\\nLocation: Burnaby Of...</td>\n    </tr>\n    <tr>\n      <th>2</th>\n      <td>3</td>\n      <td>human resources data scientist</td>\n      <td>15-2041.02</td>\n      <td>0.810885</td>\n      <td>Clinical Data Managers</td>\n      <td>2 x newly created Data Scientist opportunities...</td>\n    </tr>\n    <tr>\n      <th>3</th>\n      <td>4</td>\n      <td>lead human resource data scientist</td>\n      <td>15-2041.00</td>\n      <td>0.828754</td>\n      <td>Statisticians</td>\n      <td>Newly created data science lead embedded withi...</td>\n    </tr>\n    <tr>\n      <th>4</th>\n      <td>5</td>\n      <td>machine learning engineer</td>\n      <td>19-2099.01</td>\n      <td>0.811024</td>\n      <td>Remote Sensing Scientists and Technologists</td>\n      <td>Who We are\\nFounded in 2016, Skycope Technolog...</td>\n    </tr>\n  </tbody>\n</table>\n</div>",
      "text/plain": "   id                     title_processed  identifier  score_all  \\\n0   1                      data scientist  15-1111.00   0.749518   \n1   2       business intelligence analyst  15-1199.08   0.873630   \n2   3      human resources data scientist  15-2041.02   0.810885   \n3   4  lead human resource data scientist  15-2041.00   0.828754   \n4   5           machine learning engineer  19-2099.01   0.811024   \n\n                                           name  \\\n0  Computer and Information Research Scientists   \n1                Business Intelligence Analysts   \n2                        Clinical Data Managers   \n3                                 Statisticians   \n4   Remote Sensing Scientists and Technologists   \n\n                                         description  \n0  Do you want a meaningful role in a company tha...  \n1  Brand: Glentel Corporate\\nLocation: Burnaby Of...  \n2  2 x newly created Data Scientist opportunities...  \n3  Newly created data science lead embedded withi...  \n4  Who We are\\nFounded in 2016, Skycope Technolog...  "
     },
     "execution_count": 11,
     "metadata": {},
     "output_type": "execute_result"
    }
   ],
   "source": [
    "occupations = 'results/title_occupation.csv'\n",
    "occupations = pd.read_csv(occupations)\n",
    "occupations['description'] = job_df['description']\n",
    "occupations.head(5)"
   ]
  },
  {
   "cell_type": "code",
   "execution_count": 12,
   "metadata": {},
   "outputs": [],
   "source": [
    "job_desc = occupations['description'].values"
   ]
  },
  {
   "cell_type": "code",
   "execution_count": 13,
   "metadata": {},
   "outputs": [],
   "source": [
    "job_desc = np.array([desc.lower() for desc in job_desc])"
   ]
  },
  {
   "cell_type": "code",
   "execution_count": 14,
   "metadata": {},
   "outputs": [],
   "source": [
    "job_lengths = np.array([len(list(nlp(str(desc)).sents)) for desc in job_desc])"
   ]
  },
  {
   "cell_type": "code",
   "execution_count": 56,
   "metadata": {},
   "outputs": [
    {
     "data": {
      "text/plain": "array([ 28,  32, 228, 236,  30,  20,  22,  21,  25,  46,  32,  48,  35,\n        38,  23])"
     },
     "execution_count": 56,
     "metadata": {},
     "output_type": "execute_result"
    }
   ],
   "source": [
    "job_lengths[:15]"
   ]
  },
  {
   "cell_type": "code",
   "execution_count": 16,
   "metadata": {},
   "outputs": [],
   "source": [
    "# Choose to keep jobs which have sentences less than a threshold\n",
    "MAX_SENTENCE_LENGTH = 40\n",
    "job_ids = np.where(job_lengths < MAX_SENTENCE_LENGTH)[0]"
   ]
  },
  {
   "cell_type": "code",
   "execution_count": 17,
   "metadata": {},
   "outputs": [
    {
     "data": {
      "text/plain": "array([ 0,  1,  4,  5,  6,  7,  8, 10, 12, 13])"
     },
     "execution_count": 17,
     "metadata": {},
     "output_type": "execute_result"
    }
   ],
   "source": [
    "job_ids[:10]"
   ]
  },
  {
   "cell_type": "code",
   "execution_count": 57,
   "metadata": {},
   "outputs": [],
   "source": [
    "FIRST_N = 50\n",
    "\n",
    "small_job_desc = job_desc[job_ids][:FIRST_N]\n",
    "\n",
    "small_job_desc = np.array([np.array([process_text(line.text).replace(\"\\n\", '') \\\n",
    "                                for line in nlp(str(desc)).sents]) \\\n",
    "                                for desc in small_job_desc])"
   ]
  },
  {
   "cell_type": "code",
   "execution_count": 58,
   "metadata": {},
   "outputs": [
    {
     "data": {
      "text/plain": "array(['want meaningful role company making difference world',\n       'want involved important environmental resource areas today',\n       'want learn involved developing deploying machine learning predictive analytics solutions colleagues years research development experience',\n       'join energetic growing team help revolutionize industry',\n       'company founded 2003 aquatic informatics provides software solutions address critical water data management analytics compliance challenges rapidly growing water industry'],\n      dtype='<U368')"
     },
     "execution_count": 58,
     "metadata": {},
     "output_type": "execute_result"
    }
   ],
   "source": [
    "small_job_desc[0][:5]"
   ]
  },
  {
   "cell_type": "code",
   "execution_count": 59,
   "metadata": {},
   "outputs": [
    {
     "name": "stdout",
     "output_type": "stream",
     "text": "COMPETENCIES 37, SENTENCES 28\n------------------------------\nJOB 0, SENTENCE 0 DONE\nJOB 0, SENTENCE 1 DONE\nJOB 0, SENTENCE 2 DONE\nJOB 0, SENTENCE 3 DONE\nJOB 0, SENTENCE 4 DONE\nJOB 0, SENTENCE 5 DONE\nJOB 0, SENTENCE 6 DONE\nJOB 0, SENTENCE 7 DONE\nJOB 0, SENTENCE 8 DONE\nJOB 0, SENTENCE 9 DONE\nJOB 0, SENTENCE 10 DONE\nJOB 0, SENTENCE 11 DONE\nJOB 0, SENTENCE 12 DONE\nJOB 0, SENTENCE 13 DONE\nJOB 0, SENTENCE 14 DONE\nJOB 0, SENTENCE 15 DONE\nJOB 0, SENTENCE 16 DONE\nJOB 0, SENTENCE 17 DONE\nJOB 0, SENTENCE 18 DONE\nJOB 0, SENTENCE 19 DONE\nJOB 0, SENTENCE 20 DONE\nJOB 0, SENTENCE 21 DONE\nJOB 0, SENTENCE 22 DONE\nJOB 0, SENTENCE 23 DONE\nJOB 0, SENTENCE 24 DONE\nJOB 0, SENTENCE 25 DONE\nJOB 0, SENTENCE 26 DONE\nJOB 0, SENTENCE 27 DONE\nCOMPETENCIES 43, SENTENCES 32\n------------------------------\nJOB 1, SENTENCE 0 DONE\nJOB 1, SENTENCE 1 DONE\nJOB 1, SENTENCE 2 DONE\nJOB 1, SENTENCE 3 DONE\nJOB 1, SENTENCE 4 DONE\nJOB 1, SENTENCE 5 DONE\nJOB 1, SENTENCE 6 DONE\nJOB 1, SENTENCE 7 DONE\nJOB 1, SENTENCE 8 DONE\nJOB 1, SENTENCE 9 DONE\nJOB 1, SENTENCE 10 DONE\nJOB 1, SENTENCE 11 DONE\nJOB 1, SENTENCE 12 DONE\nJOB 1, SENTENCE 13 DONE\nJOB 1, SENTENCE 14 DONE\nJOB 1, SENTENCE 15 DONE\nJOB 1, SENTENCE 16 DONE\nJOB 1, SENTENCE 17 DONE\nJOB 1, SENTENCE 18 DONE\nJOB 1, SENTENCE 19 DONE\nJOB 1, SENTENCE 20 DONE\nJOB 1, SENTENCE 21 DONE\nJOB 1, SENTENCE 22 DONE\nJOB 1, SENTENCE 23 DONE\nJOB 1, SENTENCE 24 DONE\nJOB 1, SENTENCE 25 DONE\nJOB 1, SENTENCE 26 DONE\nJOB 1, SENTENCE 27 DONE\nJOB 1, SENTENCE 28 DONE\nJOB 1, SENTENCE 29 DONE\nJOB 1, SENTENCE 30 DONE\nJOB 1, SENTENCE 31 DONE\n"
    }
   ],
   "source": [
    "# ***************************************************************\n",
    "# BEWARE: EXTREMELY TIME CONSUMING\n",
    "# TRY FOR SMALL NUMBER OF JOBS\n",
    "# IMPRACTICAL FOR A LARGE SET OF JOBS SIMULTANEOUSLY\n",
    "# PRACTICAL IMPLICATION: PERFORM THIS WHENEVER A NEW JOB IS ADDED\n",
    "# ***************************************************************\n",
    "\n",
    "scores = []\n",
    "comp_ids = []\n",
    "\n",
    "for i, desc in enumerate(small_job_desc):\n",
    "    title = occupations['name'].iloc[i]\n",
    "    idss = filtered_onet_df.index[filtered_onet_df['occupation'] == title].tolist()\n",
    "    sent_score = []\n",
    "    sent_comp_id = []\n",
    "    print(\"COMPETENCIES {}, SENTENCES {}\".format(len(idss), len(desc)))\n",
    "    print(\"------------------------------\")\n",
    "    for j, sentence in enumerate(desc):\n",
    "        sentence = nlp(str(sentence))\n",
    "        temp_score = []\n",
    "        # temp_comp_id = np.empty()\n",
    "        for ids in idss:\n",
    "            sim1 = sentence.similarity(nlp(str(onet_comp[ids])))\n",
    "            sim2 = sentence.similarity(nlp(str(onet_desc[ids])))\n",
    "            temp_score.append(max(sim1, sim2))\n",
    "    \n",
    "        max_score = np.max(temp_score)\n",
    "        max_comp_id = idss[np.argmax(temp_score)]\n",
    "        sent_score.append(max_score)\n",
    "        sent_comp_id.append(max_comp_id)\n",
    "        print(\"JOB {}, SENTENCE {} DONE\".format(i, j))\n",
    "\n",
    "    scores.append(sent_score)\n",
    "    comp_ids.append(sent_comp_id)"
   ]
  },
  {
   "cell_type": "code",
   "execution_count": 60,
   "metadata": {},
   "outputs": [],
   "source": [
    "competency = []\n",
    "for i in range(len(scores)):\n",
    "    tup = list(zip(scores[i], comp_ids[i]))\n",
    "    tup.sort(reverse=True)\n",
    "\n",
    "    top = []\n",
    "    visited = []\n",
    "    for t in tup:\n",
    "        if t[1] not in visited:\n",
    "            top.append(t)\n",
    "            visited.append(t[1])\n",
    "\n",
    "    idss = [x[1] for x in top]\n",
    "    if len(idss) > 20:\n",
    "        idss = idss[:20]\n",
    "\n",
    "    competency_names = []\n",
    "    for ids in idss:\n",
    "        competency_names.append(onet_df['category'].iloc[ids] + \" | \" + \\\n",
    "                                onet_df['competency'].iloc[ids] + \" | \" + \\\n",
    "                                onet_df['description'].iloc[ids])\n",
    "\n",
    "    competency.append(competency_names)"
   ]
  },
  {
   "cell_type": "code",
   "execution_count": 70,
   "metadata": {},
   "outputs": [],
   "source": [
    "result_df = occupations.iloc[job_ids[:FIRST_N]]"
   ]
  },
  {
   "cell_type": "code",
   "execution_count": 72,
   "metadata": {},
   "outputs": [],
   "source": [
    "result_df['onet_competency'] = competency"
   ]
  },
  {
   "cell_type": "code",
   "execution_count": 73,
   "metadata": {},
   "outputs": [
    {
     "data": {
      "text/html": "<div>\n<style scoped>\n    .dataframe tbody tr th:only-of-type {\n        vertical-align: middle;\n    }\n\n    .dataframe tbody tr th {\n        vertical-align: top;\n    }\n\n    .dataframe thead th {\n        text-align: right;\n    }\n</style>\n<table border=\"1\" class=\"dataframe\">\n  <thead>\n    <tr style=\"text-align: right;\">\n      <th></th>\n      <th>id</th>\n      <th>title_processed</th>\n      <th>identifier</th>\n      <th>score_all</th>\n      <th>name</th>\n      <th>description</th>\n      <th>onet_competency</th>\n    </tr>\n  </thead>\n  <tbody>\n    <tr>\n      <th>0</th>\n      <td>1</td>\n      <td>data scientist</td>\n      <td>15-1111.00</td>\n      <td>0.749518</td>\n      <td>Computer and Information Research Scientists</td>\n      <td>Do you want a meaningful role in a company tha...</td>\n      <td>[Work Activities | Communicating with Persons ...</td>\n    </tr>\n    <tr>\n      <th>1</th>\n      <td>2</td>\n      <td>business intelligence analyst</td>\n      <td>15-1199.08</td>\n      <td>0.873630</td>\n      <td>Business Intelligence Analysts</td>\n      <td>Brand: Glentel Corporate\\nLocation: Burnaby Of...</td>\n      <td>[Work Activities | Monitor Processes, Material...</td>\n    </tr>\n  </tbody>\n</table>\n</div>",
      "text/plain": "   id                title_processed  identifier  score_all  \\\n0   1                 data scientist  15-1111.00   0.749518   \n1   2  business intelligence analyst  15-1199.08   0.873630   \n\n                                           name  \\\n0  Computer and Information Research Scientists   \n1                Business Intelligence Analysts   \n\n                                         description  \\\n0  Do you want a meaningful role in a company tha...   \n1  Brand: Glentel Corporate\\nLocation: Burnaby Of...   \n\n                                     onet_competency  \n0  [Work Activities | Communicating with Persons ...  \n1  [Work Activities | Monitor Processes, Material...  "
     },
     "execution_count": 73,
     "metadata": {},
     "output_type": "execute_result"
    }
   ],
   "source": [
    "result_df.head()"
   ]
  },
  {
   "cell_type": "code",
   "execution_count": 74,
   "metadata": {},
   "outputs": [],
   "source": [
    "# Save file\n",
    "result_df.to_csv('results/responsibilites.csv', index=False)"
   ]
  },
  {
   "cell_type": "code",
   "execution_count": null,
   "metadata": {},
   "outputs": [],
   "source": []
  }
 ]
}