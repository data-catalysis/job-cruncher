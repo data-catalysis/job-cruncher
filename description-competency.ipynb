{
 "nbformat": 4,
 "nbformat_minor": 2,
 "metadata": {
  "language_info": {
   "name": "python",
   "codemirror_mode": {
    "name": "ipython",
    "version": 3
   },
   "version": "3.7.5-final"
  },
  "orig_nbformat": 2,
  "file_extension": ".py",
  "mimetype": "text/x-python",
  "name": "python",
  "npconvert_exporter": "python",
  "pygments_lexer": "ipython3",
  "version": 3,
  "kernelspec": {
   "name": "python37564bitvenvvenva3138b71e4064f57aed9d81ac75a212c",
   "display_name": "Python 3.7.5 64-bit ('venv': venv)"
  }
 },
 "cells": [
  {
   "cell_type": "code",
   "execution_count": 1,
   "metadata": {},
   "outputs": [],
   "source": [
    "import numpy as np\n",
    "import pandas as pd\n",
    "import sqlite3\n",
    "import spacy"
   ]
  },
  {
   "cell_type": "code",
   "execution_count": 2,
   "metadata": {},
   "outputs": [],
   "source": [
    "# Download pretrained enlgish model\n",
    "try:\n",
    "    import en_core_web_sm\n",
    "except:\n",
    "    !python -m spacy download en_core_web_sm\n",
    "    import en_core_web_sm"
   ]
  },
  {
   "cell_type": "code",
   "execution_count": 3,
   "metadata": {},
   "outputs": [],
   "source": [
    "# Read sqlite query results into a pandas DataFrame\n",
    "con = sqlite3.connect(\"collectors/data.sqlite3\")\n",
    "job_df = pd.read_sql_query(\"SELECT * from job_post\", con)\n",
    "con.close()"
   ]
  },
  {
   "cell_type": "code",
   "execution_count": 4,
   "metadata": {},
   "outputs": [
    {
     "data": {
      "text/html": "<div>\n<style scoped>\n    .dataframe tbody tr th:only-of-type {\n        vertical-align: middle;\n    }\n\n    .dataframe tbody tr th {\n        vertical-align: top;\n    }\n\n    .dataframe thead th {\n        text-align: right;\n    }\n</style>\n<table border=\"1\" class=\"dataframe\">\n  <thead>\n    <tr style=\"text-align: right;\">\n      <th></th>\n      <th>id</th>\n      <th>title</th>\n      <th>company</th>\n      <th>location</th>\n      <th>description</th>\n      <th>source</th>\n      <th>search_kw</th>\n    </tr>\n  </thead>\n  <tbody>\n    <tr>\n      <th>0</th>\n      <td>1</td>\n      <td>Data Scientist</td>\n      <td>Aquatic Informatics</td>\n      <td>Vancouver, BC</td>\n      <td>Do you want a meaningful role in a company tha...</td>\n      <td>indeed.com</td>\n      <td>data scientist</td>\n    </tr>\n    <tr>\n      <th>1</th>\n      <td>2</td>\n      <td>Business Intelligence Analyst</td>\n      <td>GLENTEL</td>\n      <td>Burnaby, BC</td>\n      <td>Brand: Glentel Corporate\\nLocation: Burnaby Of...</td>\n      <td>indeed.com</td>\n      <td>data scientist</td>\n    </tr>\n    <tr>\n      <th>2</th>\n      <td>3</td>\n      <td>Human Resources Data Scientist</td>\n      <td>Rio Tinto</td>\n      <td>Canada</td>\n      <td>2 x newly created Data Scientist opportunities...</td>\n      <td>indeed.com</td>\n      <td>data scientist</td>\n    </tr>\n    <tr>\n      <th>3</th>\n      <td>4</td>\n      <td>Lead - Human Resource Data Scientist</td>\n      <td>Rio Tinto</td>\n      <td>Canada</td>\n      <td>Newly created data science lead embedded withi...</td>\n      <td>indeed.com</td>\n      <td>data scientist</td>\n    </tr>\n    <tr>\n      <th>4</th>\n      <td>5</td>\n      <td>Machine Learning Engineer</td>\n      <td>Skycope Technologies Inc</td>\n      <td>Vancouver, BC</td>\n      <td>Who We are\\nFounded in 2016, Skycope Technolog...</td>\n      <td>indeed.com</td>\n      <td>data scientist</td>\n    </tr>\n  </tbody>\n</table>\n</div>",
      "text/plain": "   id                                 title                   company  \\\n0   1                        Data Scientist       Aquatic Informatics   \n1   2         Business Intelligence Analyst                   GLENTEL   \n2   3        Human Resources Data Scientist                 Rio Tinto   \n3   4  Lead - Human Resource Data Scientist                 Rio Tinto   \n4   5             Machine Learning Engineer  Skycope Technologies Inc   \n\n        location                                        description  \\\n0  Vancouver, BC  Do you want a meaningful role in a company tha...   \n1    Burnaby, BC  Brand: Glentel Corporate\\nLocation: Burnaby Of...   \n2         Canada  2 x newly created Data Scientist opportunities...   \n3         Canada  Newly created data science lead embedded withi...   \n4  Vancouver, BC  Who We are\\nFounded in 2016, Skycope Technolog...   \n\n       source       search_kw  \n0  indeed.com  data scientist  \n1  indeed.com  data scientist  \n2  indeed.com  data scientist  \n3  indeed.com  data scientist  \n4  indeed.com  data scientist  "
     },
     "execution_count": 4,
     "metadata": {},
     "output_type": "execute_result"
    }
   ],
   "source": [
    "# Verify that result of SQL query is stored in the dataframe\n",
    "job_df.head()"
   ]
  },
  {
   "cell_type": "code",
   "execution_count": 5,
   "metadata": {},
   "outputs": [
    {
     "data": {
      "text/html": "<div>\n<style scoped>\n    .dataframe tbody tr th:only-of-type {\n        vertical-align: middle;\n    }\n\n    .dataframe tbody tr th {\n        vertical-align: top;\n    }\n\n    .dataframe thead th {\n        text-align: right;\n    }\n</style>\n<table border=\"1\" class=\"dataframe\">\n  <thead>\n    <tr style=\"text-align: right;\">\n      <th></th>\n      <th>occupation</th>\n      <th>competency</th>\n      <th>category</th>\n      <th>description</th>\n    </tr>\n  </thead>\n  <tbody>\n    <tr>\n      <th>0</th>\n      <td>Computer and Information Research Scientists</td>\n      <td>Source code management SCM software</td>\n      <td>Technology Skills</td>\n      <td>Development environment software</td>\n    </tr>\n    <tr>\n      <th>1</th>\n      <td>Computer and Information Research Scientists</td>\n      <td>Microsoft Azure</td>\n      <td>Technology Skills</td>\n      <td>Development environment software</td>\n    </tr>\n    <tr>\n      <th>2</th>\n      <td>Computer and Information Research Scientists</td>\n      <td>Visualization</td>\n      <td>Abilities</td>\n      <td>The ability to imagine how something will look...</td>\n    </tr>\n    <tr>\n      <th>3</th>\n      <td>Computer and Information Research Scientists</td>\n      <td>Free-field speakers</td>\n      <td>Tools Used</td>\n      <td>Loudspeakers</td>\n    </tr>\n    <tr>\n      <th>4</th>\n      <td>Computer and Information Research Scientists</td>\n      <td>Data visualization software</td>\n      <td>Technology Skills</td>\n      <td>Analytical or scientific software</td>\n    </tr>\n  </tbody>\n</table>\n</div>",
      "text/plain": "                                     occupation  \\\n0  Computer and Information Research Scientists   \n1  Computer and Information Research Scientists   \n2  Computer and Information Research Scientists   \n3  Computer and Information Research Scientists   \n4  Computer and Information Research Scientists   \n\n                            competency           category  \\\n0  Source code management SCM software  Technology Skills   \n1                      Microsoft Azure  Technology Skills   \n2                        Visualization          Abilities   \n3                  Free-field speakers         Tools Used   \n4          Data visualization software  Technology Skills   \n\n                                         description  \n0                   Development environment software  \n1                   Development environment software  \n2  The ability to imagine how something will look...  \n3                                       Loudspeakers  \n4                  Analytical or scientific software  "
     },
     "execution_count": 5,
     "metadata": {},
     "output_type": "execute_result"
    }
   ],
   "source": [
    "onet_competencies = 'datasets/competencies.csv'\n",
    "onet_df = pd.read_csv(onet_competencies,index_col=0)\n",
    "onet_df[onet_df['occupation'] == 'Computer and Information Research Scientists'].head(5)"
   ]
  },
  {
   "cell_type": "code",
   "execution_count": 6,
   "metadata": {},
   "outputs": [],
   "source": [
    "def process_text(text):\n",
    "    doc = nlp(text)\n",
    "    result = []\n",
    "    for token in doc:\n",
    "        if token.text in nlp.Defaults.stop_words:\n",
    "            continue\n",
    "        if token.is_punct:\n",
    "            continue\n",
    "        if token.lemma_ == '-PRON-':\n",
    "            continue\n",
    "        # result.append(token.lemma_)\n",
    "        result.append(token.text)\n",
    "    return \" \".join(result)"
   ]
  },
  {
   "cell_type": "code",
   "execution_count": 7,
   "metadata": {},
   "outputs": [],
   "source": [
    "nlp = en_core_web_sm.load()\n",
    "nlp.Defaults.stop_words.add(\"\\n\")"
   ]
  },
  {
   "cell_type": "code",
   "execution_count": 8,
   "metadata": {},
   "outputs": [],
   "source": [
    "onet_comp = np.array(onet_df['competency'])\n",
    "onet_desc = np.array(onet_df['description'])"
   ]
  },
  {
   "cell_type": "code",
   "execution_count": 9,
   "metadata": {},
   "outputs": [],
   "source": [
    "onet_comp = np.array([process_text(comp.lower()) for comp in onet_comp])\n",
    "onet_desc = np.array([process_text(desc.lower()) for desc in onet_desc])"
   ]
  },
  {
   "cell_type": "code",
   "execution_count": 10,
   "metadata": {},
   "outputs": [
    {
     "data": {
      "text/html": "<div>\n<style scoped>\n    .dataframe tbody tr th:only-of-type {\n        vertical-align: middle;\n    }\n\n    .dataframe tbody tr th {\n        vertical-align: top;\n    }\n\n    .dataframe thead th {\n        text-align: right;\n    }\n</style>\n<table border=\"1\" class=\"dataframe\">\n  <thead>\n    <tr style=\"text-align: right;\">\n      <th></th>\n      <th>id</th>\n      <th>title_processed</th>\n      <th>identifier</th>\n      <th>score_all</th>\n      <th>name</th>\n      <th>description</th>\n    </tr>\n  </thead>\n  <tbody>\n    <tr>\n      <th>0</th>\n      <td>1</td>\n      <td>data scientist</td>\n      <td>15-1111.00</td>\n      <td>0.749518</td>\n      <td>Computer and Information Research Scientists</td>\n      <td>Do you want a meaningful role in a company tha...</td>\n    </tr>\n    <tr>\n      <th>1</th>\n      <td>2</td>\n      <td>business intelligence analyst</td>\n      <td>15-1199.08</td>\n      <td>0.873630</td>\n      <td>Business Intelligence Analysts</td>\n      <td>Brand: Glentel Corporate\\nLocation: Burnaby Of...</td>\n    </tr>\n    <tr>\n      <th>2</th>\n      <td>3</td>\n      <td>human resources data scientist</td>\n      <td>15-2041.02</td>\n      <td>0.810885</td>\n      <td>Clinical Data Managers</td>\n      <td>2 x newly created Data Scientist opportunities...</td>\n    </tr>\n    <tr>\n      <th>3</th>\n      <td>4</td>\n      <td>lead human resource data scientist</td>\n      <td>15-2041.00</td>\n      <td>0.828754</td>\n      <td>Statisticians</td>\n      <td>Newly created data science lead embedded withi...</td>\n    </tr>\n    <tr>\n      <th>4</th>\n      <td>5</td>\n      <td>machine learning engineer</td>\n      <td>19-2099.01</td>\n      <td>0.811024</td>\n      <td>Remote Sensing Scientists and Technologists</td>\n      <td>Who We are\\nFounded in 2016, Skycope Technolog...</td>\n    </tr>\n  </tbody>\n</table>\n</div>",
      "text/plain": "   id                     title_processed  identifier  score_all  \\\n0   1                      data scientist  15-1111.00   0.749518   \n1   2       business intelligence analyst  15-1199.08   0.873630   \n2   3      human resources data scientist  15-2041.02   0.810885   \n3   4  lead human resource data scientist  15-2041.00   0.828754   \n4   5           machine learning engineer  19-2099.01   0.811024   \n\n                                           name  \\\n0  Computer and Information Research Scientists   \n1                Business Intelligence Analysts   \n2                        Clinical Data Managers   \n3                                 Statisticians   \n4   Remote Sensing Scientists and Technologists   \n\n                                         description  \n0  Do you want a meaningful role in a company tha...  \n1  Brand: Glentel Corporate\\nLocation: Burnaby Of...  \n2  2 x newly created Data Scientist opportunities...  \n3  Newly created data science lead embedded withi...  \n4  Who We are\\nFounded in 2016, Skycope Technolog...  "
     },
     "execution_count": 10,
     "metadata": {},
     "output_type": "execute_result"
    }
   ],
   "source": [
    "occupations = 'results/title_occupation.csv'\n",
    "occupations = pd.read_csv(occupations)\n",
    "occupations['description'] = job_df['description']\n",
    "occupations.head(5)"
   ]
  },
  {
   "cell_type": "code",
   "execution_count": 11,
   "metadata": {},
   "outputs": [],
   "source": [
    "job_desc = occupations['description'].values"
   ]
  },
  {
   "cell_type": "code",
   "execution_count": 12,
   "metadata": {},
   "outputs": [],
   "source": [
    "job_desc = np.array([desc.lower() for desc in job_desc])"
   ]
  },
  {
   "cell_type": "code",
   "execution_count": 13,
   "metadata": {},
   "outputs": [],
   "source": [
    "first_n = 25\n",
    "\n",
    "job_desc = np.array([np.array([process_text(line.text).replace(\"\\n\", '') \\\n",
    "                     for line in nlp(str(desc)).sents]) \\\n",
    "                     for desc in job_desc[:first_n]])"
   ]
  },
  {
   "cell_type": "code",
   "execution_count": 14,
   "metadata": {},
   "outputs": [
    {
     "name": "stdout",
     "output_type": "stream",
     "text": "TENCE 57 DONE\nJOB 3, SENTENCE 58 DONE\nJOB 3, SENTENCE 59 DONE\nJOB 3, SENTENCE 60 DONE\nJOB 3, SENTENCE 61 DONE\nJOB 3, SENTENCE 62 DONE\nJOB 3, SENTENCE 63 DONE\nJOB 3, SENTENCE 64 DONE\nJOB 3, SENTENCE 65 DONE\nJOB 3, SENTENCE 66 DONE\nJOB 3, SENTENCE 67 DONE\nJOB 3, SENTENCE 68 DONE\nJOB 3, SENTENCE 69 DONE\nJOB 3, SENTENCE 70 DONE\nJOB 3, SENTENCE 71 DONE\nJOB 3, SENTENCE 72 DONE\nJOB 3, SENTENCE 73 DONE\nJOB 3, SENTENCE 74 DONE\nJOB 3, SENTENCE 75 DONE\nJOB 3, SENTENCE 76 DONE\nJOB 3, SENTENCE 77 DONE\nJOB 3, SENTENCE 78 DONE\nJOB 3, SENTENCE 79 DONE\nJOB 3, SENTENCE 80 DONE\nJOB 3, SENTENCE 81 DONE\nJOB 3, SENTENCE 82 DONE\nJOB 3, SENTENCE 83 DONE\nJOB 3, SENTENCE 84 DONE\nJOB 3, SENTENCE 85 DONE\nJOB 3, SENTENCE 86 DONE\nJOB 3, SENTENCE 87 DONE\nJOB 3, SENTENCE 88 DONE\nJOB 3, SENTENCE 89 DONE\nJOB 3, SENTENCE 90 DONE\nJOB 3, SENTENCE 91 DONE\nJOB 3, SENTENCE 92 DONE\nJOB 3, SENTENCE 93 DONE\nJOB 3, SENTENCE 94 DONE\nJOB 3, SENTENCE 95 DONE\nJOB 3, SENTENCE 96 DONE\nJOB 3, SENTENCE 97 DONE\nJOB 3, SENTENCE 98 DONE\nJOB 3, SENTENCE 99 DONE\nJOB 3, SENTENCE 100 DONE\nJOB 3, SENTENCE 101 DONE\nJOB 3, SENTENCE 102 DONE\nJOB 3, SENTENCE 103 DONE\nJOB 3, SENTENCE 104 DONE\nJOB 3, SENTENCE 105 DONE\nJOB 3, SENTENCE 106 DONE\nJOB 3, SENTENCE 107 DONE\nJOB 3, SENTENCE 108 DONE\nJOB 3, SENTENCE 109 DONE\nJOB 3, SENTENCE 110 DONE\nJOB 3, SENTENCE 111 DONE\nJOB 3, SENTENCE 112 DONE\nJOB 3, SENTENCE 113 DONE\nJOB 3, SENTENCE 114 DONE\nJOB 3, SENTENCE 115 DONE\nJOB 3, SENTENCE 116 DONE\nJOB 3, SENTENCE 117 DONE\nJOB 3, SENTENCE 118 DONE\nJOB 3, SENTENCE 119 DONE\nJOB 3, SENTENCE 120 DONE\nJOB 3, SENTENCE 121 DONE\nJOB 3, SENTENCE 122 DONE\nJOB 3, SENTENCE 123 DONE\nJOB 3, SENTENCE 124 DONE\nJOB 3, SENTENCE 125 DONE\nJOB 3, SENTENCE 126 DONE\nJOB 3, SENTENCE 127 DONE\nJOB 3, SENTENCE 128 DONE\nJOB 3, SENTENCE 129 DONE\nJOB 3, SENTENCE 130 DONE\nJOB 3, SENTENCE 131 DONE\nJOB 3, SENTENCE 132 DONE\nJOB 3, SENTENCE 133 DONE\nJOB 3, SENTENCE 134 DONE\nJOB 3, SENTENCE 135 DONE\nJOB 3, SENTENCE 136 DONE\nJOB 3, SENTENCE 137 DONE\nJOB 3, SENTENCE 138 DONE\nJOB 3, SENTENCE 139 DONE\nJOB 3, SENTENCE 140 DONE\nJOB 3, SENTENCE 141 DONE\nJOB 3, SENTENCE 142 DONE\nJOB 3, SENTENCE 143 DONE\nJOB 3, SENTENCE 144 DONE\nJOB 3, SENTENCE 145 DONE\nJOB 3, SENTENCE 146 DONE\nJOB 3, SENTENCE 147 DONE\nJOB 3, SENTENCE 148 DONE\nJOB 3, SENTENCE 149 DONE\nJOB 3, SENTENCE 150 DONE\nJOB 3, SENTENCE 151 DONE\nJOB 3, SENTENCE 152 DONE\nJOB 3, SENTENCE 153 DONE\nJOB 3, SENTENCE 154 DONE\nJOB 3, SENTENCE 155 DONE\nJOB 3, SENTENCE 156 DONE\nJOB 3, SENTENCE 157 DONE\nJOB 3, SENTENCE 158 DONE\nJOB 3, SENTENCE 159 DONE\nJOB 3, SENTENCE 160 DONE\nJOB 3, SENTENCE 161 DONE\nJOB 3, SENTENCE 162 DONE\nJOB 3, SENTENCE 163 DONE\nJOB 3, SENTENCE 164 DONE\nJOB 3, SENTENCE 165 DONE\nJOB 3, SENTENCE 166 DONE\nJOB 3, SENTENCE 167 DONE\nJOB 3, SENTENCE 168 DONE\nJOB 3, SENTENCE 169 DONE\nJOB 3, SENTENCE 170 DONE\nJOB 3, SENTENCE 171 DONE\nJOB 3, SENTENCE 172 DONE\nJOB 3, SENTENCE 173 DONE\nJOB 3, SENTENCE 174 DONE\nJOB 3, SENTENCE 175 DONE\nJOB 3, SENTENCE 176 DONE\nJOB 3, SENTENCE 177 DONE\nJOB 3, SENTENCE 178 DONE\nJOB 3, SENTENCE 179 DONE\nJOB 3, SENTENCE 180 DONE\nJOB 3, SENTENCE 181 DONE\nJOB 3, SENTENCE 182 DONE\nJOB 3, SENTENCE 183 DONE\nJOB 3, SENTENCE 184 DONE\nJOB 3, SENTENCE 185 DONE\nJOB 3, SENTENCE 186 DONE\nJOB 3, SENTENCE 187 DONE\nJOB 3, SENTENCE 188 DONE\nJOB 3, SENTENCE 189 DONE\nJOB 3, SENTENCE 190 DONE\nJOB 3, SENTENCE 191 DONE\nJOB 3, SENTENCE 192 DONE\nJOB 3, SENTENCE 193 DONE\nJOB 3, SENTENCE 194 DONE\nJOB 3, SENTENCE 195 DONE\nJOB 3, SENTENCE 196 DONE\nJOB 3, SENTENCE 197 DONE\nJOB 3, SENTENCE 198 DONE\nJOB 3, SENTENCE 199 DONE\nJOB 3, SENTENCE 200 DONE\nJOB 3, SENTENCE 201 DONE\nJOB 3, SENTENCE 202 DONE\nJOB 3, SENTENCE 203 DONE\nJOB 3, SENTENCE 204 DONE\nJOB 3, SENTENCE 205 DONE\nJOB 3, SENTENCE 206 DONE\nJOB 3, SENTENCE 207 DONE\nJOB 3, SENTENCE 208 DONE\nJOB 3, SENTENCE 209 DONE\nJOB 3, SENTENCE 210 DONE\nJOB 3, SENTENCE 211 DONE\nJOB 3, SENTENCE 212 DONE\nJOB 3, SENTENCE 213 DONE\nJOB 3, SENTENCE 214 DONE\nJOB 3, SENTENCE 215 DONE\nJOB 3, SENTENCE 216 DONE\nJOB 3, SENTENCE 217 DONE\nJOB 3, SENTENCE 218 DONE\nJOB 3, SENTENCE 219 DONE\nJOB 3, SENTENCE 220 DONE\nJOB 3, SENTENCE 221 DONE\nJOB 3, SENTENCE 222 DONE\nJOB 3, SENTENCE 223 DONE\nJOB 3, SENTENCE 224 DONE\nJOB 3, SENTENCE 225 DONE\nJOB 3, SENTENCE 226 DONE\nJOB 3, SENTENCE 227 DONE\nJOB 3, SENTENCE 228 DONE\nJOB 3, SENTENCE 229 DONE\nJOB 3, SENTENCE 230 DONE\nJOB 3, SENTENCE 231 DONE\nJOB 3, SENTENCE 232 DONE\nJOB 3, SENTENCE 233 DONE\nJOB 3, SENTENCE 234 DONE\nJOB 3, SENTENCE 235 DONE\nCOMPETENCIES 146, SENTENCES 30\n------------------------------\nJOB 4, SENTENCE 0 DONE\nJOB 4, SENTENCE 1 DONE\nJOB 4, SENTENCE 2 DONE\nJOB 4, SENTENCE 3 DONE\nJOB 4, SENTENCE 4 DONE\nJOB 4, SENTENCE 5 DONE\nJOB 4, SENTENCE 6 DONE\nJOB 4, SENTENCE 7 DONE\nJOB 4, SENTENCE 8 DONE\nJOB 4, SENTENCE 9 DONE\nJOB 4, SENTENCE 10 DONE\nJOB 4, SENTENCE 11 DONE\nJOB 4, SENTENCE 12 DONE\nJOB 4, SENTENCE 13 DONE\nJOB 4, SENTENCE 14 DONE\nJOB 4, SENTENCE 15 DONE\nJOB 4, SENTENCE 16 DONE\nJOB 4, SENTENCE 17 DONE\nJOB 4, SENTENCE 18 DONE\nJOB 4, SENTENCE 19 DONE\nJOB 4, SENTENCE 20 DONE\nJOB 4, SENTENCE 21 DONE\nJOB 4, SENTENCE 22 DONE\nJOB 4, SENTENCE 23 DONE\nJOB 4, SENTENCE 24 DONE\nJOB 4, SENTENCE 25 DONE\nJOB 4, SENTENCE 26 DONE\nJOB 4, SENTENCE 27 DONE\nJOB 4, SENTENCE 28 DONE\nJOB 4, SENTENCE 29 DONE\nCOMPETENCIES 267, SENTENCES 20\n------------------------------\nJOB 5, SENTENCE 0 DONE\nJOB 5, SENTENCE 1 DONE\nJOB 5, SENTENCE 2 DONE\nJOB 5, SENTENCE 3 DONE\nJOB 5, SENTENCE 4 DONE\nJOB 5, SENTENCE 5 DONE\nJOB 5, SENTENCE 6 DONE\nJOB 5, SENTENCE 7 DONE\nJOB 5, SENTENCE 8 DONE\nJOB 5, SENTENCE 9 DONE\nJOB 5, SENTENCE 10 DONE\nJOB 5, SENTENCE 11 DONE\nJOB 5, SENTENCE 12 DONE\nJOB 5, SENTENCE 13 DONE\nJOB 5, SENTENCE 14 DONE\nJOB 5, SENTENCE 15 DONE\nJOB 5, SENTENCE 16 DONE\nJOB 5, SENTENCE 17 DONE\nJOB 5, SENTENCE 18 DONE\nJOB 5, SENTENCE 19 DONE\nCOMPETENCIES 161, SENTENCES 22\n------------------------------\nJOB 6, SENTENCE 0 DONE\nJOB 6, SENTENCE 1 DONE\nJOB 6, SENTENCE 2 DONE\nJOB 6, SENTENCE 3 DONE\nJOB 6, SENTENCE 4 DONE\nJOB 6, SENTENCE 5 DONE\nJOB 6, SENTENCE 6 DONE\nJOB 6, SENTENCE 7 DONE\nJOB 6, SENTENCE 8 DONE\nJOB 6, SENTENCE 9 DONE\nJOB 6, SENTENCE 10 DONE\nJOB 6, SENTENCE 11 DONE\nJOB 6, SENTENCE 12 DONE\nJOB 6, SENTENCE 13 DONE\nJOB 6, SENTENCE 14 DONE\nJOB 6, SENTENCE 15 DONE\nJOB 6, SENTENCE 16 DONE\nJOB 6, SENTENCE 17 DONE\nJOB 6, SENTENCE 18 DONE\nJOB 6, SENTENCE 19 DONE\nJOB 6, SENTENCE 20 DONE\nJOB 6, SENTENCE 21 DONE\nCOMPETENCIES 267, SENTENCES 21\n------------------------------\nJOB 7, SENTENCE 0 DONE\nJOB 7, SENTENCE 1 DONE\nJOB 7, SENTENCE 2 DONE\nJOB 7, SENTENCE 3 DONE\nJOB 7, SENTENCE 4 DONE\nJOB 7, SENTENCE 5 DONE\nJOB 7, SENTENCE 6 DONE\nJOB 7, SENTENCE 7 DONE\nJOB 7, SENTENCE 8 DONE\nJOB 7, SENTENCE 9 DONE\nJOB 7, SENTENCE 10 DONE\nJOB 7, SENTENCE 11 DONE\nJOB 7, SENTENCE 12 DONE\nJOB 7, SENTENCE 13 DONE\nJOB 7, SENTENCE 14 DONE\nJOB 7, SENTENCE 15 DONE\nJOB 7, SENTENCE 16 DONE\nJOB 7, SENTENCE 17 DONE\nJOB 7, SENTENCE 18 DONE\nJOB 7, SENTENCE 19 DONE\nJOB 7, SENTENCE 20 DONE\nCOMPETENCIES 146, SENTENCES 25\n------------------------------\nJOB 8, SENTENCE 0 DONE\nJOB 8, SENTENCE 1 DONE\nJOB 8, SENTENCE 2 DONE\nJOB 8, SENTENCE 3 DONE\nJOB 8, SENTENCE 4 DONE\nJOB 8, SENTENCE 5 DONE\nJOB 8, SENTENCE 6 DONE\nJOB 8, SENTENCE 7 DONE\nJOB 8, SENTENCE 8 DONE\nJOB 8, SENTENCE 9 DONE\nJOB 8, SENTENCE 10 DONE\nJOB 8, SENTENCE 11 DONE\nJOB 8, SENTENCE 12 DONE\nJOB 8, SENTENCE 13 DONE\nJOB 8, SENTENCE 14 DONE\nJOB 8, SENTENCE 15 DONE\nJOB 8, SENTENCE 16 DONE\nJOB 8, SENTENCE 17 DONE\nJOB 8, SENTENCE 18 DONE\nJOB 8, SENTENCE 19 DONE\nJOB 8, SENTENCE 20 DONE\nJOB 8, SENTENCE 21 DONE\nJOB 8, SENTENCE 22 DONE\nJOB 8, SENTENCE 23 DONE\nJOB 8, SENTENCE 24 DONE\nCOMPETENCIES 267, SENTENCES 46\n------------------------------\nJOB 9, SENTENCE 0 DONE\nJOB 9, SENTENCE 1 DONE\nJOB 9, SENTENCE 2 DONE\nJOB 9, SENTENCE 3 DONE\nJOB 9, SENTENCE 4 DONE\nJOB 9, SENTENCE 5 DONE\nJOB 9, SENTENCE 6 DONE\nJOB 9, SENTENCE 7 DONE\nJOB 9, SENTENCE 8 DONE\nJOB 9, SENTENCE 9 DONE\nJOB 9, SENTENCE 10 DONE\nJOB 9, SENTENCE 11 DONE\nJOB 9, SENTENCE 12 DONE\nJOB 9, SENTENCE 13 DONE\nJOB 9, SENTENCE 14 DONE\nJOB 9, SENTENCE 15 DONE\nJOB 9, SENTENCE 16 DONE\nJOB 9, SENTENCE 17 DONE\nJOB 9, SENTENCE 18 DONE\nJOB 9, SENTENCE 19 DONE\nJOB 9, SENTENCE 20 DONE\nJOB 9, SENTENCE 21 DONE\nJOB 9, SENTENCE 22 DONE\nJOB 9, SENTENCE 23 DONE\nJOB 9, SENTENCE 24 DONE\nJOB 9, SENTENCE 25 DONE\nJOB 9, SENTENCE 26 DONE\nJOB 9, SENTENCE 27 DONE\nJOB 9, SENTENCE 28 DONE\nJOB 9, SENTENCE 29 DONE\nJOB 9, SENTENCE 30 DONE\nJOB 9, SENTENCE 31 DONE\nJOB 9, SENTENCE 32 DONE\nJOB 9, SENTENCE 33 DONE\nJOB 9, SENTENCE 34 DONE\nJOB 9, SENTENCE 35 DONE\nJOB 9, SENTENCE 36 DONE\nJOB 9, SENTENCE 37 DONE\nJOB 9, SENTENCE 38 DONE\nJOB 9, SENTENCE 39 DONE\nJOB 9, SENTENCE 40 DONE\nJOB 9, SENTENCE 41 DONE\nJOB 9, SENTENCE 42 DONE\nJOB 9, SENTENCE 43 DONE\nJOB 9, SENTENCE 44 DONE\nJOB 9, SENTENCE 45 DONE\nCOMPETENCIES 267, SENTENCES 32\n------------------------------\nJOB 10, SENTENCE 0 DONE\nJOB 10, SENTENCE 1 DONE\nJOB 10, SENTENCE 2 DONE\nJOB 10, SENTENCE 3 DONE\nJOB 10, SENTENCE 4 DONE\nJOB 10, SENTENCE 5 DONE\nJOB 10, SENTENCE 6 DONE\nJOB 10, SENTENCE 7 DONE\nJOB 10, SENTENCE 8 DONE\nJOB 10, SENTENCE 9 DONE\nJOB 10, SENTENCE 10 DONE\nJOB 10, SENTENCE 11 DONE\nJOB 10, SENTENCE 12 DONE\nJOB 10, SENTENCE 13 DONE\nJOB 10, SENTENCE 14 DONE\nJOB 10, SENTENCE 15 DONE\nJOB 10, SENTENCE 16 DONE\nJOB 10, SENTENCE 17 DONE\nJOB 10, SENTENCE 18 DONE\nJOB 10, SENTENCE 19 DONE\nJOB 10, SENTENCE 20 DONE\nJOB 10, SENTENCE 21 DONE\nJOB 10, SENTENCE 22 DONE\nJOB 10, SENTENCE 23 DONE\nJOB 10, SENTENCE 24 DONE\nJOB 10, SENTENCE 25 DONE\nJOB 10, SENTENCE 26 DONE\nJOB 10, SENTENCE 27 DONE\nJOB 10, SENTENCE 28 DONE\nJOB 10, SENTENCE 29 DONE\nJOB 10, SENTENCE 30 DONE\nJOB 10, SENTENCE 31 DONE\nCOMPETENCIES 267, SENTENCES 48\n------------------------------\nJOB 11, SENTENCE 0 DONE\nJOB 11, SENTENCE 1 DONE\nJOB 11, SENTENCE 2 DONE\nJOB 11, SENTENCE 3 DONE\nJOB 11, SENTENCE 4 DONE\nJOB 11, SENTENCE 5 DONE\nJOB 11, SENTENCE 6 DONE\nJOB 11, SENTENCE 7 DONE\nJOB 11, SENTENCE 8 DONE\nJOB 11, SENTENCE 9 DONE\nJOB 11, SENTENCE 10 DONE\nJOB 11, SENTENCE 11 DONE\nJOB 11, SENTENCE 12 DONE\nJOB 11, SENTENCE 13 DONE\nJOB 11, SENTENCE 14 DONE\nJOB 11, SENTENCE 15 DONE\nJOB 11, SENTENCE 16 DONE\nJOB 11, SENTENCE 17 DONE\nJOB 11, SENTENCE 18 DONE\nJOB 11, SENTENCE 19 DONE\nJOB 11, SENTENCE 20 DONE\nJOB 11, SENTENCE 21 DONE\nJOB 11, SENTENCE 22 DONE\nJOB 11, SENTENCE 23 DONE\nJOB 11, SENTENCE 24 DONE\nJOB 11, SENTENCE 25 DONE\nJOB 11, SENTENCE 26 DONE\nJOB 11, SENTENCE 27 DONE\nJOB 11, SENTENCE 28 DONE\nJOB 11, SENTENCE 29 DONE\nJOB 11, SENTENCE 30 DONE\nJOB 11, SENTENCE 31 DONE\nJOB 11, SENTENCE 32 DONE\nJOB 11, SENTENCE 33 DONE\nJOB 11, SENTENCE 34 DONE\nJOB 11, SENTENCE 35 DONE\nJOB 11, SENTENCE 36 DONE\nJOB 11, SENTENCE 37 DONE\nJOB 11, SENTENCE 38 DONE\nJOB 11, SENTENCE 39 DONE\nJOB 11, SENTENCE 40 DONE\nJOB 11, SENTENCE 41 DONE\nJOB 11, SENTENCE 42 DONE\nJOB 11, SENTENCE 43 DONE\nJOB 11, SENTENCE 44 DONE\nJOB 11, SENTENCE 45 DONE\nJOB 11, SENTENCE 46 DONE\nJOB 11, SENTENCE 47 DONE\nCOMPETENCIES 730, SENTENCES 35\n------------------------------\nJOB 12, SENTENCE 0 DONE\nJOB 12, SENTENCE 1 DONE\nJOB 12, SENTENCE 2 DONE\nJOB 12, SENTENCE 3 DONE\nJOB 12, SENTENCE 4 DONE\nJOB 12, SENTENCE 5 DONE\nJOB 12, SENTENCE 6 DONE\nJOB 12, SENTENCE 7 DONE\nJOB 12, SENTENCE 8 DONE\nJOB 12, SENTENCE 9 DONE\nJOB 12, SENTENCE 10 DONE\nJOB 12, SENTENCE 11 DONE\nJOB 12, SENTENCE 12 DONE\nJOB 12, SENTENCE 13 DONE\nJOB 12, SENTENCE 14 DONE\nJOB 12, SENTENCE 15 DONE\nJOB 12, SENTENCE 16 DONE\nJOB 12, SENTENCE 17 DONE\nJOB 12, SENTENCE 18 DONE\nJOB 12, SENTENCE 19 DONE\nJOB 12, SENTENCE 20 DONE\nJOB 12, SENTENCE 21 DONE\nJOB 12, SENTENCE 22 DONE\nJOB 12, SENTENCE 23 DONE\nJOB 12, SENTENCE 24 DONE\nJOB 12, SENTENCE 25 DONE\nJOB 12, SENTENCE 26 DONE\nJOB 12, SENTENCE 27 DONE\nJOB 12, SENTENCE 28 DONE\nJOB 12, SENTENCE 29 DONE\nJOB 12, SENTENCE 30 DONE\nJOB 12, SENTENCE 31 DONE\nJOB 12, SENTENCE 32 DONE\nJOB 12, SENTENCE 33 DONE\nJOB 12, SENTENCE 34 DONE\nCOMPETENCIES 267, SENTENCES 38\n------------------------------\nJOB 13, SENTENCE 0 DONE\nJOB 13, SENTENCE 1 DONE\nJOB 13, SENTENCE 2 DONE\nJOB 13, SENTENCE 3 DONE\nJOB 13, SENTENCE 4 DONE\nJOB 13, SENTENCE 5 DONE\nJOB 13, SENTENCE 6 DONE\nJOB 13, SENTENCE 7 DONE\nJOB 13, SENTENCE 8 DONE\nJOB 13, SENTENCE 9 DONE\nJOB 13, SENTENCE 10 DONE\nJOB 13, SENTENCE 11 DONE\nJOB 13, SENTENCE 12 DONE\nJOB 13, SENTENCE 13 DONE\nJOB 13, SENTENCE 14 DONE\nJOB 13, SENTENCE 15 DONE\nJOB 13, SENTENCE 16 DONE\nJOB 13, SENTENCE 17 DONE\nJOB 13, SENTENCE 18 DONE\nJOB 13, SENTENCE 19 DONE\nJOB 13, SENTENCE 20 DONE\nJOB 13, SENTENCE 21 DONE\nJOB 13, SENTENCE 22 DONE\nJOB 13, SENTENCE 23 DONE\nJOB 13, SENTENCE 24 DONE\nJOB 13, SENTENCE 25 DONE\nJOB 13, SENTENCE 26 DONE\nJOB 13, SENTENCE 27 DONE\nJOB 13, SENTENCE 28 DONE\nJOB 13, SENTENCE 29 DONE\nJOB 13, SENTENCE 30 DONE\nJOB 13, SENTENCE 31 DONE\nJOB 13, SENTENCE 32 DONE\nJOB 13, SENTENCE 33 DONE\nJOB 13, SENTENCE 34 DONE\nJOB 13, SENTENCE 35 DONE\nJOB 13, SENTENCE 36 DONE\nJOB 13, SENTENCE 37 DONE\nCOMPETENCIES 267, SENTENCES 23\n------------------------------\nJOB 14, SENTENCE 0 DONE\nJOB 14, SENTENCE 1 DONE\nJOB 14, SENTENCE 2 DONE\nJOB 14, SENTENCE 3 DONE\nJOB 14, SENTENCE 4 DONE\nJOB 14, SENTENCE 5 DONE\nJOB 14, SENTENCE 6 DONE\nJOB 14, SENTENCE 7 DONE\nJOB 14, SENTENCE 8 DONE\nJOB 14, SENTENCE 9 DONE\nJOB 14, SENTENCE 10 DONE\nJOB 14, SENTENCE 11 DONE\nJOB 14, SENTENCE 12 DONE\nJOB 14, SENTENCE 13 DONE\nJOB 14, SENTENCE 14 DONE\nJOB 14, SENTENCE 15 DONE\nJOB 14, SENTENCE 16 DONE\nJOB 14, SENTENCE 17 DONE\nJOB 14, SENTENCE 18 DONE\nJOB 14, SENTENCE 19 DONE\nJOB 14, SENTENCE 20 DONE\nJOB 14, SENTENCE 21 DONE\nJOB 14, SENTENCE 22 DONE\nCOMPETENCIES 248, SENTENCES 15\n------------------------------\nJOB 15, SENTENCE 0 DONE\nJOB 15, SENTENCE 1 DONE\nJOB 15, SENTENCE 2 DONE\nJOB 15, SENTENCE 3 DONE\nJOB 15, SENTENCE 4 DONE\nJOB 15, SENTENCE 5 DONE\nJOB 15, SENTENCE 6 DONE\nJOB 15, SENTENCE 7 DONE\nJOB 15, SENTENCE 8 DONE\nJOB 15, SENTENCE 9 DONE\nJOB 15, SENTENCE 10 DONE\nJOB 15, SENTENCE 11 DONE\nJOB 15, SENTENCE 12 DONE\nJOB 15, SENTENCE 13 DONE\nJOB 15, SENTENCE 14 DONE\nCOMPETENCIES 248, SENTENCES 15\n------------------------------\nJOB 16, SENTENCE 0 DONE\nJOB 16, SENTENCE 1 DONE\nJOB 16, SENTENCE 2 DONE\nJOB 16, SENTENCE 3 DONE\nJOB 16, SENTENCE 4 DONE\nJOB 16, SENTENCE 5 DONE\nJOB 16, SENTENCE 6 DONE\nJOB 16, SENTENCE 7 DONE\nJOB 16, SENTENCE 8 DONE\nJOB 16, SENTENCE 9 DONE\nJOB 16, SENTENCE 10 DONE\nJOB 16, SENTENCE 11 DONE\nJOB 16, SENTENCE 12 DONE\nJOB 16, SENTENCE 13 DONE\nJOB 16, SENTENCE 14 DONE\nCOMPETENCIES 398, SENTENCES 32\n------------------------------\nJOB 17, SENTENCE 0 DONE\nJOB 17, SENTENCE 1 DONE\nJOB 17, SENTENCE 2 DONE\nJOB 17, SENTENCE 3 DONE\nJOB 17, SENTENCE 4 DONE\nJOB 17, SENTENCE 5 DONE\nJOB 17, SENTENCE 6 DONE\nJOB 17, SENTENCE 7 DONE\nJOB 17, SENTENCE 8 DONE\nJOB 17, SENTENCE 9 DONE\nJOB 17, SENTENCE 10 DONE\nJOB 17, SENTENCE 11 DONE\nJOB 17, SENTENCE 12 DONE\nJOB 17, SENTENCE 13 DONE\nJOB 17, SENTENCE 14 DONE\nJOB 17, SENTENCE 15 DONE\nJOB 17, SENTENCE 16 DONE\nJOB 17, SENTENCE 17 DONE\nJOB 17, SENTENCE 18 DONE\nJOB 17, SENTENCE 19 DONE\nJOB 17, SENTENCE 20 DONE\nJOB 17, SENTENCE 21 DONE\nJOB 17, SENTENCE 22 DONE\nJOB 17, SENTENCE 23 DONE\nJOB 17, SENTENCE 24 DONE\nJOB 17, SENTENCE 25 DONE\nJOB 17, SENTENCE 26 DONE\nJOB 17, SENTENCE 27 DONE\nJOB 17, SENTENCE 28 DONE\nJOB 17, SENTENCE 29 DONE\nJOB 17, SENTENCE 30 DONE\nJOB 17, SENTENCE 31 DONE\nCOMPETENCIES 267, SENTENCES 37\n------------------------------\nJOB 18, SENTENCE 0 DONE\nJOB 18, SENTENCE 1 DONE\nJOB 18, SENTENCE 2 DONE\nJOB 18, SENTENCE 3 DONE\nJOB 18, SENTENCE 4 DONE\nJOB 18, SENTENCE 5 DONE\nJOB 18, SENTENCE 6 DONE\nJOB 18, SENTENCE 7 DONE\nJOB 18, SENTENCE 8 DONE\nJOB 18, SENTENCE 9 DONE\nJOB 18, SENTENCE 10 DONE\nJOB 18, SENTENCE 11 DONE\nJOB 18, SENTENCE 12 DONE\nJOB 18, SENTENCE 13 DONE\nJOB 18, SENTENCE 14 DONE\nJOB 18, SENTENCE 15 DONE\nJOB 18, SENTENCE 16 DONE\nJOB 18, SENTENCE 17 DONE\nJOB 18, SENTENCE 18 DONE\nJOB 18, SENTENCE 19 DONE\nJOB 18, SENTENCE 20 DONE\nJOB 18, SENTENCE 21 DONE\nJOB 18, SENTENCE 22 DONE\nJOB 18, SENTENCE 23 DONE\nJOB 18, SENTENCE 24 DONE\nJOB 18, SENTENCE 25 DONE\nJOB 18, SENTENCE 26 DONE\nJOB 18, SENTENCE 27 DONE\nJOB 18, SENTENCE 28 DONE\nJOB 18, SENTENCE 29 DONE\nJOB 18, SENTENCE 30 DONE\nJOB 18, SENTENCE 31 DONE\nJOB 18, SENTENCE 32 DONE\nJOB 18, SENTENCE 33 DONE\nJOB 18, SENTENCE 34 DONE\nJOB 18, SENTENCE 35 DONE\nJOB 18, SENTENCE 36 DONE\nCOMPETENCIES 730, SENTENCES 20\n------------------------------\nJOB 19, SENTENCE 0 DONE\nJOB 19, SENTENCE 1 DONE\nJOB 19, SENTENCE 2 DONE\nJOB 19, SENTENCE 3 DONE\nJOB 19, SENTENCE 4 DONE\nJOB 19, SENTENCE 5 DONE\nJOB 19, SENTENCE 6 DONE\nJOB 19, SENTENCE 7 DONE\nJOB 19, SENTENCE 8 DONE\nJOB 19, SENTENCE 9 DONE\nJOB 19, SENTENCE 10 DONE\nJOB 19, SENTENCE 11 DONE\nJOB 19, SENTENCE 12 DONE\nJOB 19, SENTENCE 13 DONE\nJOB 19, SENTENCE 14 DONE\nJOB 19, SENTENCE 15 DONE\nJOB 19, SENTENCE 16 DONE\nJOB 19, SENTENCE 17 DONE\nJOB 19, SENTENCE 18 DONE\nJOB 19, SENTENCE 19 DONE\nCOMPETENCIES 730, SENTENCES 33\n------------------------------\nJOB 20, SENTENCE 0 DONE\nJOB 20, SENTENCE 1 DONE\nJOB 20, SENTENCE 2 DONE\nJOB 20, SENTENCE 3 DONE\nJOB 20, SENTENCE 4 DONE\nJOB 20, SENTENCE 5 DONE\nJOB 20, SENTENCE 6 DONE\nJOB 20, SENTENCE 7 DONE\nJOB 20, SENTENCE 8 DONE\nJOB 20, SENTENCE 9 DONE\nJOB 20, SENTENCE 10 DONE\nJOB 20, SENTENCE 11 DONE\nJOB 20, SENTENCE 12 DONE\nJOB 20, SENTENCE 13 DONE\nJOB 20, SENTENCE 14 DONE\nJOB 20, SENTENCE 15 DONE\nJOB 20, SENTENCE 16 DONE\nJOB 20, SENTENCE 17 DONE\nJOB 20, SENTENCE 18 DONE\nJOB 20, SENTENCE 19 DONE\nJOB 20, SENTENCE 20 DONE\nJOB 20, SENTENCE 21 DONE\nJOB 20, SENTENCE 22 DONE\nJOB 20, SENTENCE 23 DONE\nJOB 20, SENTENCE 24 DONE\nJOB 20, SENTENCE 25 DONE\nJOB 20, SENTENCE 26 DONE\nJOB 20, SENTENCE 27 DONE\nJOB 20, SENTENCE 28 DONE\nJOB 20, SENTENCE 29 DONE\nJOB 20, SENTENCE 30 DONE\nJOB 20, SENTENCE 31 DONE\nJOB 20, SENTENCE 32 DONE\nCOMPETENCIES 267, SENTENCES 27\n------------------------------\nJOB 21, SENTENCE 0 DONE\nJOB 21, SENTENCE 1 DONE\nJOB 21, SENTENCE 2 DONE\nJOB 21, SENTENCE 3 DONE\nJOB 21, SENTENCE 4 DONE\nJOB 21, SENTENCE 5 DONE\nJOB 21, SENTENCE 6 DONE\nJOB 21, SENTENCE 7 DONE\nJOB 21, SENTENCE 8 DONE\nJOB 21, SENTENCE 9 DONE\nJOB 21, SENTENCE 10 DONE\nJOB 21, SENTENCE 11 DONE\nJOB 21, SENTENCE 12 DONE\nJOB 21, SENTENCE 13 DONE\nJOB 21, SENTENCE 14 DONE\nJOB 21, SENTENCE 15 DONE\nJOB 21, SENTENCE 16 DONE\nJOB 21, SENTENCE 17 DONE\nJOB 21, SENTENCE 18 DONE\nJOB 21, SENTENCE 19 DONE\nJOB 21, SENTENCE 20 DONE\nJOB 21, SENTENCE 21 DONE\nJOB 21, SENTENCE 22 DONE\nJOB 21, SENTENCE 23 DONE\nJOB 21, SENTENCE 24 DONE\nJOB 21, SENTENCE 25 DONE\nJOB 21, SENTENCE 26 DONE\nCOMPETENCIES 146, SENTENCES 20\n------------------------------\nJOB 22, SENTENCE 0 DONE\nJOB 22, SENTENCE 1 DONE\nJOB 22, SENTENCE 2 DONE\nJOB 22, SENTENCE 3 DONE\nJOB 22, SENTENCE 4 DONE\nJOB 22, SENTENCE 5 DONE\nJOB 22, SENTENCE 6 DONE\nJOB 22, SENTENCE 7 DONE\nJOB 22, SENTENCE 8 DONE\nJOB 22, SENTENCE 9 DONE\nJOB 22, SENTENCE 10 DONE\nJOB 22, SENTENCE 11 DONE\nJOB 22, SENTENCE 12 DONE\nJOB 22, SENTENCE 13 DONE\nJOB 22, SENTENCE 14 DONE\nJOB 22, SENTENCE 15 DONE\nJOB 22, SENTENCE 16 DONE\nJOB 22, SENTENCE 17 DONE\nJOB 22, SENTENCE 18 DONE\nJOB 22, SENTENCE 19 DONE\nCOMPETENCIES 167, SENTENCES 20\n------------------------------\nJOB 23, SENTENCE 0 DONE\nJOB 23, SENTENCE 1 DONE\nJOB 23, SENTENCE 2 DONE\nJOB 23, SENTENCE 3 DONE\nJOB 23, SENTENCE 4 DONE\nJOB 23, SENTENCE 5 DONE\nJOB 23, SENTENCE 6 DONE\nJOB 23, SENTENCE 7 DONE\nJOB 23, SENTENCE 8 DONE\nJOB 23, SENTENCE 9 DONE\nJOB 23, SENTENCE 10 DONE\nJOB 23, SENTENCE 11 DONE\nJOB 23, SENTENCE 12 DONE\nJOB 23, SENTENCE 13 DONE\nJOB 23, SENTENCE 14 DONE\nJOB 23, SENTENCE 15 DONE\nJOB 23, SENTENCE 16 DONE\nJOB 23, SENTENCE 17 DONE\nJOB 23, SENTENCE 18 DONE\nJOB 23, SENTENCE 19 DONE\nCOMPETENCIES 161, SENTENCES 27\n------------------------------\nJOB 24, SENTENCE 0 DONE\nJOB 24, SENTENCE 1 DONE\nJOB 24, SENTENCE 2 DONE\nJOB 24, SENTENCE 3 DONE\nJOB 24, SENTENCE 4 DONE\nJOB 24, SENTENCE 5 DONE\nJOB 24, SENTENCE 6 DONE\nJOB 24, SENTENCE 7 DONE\nJOB 24, SENTENCE 8 DONE\nJOB 24, SENTENCE 9 DONE\nJOB 24, SENTENCE 10 DONE\nJOB 24, SENTENCE 11 DONE\nJOB 24, SENTENCE 12 DONE\nJOB 24, SENTENCE 13 DONE\nJOB 24, SENTENCE 14 DONE\nJOB 24, SENTENCE 15 DONE\nJOB 24, SENTENCE 16 DONE\nJOB 24, SENTENCE 17 DONE\nJOB 24, SENTENCE 18 DONE\nJOB 24, SENTENCE 19 DONE\nJOB 24, SENTENCE 20 DONE\nJOB 24, SENTENCE 21 DONE\nJOB 24, SENTENCE 22 DONE\nJOB 24, SENTENCE 23 DONE\nJOB 24, SENTENCE 24 DONE\nJOB 24, SENTENCE 25 DONE\nJOB 24, SENTENCE 26 DONE\n"
    }
   ],
   "source": [
    "# ***************************************************************\n",
    "# BEWARE: EXTREMELY TIME CONSUMING\n",
    "# TRY FOR SMALL NUMBER OF JOBS\n",
    "# IMPRACTICAL FOR A LARGE SET OF JOBS SIMULTANEOUSLY\n",
    "# PRACTICAL IMPLICATION: PERFORM THIS WHENEVER A NEW JOB IS ADDED\n",
    "# ***************************************************************\n",
    "\n",
    "scores = []\n",
    "comp_ids = []\n",
    "\n",
    "for i, desc in enumerate(job_desc):\n",
    "    title = occupations['name'].iloc[i]\n",
    "    idss = onet_df.index[onet_df['occupation'] == title].tolist()\n",
    "    sent_score = []\n",
    "    sent_comp_id = []\n",
    "    print(\"COMPETENCIES {}, SENTENCES {}\".format(len(idss), len(desc)))\n",
    "    print(\"------------------------------\")\n",
    "    for j, sentence in enumerate(desc):\n",
    "        sentence = nlp(str(sentence))\n",
    "        temp_score = []\n",
    "        # temp_comp_id = np.empty()\n",
    "        for ids in idss:\n",
    "            sim1 = sentence.similarity(nlp(str(onet_comp[ids])))\n",
    "            sim2 = sentence.similarity(nlp(str(onet_desc[ids])))\n",
    "            temp_score.append(max(sim1, sim2))\n",
    "    \n",
    "        max_score = np.max(temp_score)\n",
    "        max_comp_id = idss[np.argmax(temp_score)]\n",
    "        sent_score.append(max_score)\n",
    "        sent_comp_id.append(max_comp_id)\n",
    "        print(\"JOB {}, SENTENCE {} DONE\".format(i, j))\n",
    "\n",
    "    scores.append(sent_score)\n",
    "    comp_ids.append(sent_comp_id)"
   ]
  },
  {
   "cell_type": "code",
   "execution_count": 21,
   "metadata": {},
   "outputs": [],
   "source": [
    "competency = []\n",
    "for i in range(len(scores)):\n",
    "    tup = list(zip(scores[i], comp_ids[i]))\n",
    "    tup.sort(reverse=True)\n",
    "\n",
    "    top = []\n",
    "    visited = []\n",
    "    for t in tup:\n",
    "        if t[1] not in visited:\n",
    "            top.append(t)\n",
    "            visited.append(t[1])\n",
    "\n",
    "    idss = [x[1] for x in top]\n",
    "    if len(idss) > 20:\n",
    "        idss = idss[:20]\n",
    "\n",
    "    competency_names = []\n",
    "    for ids in idss:\n",
    "        competency_names.append(onet_df['category'].iloc[ids] + \" | \" + \\\n",
    "                                onet_df['competency'].iloc[ids] + \" | \" + \\\n",
    "                                onet_df['description'].iloc[ids])\n",
    "\n",
    "    competency.append(competency_names)"
   ]
  },
  {
   "cell_type": "code",
   "execution_count": 22,
   "metadata": {},
   "outputs": [
    {
     "data": {
      "text/plain": "['Work Values | Working Conditions | Occupations that satisfy this work value offer job security and good working conditions. Corresponding needs are Activity, Compensation, Independence, Security, Variety and Working Conditions.',\n 'Work Styles | Self Control | Job requires maintaining composure, keeping emotions in check, controlling anger, and avoiding aggressive behavior, even in very difficult situations.',\n 'Work Values | Recognition | Occupations that satisfy this work value offer advancement, potential for leadership, and are often considered prestigious. Corresponding needs are Advancement, Authority, Recognition and Social Status.',\n 'Abilities | Fluency of Ideas | The ability to come up with a number of ideas about a topic (the number of ideas is important, not their quality, correctness, or creativity).',\n 'Work Activities | Communicating with Persons Outside Organization | Communicating with people outside the organization, representing the organization to customers, the public, government, and other external sources. This information can be exchanged in person, in writing, or by telephone or e-mail.',\n 'Technology Skills | Data visualization software | Analytical or scientific software',\n 'Knowledge | Administration and Management | Knowledge of business and management principles involved in strategic planning, resource allocation, human resources modeling, leadership technique, production methods, and coordination of people and resources.',\n 'Work Activities | Interacting With Computers | Using computers and computer systems (including hardware and software) to program, write software, set up functions, enter data, or process information.',\n 'Work Values | Support | Occupations that satisfy this work value offer supportive management that stands behind employees. Corresponding needs are Company Policies, Supervision: Human Relations and Supervision: Technical.',\n 'Knowledge | Computers and Electronics | Knowledge of circuit boards, processors, chips, electronic equipment, and computer hardware and software, including applications and programming.',\n 'Abilities | Near Vision | The ability to see details at close range (within a few feet of the observer).',\n 'Work Values | Relationships | Occupations that satisfy this work value allow employees to provide service to others and work with co-workers in a friendly non-competitive environment. Corresponding needs are Co-workers, Moral Values and Social Service.',\n 'Technology Skills | Practical extraction and reporting language Perl | Object or component oriented development software',\n 'Technology Skills | Plug-in file software | Web page creation and editing software',\n 'Technology Skills | Intel Integrated Performance Primitives | Development environment software',\n 'Task Statements | Design computers and the software that runs them. | Core',\n 'Technology Skills | Geographic information system GIS software | Map creation software',\n 'Technology Skills | Google Analytics | Data mining software',\n 'Technology Skills | Microsoft Office | Office suite software',\n 'Work Styles | Adaptability/Flexibility | Job requires being open to change (positive or negative) and to considerable variety in the workplace.']"
     },
     "execution_count": 22,
     "metadata": {},
     "output_type": "execute_result"
    }
   ],
   "source": [
    "competency[0]"
   ]
  },
  {
   "cell_type": "code",
   "execution_count": 23,
   "metadata": {},
   "outputs": [],
   "source": [
    "result_df = occupations.iloc[:first_n]"
   ]
  },
  {
   "cell_type": "code",
   "execution_count": 24,
   "metadata": {},
   "outputs": [],
   "source": [
    "result_df['onet_competency'] = competency"
   ]
  },
  {
   "cell_type": "code",
   "execution_count": 25,
   "metadata": {},
   "outputs": [
    {
     "data": {
      "text/html": "<div>\n<style scoped>\n    .dataframe tbody tr th:only-of-type {\n        vertical-align: middle;\n    }\n\n    .dataframe tbody tr th {\n        vertical-align: top;\n    }\n\n    .dataframe thead th {\n        text-align: right;\n    }\n</style>\n<table border=\"1\" class=\"dataframe\">\n  <thead>\n    <tr style=\"text-align: right;\">\n      <th></th>\n      <th>id</th>\n      <th>title_processed</th>\n      <th>identifier</th>\n      <th>score_all</th>\n      <th>name</th>\n      <th>description</th>\n      <th>onet_competency</th>\n    </tr>\n  </thead>\n  <tbody>\n    <tr>\n      <th>0</th>\n      <td>1</td>\n      <td>data scientist</td>\n      <td>15-1111.00</td>\n      <td>0.749518</td>\n      <td>Computer and Information Research Scientists</td>\n      <td>Do you want a meaningful role in a company tha...</td>\n      <td>[Work Values | Working Conditions | Occupation...</td>\n    </tr>\n    <tr>\n      <th>1</th>\n      <td>2</td>\n      <td>business intelligence analyst</td>\n      <td>15-1199.08</td>\n      <td>0.873630</td>\n      <td>Business Intelligence Analysts</td>\n      <td>Brand: Glentel Corporate\\nLocation: Burnaby Of...</td>\n      <td>[Work Values | Support | Occupations that sati...</td>\n    </tr>\n    <tr>\n      <th>2</th>\n      <td>3</td>\n      <td>human resources data scientist</td>\n      <td>15-2041.02</td>\n      <td>0.810885</td>\n      <td>Clinical Data Managers</td>\n      <td>2 x newly created Data Scientist opportunities...</td>\n      <td>[Task Statements | Design and validate clinica...</td>\n    </tr>\n    <tr>\n      <th>3</th>\n      <td>4</td>\n      <td>lead human resource data scientist</td>\n      <td>15-2041.00</td>\n      <td>0.828754</td>\n      <td>Statisticians</td>\n      <td>Newly created data science lead embedded withi...</td>\n      <td>[Task Statements | Prepare data for processing...</td>\n    </tr>\n    <tr>\n      <th>4</th>\n      <td>5</td>\n      <td>machine learning engineer</td>\n      <td>19-2099.01</td>\n      <td>0.811024</td>\n      <td>Remote Sensing Scientists and Technologists</td>\n      <td>Who We are\\nFounded in 2016, Skycope Technolog...</td>\n      <td>[Work Values | Working Conditions | Occupation...</td>\n    </tr>\n  </tbody>\n</table>\n</div>",
      "text/plain": "   id                     title_processed  identifier  score_all  \\\n0   1                      data scientist  15-1111.00   0.749518   \n1   2       business intelligence analyst  15-1199.08   0.873630   \n2   3      human resources data scientist  15-2041.02   0.810885   \n3   4  lead human resource data scientist  15-2041.00   0.828754   \n4   5           machine learning engineer  19-2099.01   0.811024   \n\n                                           name  \\\n0  Computer and Information Research Scientists   \n1                Business Intelligence Analysts   \n2                        Clinical Data Managers   \n3                                 Statisticians   \n4   Remote Sensing Scientists and Technologists   \n\n                                         description  \\\n0  Do you want a meaningful role in a company tha...   \n1  Brand: Glentel Corporate\\nLocation: Burnaby Of...   \n2  2 x newly created Data Scientist opportunities...   \n3  Newly created data science lead embedded withi...   \n4  Who We are\\nFounded in 2016, Skycope Technolog...   \n\n                                     onet_competency  \n0  [Work Values | Working Conditions | Occupation...  \n1  [Work Values | Support | Occupations that sati...  \n2  [Task Statements | Design and validate clinica...  \n3  [Task Statements | Prepare data for processing...  \n4  [Work Values | Working Conditions | Occupation...  "
     },
     "execution_count": 25,
     "metadata": {},
     "output_type": "execute_result"
    }
   ],
   "source": [
    "result_df.head()"
   ]
  },
  {
   "cell_type": "code",
   "execution_count": 26,
   "metadata": {},
   "outputs": [],
   "source": [
    "# Save file\n",
    "result_df.to_csv('results/description_competency.csv', index=False)"
   ]
  },
  {
   "cell_type": "code",
   "execution_count": null,
   "metadata": {},
   "outputs": [],
   "source": []
  }
 ]
}