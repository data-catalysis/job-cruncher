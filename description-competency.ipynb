{
 "nbformat": 4,
 "nbformat_minor": 2,
 "metadata": {
  "language_info": {
   "name": "python",
   "codemirror_mode": {
    "name": "ipython",
    "version": 3
   },
   "version": "3.7.5-final"
  },
  "orig_nbformat": 2,
  "file_extension": ".py",
  "mimetype": "text/x-python",
  "name": "python",
  "npconvert_exporter": "python",
  "pygments_lexer": "ipython3",
  "version": 3,
  "kernelspec": {
   "name": "python37564bitvenvvenva3138b71e4064f57aed9d81ac75a212c",
   "display_name": "Python 3.7.5 64-bit ('venv': venv)"
  }
 },
 "cells": [
  {
   "cell_type": "code",
   "execution_count": 1,
   "metadata": {},
   "outputs": [],
   "source": [
    "import numpy as np\n",
    "import pandas as pd\n",
    "import sqlite3\n",
    "import spacy"
   ]
  },
  {
   "cell_type": "code",
   "execution_count": 2,
   "metadata": {},
   "outputs": [],
   "source": [
    "# Download pretrained enlgish model\n",
    "try:\n",
    "    import en_core_web_sm\n",
    "except:\n",
    "    !python -m spacy download en_core_web_sm\n",
    "    import en_core_web_sm"
   ]
  },
  {
   "cell_type": "code",
   "execution_count": 3,
   "metadata": {},
   "outputs": [],
   "source": [
    "# Read sqlite query results into a pandas DataFrame\n",
    "con = sqlite3.connect(\"collectors/data.sqlite3\")\n",
    "job_df = pd.read_sql_query(\"SELECT * from job_post\", con)\n",
    "con.close()"
   ]
  },
  {
   "cell_type": "code",
   "execution_count": 4,
   "metadata": {},
   "outputs": [
    {
     "data": {
      "text/html": "<div>\n<style scoped>\n    .dataframe tbody tr th:only-of-type {\n        vertical-align: middle;\n    }\n\n    .dataframe tbody tr th {\n        vertical-align: top;\n    }\n\n    .dataframe thead th {\n        text-align: right;\n    }\n</style>\n<table border=\"1\" class=\"dataframe\">\n  <thead>\n    <tr style=\"text-align: right;\">\n      <th></th>\n      <th>id</th>\n      <th>title</th>\n      <th>company</th>\n      <th>location</th>\n      <th>description</th>\n      <th>source</th>\n      <th>search_kw</th>\n    </tr>\n  </thead>\n  <tbody>\n    <tr>\n      <th>0</th>\n      <td>1</td>\n      <td>Data Scientist</td>\n      <td>Aquatic Informatics</td>\n      <td>Vancouver, BC</td>\n      <td>Do you want a meaningful role in a company tha...</td>\n      <td>indeed.com</td>\n      <td>data scientist</td>\n    </tr>\n    <tr>\n      <th>1</th>\n      <td>2</td>\n      <td>Business Intelligence Analyst</td>\n      <td>GLENTEL</td>\n      <td>Burnaby, BC</td>\n      <td>Brand: Glentel Corporate\\nLocation: Burnaby Of...</td>\n      <td>indeed.com</td>\n      <td>data scientist</td>\n    </tr>\n    <tr>\n      <th>2</th>\n      <td>3</td>\n      <td>Human Resources Data Scientist</td>\n      <td>Rio Tinto</td>\n      <td>Canada</td>\n      <td>2 x newly created Data Scientist opportunities...</td>\n      <td>indeed.com</td>\n      <td>data scientist</td>\n    </tr>\n    <tr>\n      <th>3</th>\n      <td>4</td>\n      <td>Lead - Human Resource Data Scientist</td>\n      <td>Rio Tinto</td>\n      <td>Canada</td>\n      <td>Newly created data science lead embedded withi...</td>\n      <td>indeed.com</td>\n      <td>data scientist</td>\n    </tr>\n    <tr>\n      <th>4</th>\n      <td>5</td>\n      <td>Machine Learning Engineer</td>\n      <td>Skycope Technologies Inc</td>\n      <td>Vancouver, BC</td>\n      <td>Who We are\\nFounded in 2016, Skycope Technolog...</td>\n      <td>indeed.com</td>\n      <td>data scientist</td>\n    </tr>\n  </tbody>\n</table>\n</div>",
      "text/plain": "   id                                 title                   company  \\\n0   1                        Data Scientist       Aquatic Informatics   \n1   2         Business Intelligence Analyst                   GLENTEL   \n2   3        Human Resources Data Scientist                 Rio Tinto   \n3   4  Lead - Human Resource Data Scientist                 Rio Tinto   \n4   5             Machine Learning Engineer  Skycope Technologies Inc   \n\n        location                                        description  \\\n0  Vancouver, BC  Do you want a meaningful role in a company tha...   \n1    Burnaby, BC  Brand: Glentel Corporate\\nLocation: Burnaby Of...   \n2         Canada  2 x newly created Data Scientist opportunities...   \n3         Canada  Newly created data science lead embedded withi...   \n4  Vancouver, BC  Who We are\\nFounded in 2016, Skycope Technolog...   \n\n       source       search_kw  \n0  indeed.com  data scientist  \n1  indeed.com  data scientist  \n2  indeed.com  data scientist  \n3  indeed.com  data scientist  \n4  indeed.com  data scientist  "
     },
     "execution_count": 4,
     "metadata": {},
     "output_type": "execute_result"
    }
   ],
   "source": [
    "# Verify that result of SQL query is stored in the dataframe\n",
    "job_df.head()"
   ]
  },
  {
   "cell_type": "code",
   "execution_count": 5,
   "metadata": {},
   "outputs": [
    {
     "data": {
      "text/html": "<div>\n<style scoped>\n    .dataframe tbody tr th:only-of-type {\n        vertical-align: middle;\n    }\n\n    .dataframe tbody tr th {\n        vertical-align: top;\n    }\n\n    .dataframe thead th {\n        text-align: right;\n    }\n</style>\n<table border=\"1\" class=\"dataframe\">\n  <thead>\n    <tr style=\"text-align: right;\">\n      <th></th>\n      <th>occupation</th>\n      <th>competency</th>\n      <th>category</th>\n      <th>description</th>\n    </tr>\n  </thead>\n  <tbody>\n    <tr>\n      <th>0</th>\n      <td>Computer and Information Research Scientists</td>\n      <td>Source code management SCM software</td>\n      <td>Technology Skills</td>\n      <td>Development environment software</td>\n    </tr>\n    <tr>\n      <th>1</th>\n      <td>Computer and Information Research Scientists</td>\n      <td>Microsoft Azure</td>\n      <td>Technology Skills</td>\n      <td>Development environment software</td>\n    </tr>\n    <tr>\n      <th>2</th>\n      <td>Computer and Information Research Scientists</td>\n      <td>Visualization</td>\n      <td>Abilities</td>\n      <td>The ability to imagine how something will look...</td>\n    </tr>\n    <tr>\n      <th>3</th>\n      <td>Computer and Information Research Scientists</td>\n      <td>Free-field speakers</td>\n      <td>Tools Used</td>\n      <td>Loudspeakers</td>\n    </tr>\n    <tr>\n      <th>4</th>\n      <td>Computer and Information Research Scientists</td>\n      <td>Data visualization software</td>\n      <td>Technology Skills</td>\n      <td>Analytical or scientific software</td>\n    </tr>\n  </tbody>\n</table>\n</div>",
      "text/plain": "                                     occupation  \\\n0  Computer and Information Research Scientists   \n1  Computer and Information Research Scientists   \n2  Computer and Information Research Scientists   \n3  Computer and Information Research Scientists   \n4  Computer and Information Research Scientists   \n\n                            competency           category  \\\n0  Source code management SCM software  Technology Skills   \n1                      Microsoft Azure  Technology Skills   \n2                        Visualization          Abilities   \n3                  Free-field speakers         Tools Used   \n4          Data visualization software  Technology Skills   \n\n                                         description  \n0                   Development environment software  \n1                   Development environment software  \n2  The ability to imagine how something will look...  \n3                                       Loudspeakers  \n4                  Analytical or scientific software  "
     },
     "execution_count": 5,
     "metadata": {},
     "output_type": "execute_result"
    }
   ],
   "source": [
    "onet_competencies = 'datasets/competencies.csv'\n",
    "onet_df = pd.read_csv(onet_competencies,index_col=0)\n",
    "onet_df[onet_df['occupation'] == 'Computer and Information Research Scientists'].head(5)"
   ]
  },
  {
   "cell_type": "code",
   "execution_count": 6,
   "metadata": {},
   "outputs": [],
   "source": [
    "def process_text(text):\n",
    "    doc = nlp(text)\n",
    "    result = []\n",
    "    for token in doc:\n",
    "        if token.text in nlp.Defaults.stop_words:\n",
    "            continue\n",
    "        if token.is_punct:\n",
    "            continue\n",
    "        if token.lemma_ == '-PRON-':\n",
    "            continue\n",
    "        # result.append(token.lemma_)\n",
    "        result.append(token.text)\n",
    "    return \" \".join(result)"
   ]
  },
  {
   "cell_type": "code",
   "execution_count": 7,
   "metadata": {},
   "outputs": [],
   "source": [
    "nlp = en_core_web_sm.load()\n",
    "nlp.Defaults.stop_words.add(\"\\n\")"
   ]
  },
  {
   "cell_type": "code",
   "execution_count": 8,
   "metadata": {},
   "outputs": [],
   "source": [
    "onet_comp = np.array(onet_df['competency'])\n",
    "onet_desc = np.array(onet_df['description'])"
   ]
  },
  {
   "cell_type": "code",
   "execution_count": 9,
   "metadata": {},
   "outputs": [],
   "source": [
    "onet_comp = np.array([process_text(comp.lower()) for comp in onet_comp])\n",
    "onet_desc = np.array([process_text(desc.lower()) for desc in onet_desc])"
   ]
  },
  {
   "cell_type": "code",
   "execution_count": 10,
   "metadata": {},
   "outputs": [
    {
     "data": {
      "text/html": "<div>\n<style scoped>\n    .dataframe tbody tr th:only-of-type {\n        vertical-align: middle;\n    }\n\n    .dataframe tbody tr th {\n        vertical-align: top;\n    }\n\n    .dataframe thead th {\n        text-align: right;\n    }\n</style>\n<table border=\"1\" class=\"dataframe\">\n  <thead>\n    <tr style=\"text-align: right;\">\n      <th></th>\n      <th>id</th>\n      <th>title_processed</th>\n      <th>identifier</th>\n      <th>score_all</th>\n      <th>name</th>\n      <th>description</th>\n    </tr>\n  </thead>\n  <tbody>\n    <tr>\n      <th>0</th>\n      <td>1</td>\n      <td>data scientist</td>\n      <td>15-1111.00</td>\n      <td>0.749518</td>\n      <td>Computer and Information Research Scientists</td>\n      <td>Do you want a meaningful role in a company tha...</td>\n    </tr>\n    <tr>\n      <th>1</th>\n      <td>2</td>\n      <td>business intelligence analyst</td>\n      <td>15-1199.08</td>\n      <td>0.873630</td>\n      <td>Business Intelligence Analysts</td>\n      <td>Brand: Glentel Corporate\\nLocation: Burnaby Of...</td>\n    </tr>\n    <tr>\n      <th>2</th>\n      <td>3</td>\n      <td>human resources data scientist</td>\n      <td>15-2041.02</td>\n      <td>0.810885</td>\n      <td>Clinical Data Managers</td>\n      <td>2 x newly created Data Scientist opportunities...</td>\n    </tr>\n    <tr>\n      <th>3</th>\n      <td>4</td>\n      <td>lead human resource data scientist</td>\n      <td>15-2041.00</td>\n      <td>0.828754</td>\n      <td>Statisticians</td>\n      <td>Newly created data science lead embedded withi...</td>\n    </tr>\n    <tr>\n      <th>4</th>\n      <td>5</td>\n      <td>machine learning engineer</td>\n      <td>19-2099.01</td>\n      <td>0.811024</td>\n      <td>Remote Sensing Scientists and Technologists</td>\n      <td>Who We are\\nFounded in 2016, Skycope Technolog...</td>\n    </tr>\n  </tbody>\n</table>\n</div>",
      "text/plain": "   id                     title_processed  identifier  score_all  \\\n0   1                      data scientist  15-1111.00   0.749518   \n1   2       business intelligence analyst  15-1199.08   0.873630   \n2   3      human resources data scientist  15-2041.02   0.810885   \n3   4  lead human resource data scientist  15-2041.00   0.828754   \n4   5           machine learning engineer  19-2099.01   0.811024   \n\n                                           name  \\\n0  Computer and Information Research Scientists   \n1                Business Intelligence Analysts   \n2                        Clinical Data Managers   \n3                                 Statisticians   \n4   Remote Sensing Scientists and Technologists   \n\n                                         description  \n0  Do you want a meaningful role in a company tha...  \n1  Brand: Glentel Corporate\\nLocation: Burnaby Of...  \n2  2 x newly created Data Scientist opportunities...  \n3  Newly created data science lead embedded withi...  \n4  Who We are\\nFounded in 2016, Skycope Technolog...  "
     },
     "execution_count": 10,
     "metadata": {},
     "output_type": "execute_result"
    }
   ],
   "source": [
    "occupations = 'results/title_occupation.csv'\n",
    "occupations = pd.read_csv(occupations)\n",
    "occupations['description'] = job_df['description']\n",
    "occupations.head(5)"
   ]
  },
  {
   "cell_type": "code",
   "execution_count": 11,
   "metadata": {},
   "outputs": [],
   "source": [
    "job_desc = occupations['description'].values"
   ]
  },
  {
   "cell_type": "code",
   "execution_count": 12,
   "metadata": {},
   "outputs": [],
   "source": [
    "job_desc = np.array([desc.lower() for desc in job_desc])"
   ]
  },
  {
   "cell_type": "code",
   "execution_count": 13,
   "metadata": {},
   "outputs": [],
   "source": [
    "first_n = 1\n",
    "\n",
    "job_desc = np.array([np.array([process_text(line.text).replace(\"\\n\", '') \\\n",
    "                     for line in nlp(str(desc)).sents]) \\\n",
    "                     for desc in job_desc[:first_n]])"
   ]
  },
  {
   "cell_type": "code",
   "execution_count": 21,
   "metadata": {},
   "outputs": [
    {
     "name": "stdout",
     "output_type": "stream",
     "text": "COMPETENCIES 267, SENTENCES 28\n------------------------------\nJOB 0, SENTENCE 0 DONE\nJOB 0, SENTENCE 1 DONE\nJOB 0, SENTENCE 2 DONE\nJOB 0, SENTENCE 3 DONE\nJOB 0, SENTENCE 4 DONE\nJOB 0, SENTENCE 5 DONE\nJOB 0, SENTENCE 6 DONE\nJOB 0, SENTENCE 7 DONE\nJOB 0, SENTENCE 8 DONE\nJOB 0, SENTENCE 9 DONE\nJOB 0, SENTENCE 10 DONE\nJOB 0, SENTENCE 11 DONE\nJOB 0, SENTENCE 12 DONE\nJOB 0, SENTENCE 13 DONE\nJOB 0, SENTENCE 14 DONE\nJOB 0, SENTENCE 15 DONE\nJOB 0, SENTENCE 16 DONE\nJOB 0, SENTENCE 17 DONE\nJOB 0, SENTENCE 18 DONE\nJOB 0, SENTENCE 19 DONE\nJOB 0, SENTENCE 20 DONE\nJOB 0, SENTENCE 21 DONE\nJOB 0, SENTENCE 22 DONE\nJOB 0, SENTENCE 23 DONE\nJOB 0, SENTENCE 24 DONE\nJOB 0, SENTENCE 25 DONE\nJOB 0, SENTENCE 26 DONE\nJOB 0, SENTENCE 27 DONE\n"
    }
   ],
   "source": [
    "# ***************************************************************\n",
    "# BEWARE: EXTREMELY TIME CONSUMING\n",
    "# TRY FOR SMALL NUMBER OF JOBS\n",
    "# IMPRACTICAL FOR A LARGE SET OF JOBS SIMULTANEOUSLY\n",
    "# PRACTICAL IMPLICATION: PERFORM THIS WHENEVER A NEW JOB IS ADDED\n",
    "# ***************************************************************\n",
    "\n",
    "scores = []\n",
    "comp_ids = []\n",
    "\n",
    "for i, desc in enumerate(job_desc):\n",
    "    title = occupations['name'].iloc[i]\n",
    "    idss = onet_df.index[onet_df['occupation'] == title].tolist()\n",
    "    sent_score = []\n",
    "    sent_comp_id = []\n",
    "    print(\"COMPETENCIES {}, SENTENCES {}\".format(len(idss), len(desc)))\n",
    "    print(\"------------------------------\")\n",
    "    for j, sentence in enumerate(desc):\n",
    "        sentence = nlp(str(sentence))\n",
    "        temp_score = []\n",
    "        # temp_comp_id = np.empty()\n",
    "        for ids in idss:\n",
    "            sim1 = sentence.similarity(nlp(str(onet_comp[ids])))\n",
    "            sim2 = sentence.similarity(nlp(str(onet_desc[ids])))\n",
    "            temp_score.append(max(sim1, sim2))\n",
    "    \n",
    "        max_score = np.max(temp_score)\n",
    "        max_comp_id = idss[np.argmax(temp_score)]\n",
    "        sent_score.append(max_score)\n",
    "        sent_comp_id.append(max_comp_id)\n",
    "        print(\"JOB {}, SENTENCE {} DONE\".format(i, j))\n",
    "\n",
    "    scores.append(sent_score)\n",
    "    comp_ids.append(sent_comp_id)"
   ]
  },
  {
   "cell_type": "code",
   "execution_count": 115,
   "metadata": {},
   "outputs": [],
   "source": [
    "competency = []\n",
    "for i in range(len(scores)):\n",
    "    tup = list(zip(scores[i], comp_ids[i]))\n",
    "    tup.sort(reverse=True)\n",
    "\n",
    "    top = []\n",
    "    visited = []\n",
    "    for t in tup:\n",
    "        if t[1] not in visited:\n",
    "            top.append(t)\n",
    "            visited.append(t[1])\n",
    "\n",
    "    idss = [x[1] for x in top]\n",
    "    if len(idss) > 20:\n",
    "        idss = idss[:20]\n",
    "\n",
    "    competency_names = []\n",
    "    for ids in idss:\n",
    "        competency_names.append(onet_df['category'].iloc[ids] + \" | \" + \\\n",
    "                                onet_df['competency'].iloc[ids] + \" | \" + \\\n",
    "                                onet_df['description'].iloc[ids])\n",
    "\n",
    "    competency.append(competency_names)"
   ]
  },
  {
   "cell_type": "code",
   "execution_count": 123,
   "metadata": {},
   "outputs": [
    {
     "data": {
      "text/plain": "[['Work Values | Working Conditions | Occupations that satisfy this work value offer job security and good working conditions. Corresponding needs are Activity, Compensation, Independence, Security, Variety and Working Conditions.',\n  'Work Styles | Self Control | Job requires maintaining composure, keeping emotions in check, controlling anger, and avoiding aggressive behavior, even in very difficult situations.',\n  'Work Values | Recognition | Occupations that satisfy this work value offer advancement, potential for leadership, and are often considered prestigious. Corresponding needs are Advancement, Authority, Recognition and Social Status.',\n  'Abilities | Fluency of Ideas | The ability to come up with a number of ideas about a topic (the number of ideas is important, not their quality, correctness, or creativity).',\n  'Work Activities | Communicating with Persons Outside Organization | Communicating with people outside the organization, representing the organization to customers, the public, government, and other external sources. This information can be exchanged in person, in writing, or by telephone or e-mail.',\n  'Technology Skills | Data visualization software | Analytical or scientific software',\n  'Knowledge | Administration and Management | Knowledge of business and management principles involved in strategic planning, resource allocation, human resources modeling, leadership technique, production methods, and coordination of people and resources.',\n  'Work Activities | Interacting With Computers | Using computers and computer systems (including hardware and software) to program, write software, set up functions, enter data, or process information.',\n  'Work Values | Support | Occupations that satisfy this work value offer supportive management that stands behind employees. Corresponding needs are Company Policies, Supervision: Human Relations and Supervision: Technical.',\n  'Knowledge | Computers and Electronics | Knowledge of circuit boards, processors, chips, electronic equipment, and computer hardware and software, including applications and programming.',\n  'Abilities | Near Vision | The ability to see details at close range (within a few feet of the observer).',\n  'Work Values | Relationships | Occupations that satisfy this work value allow employees to provide service to others and work with co-workers in a friendly non-competitive environment. Corresponding needs are Co-workers, Moral Values and Social Service.',\n  'Technology Skills | Practical extraction and reporting language Perl | Object or component oriented development software',\n  'Technology Skills | Plug-in file software | Web page creation and editing software',\n  'Technology Skills | Intel Integrated Performance Primitives | Development environment software',\n  'Task Statements | Design computers and the software that runs them. | Core',\n  'Technology Skills | Geographic information system GIS software | Map creation software',\n  'Technology Skills | Google Analytics | Data mining software',\n  'Technology Skills | Microsoft Office | Office suite software',\n  'Work Styles | Adaptability/Flexibility | Job requires being open to change (positive or negative) and to considerable variety in the workplace.']]"
     },
     "execution_count": 123,
     "metadata": {},
     "output_type": "execute_result"
    }
   ],
   "source": [
    "competency"
   ]
  },
  {
   "cell_type": "code",
   "execution_count": 119,
   "metadata": {},
   "outputs": [],
   "source": [
    "result_df = occupations.iloc[:first_n]"
   ]
  },
  {
   "cell_type": "code",
   "execution_count": 121,
   "metadata": {},
   "outputs": [],
   "source": [
    "result_df['onet_competency'] = competency"
   ]
  },
  {
   "cell_type": "code",
   "execution_count": 122,
   "metadata": {},
   "outputs": [
    {
     "data": {
      "text/html": "<div>\n<style scoped>\n    .dataframe tbody tr th:only-of-type {\n        vertical-align: middle;\n    }\n\n    .dataframe tbody tr th {\n        vertical-align: top;\n    }\n\n    .dataframe thead th {\n        text-align: right;\n    }\n</style>\n<table border=\"1\" class=\"dataframe\">\n  <thead>\n    <tr style=\"text-align: right;\">\n      <th></th>\n      <th>id</th>\n      <th>title_processed</th>\n      <th>identifier</th>\n      <th>score_all</th>\n      <th>name</th>\n      <th>description</th>\n      <th>onet_competency</th>\n    </tr>\n  </thead>\n  <tbody>\n    <tr>\n      <th>0</th>\n      <td>1</td>\n      <td>data scientist</td>\n      <td>15-1111.00</td>\n      <td>0.749518</td>\n      <td>Computer and Information Research Scientists</td>\n      <td>Do you want a meaningful role in a company tha...</td>\n      <td>[Work Values | Working Conditions | Occupation...</td>\n    </tr>\n  </tbody>\n</table>\n</div>",
      "text/plain": "   id title_processed  identifier  score_all  \\\n0   1  data scientist  15-1111.00   0.749518   \n\n                                           name  \\\n0  Computer and Information Research Scientists   \n\n                                         description  \\\n0  Do you want a meaningful role in a company tha...   \n\n                                     onet_competency  \n0  [Work Values | Working Conditions | Occupation...  "
     },
     "execution_count": 122,
     "metadata": {},
     "output_type": "execute_result"
    }
   ],
   "source": [
    "result_df.head()"
   ]
  },
  {
   "cell_type": "code",
   "execution_count": 125,
   "metadata": {},
   "outputs": [],
   "source": [
    "# Save file\n",
    "result_df.to_csv('results/description_competency.csv', index=False)"
   ]
  },
  {
   "cell_type": "code",
   "execution_count": null,
   "metadata": {},
   "outputs": [],
   "source": []
  }
 ]
}