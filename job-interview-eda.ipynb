{
 "cells": [
  {
   "cell_type": "code",
   "execution_count": 4,
   "metadata": {},
   "outputs": [],
   "source": [
    "import pandas as pd\n",
    "import sqlite3\n",
    "import seaborn as sns; sns.set()\n",
    "import matplotlib.pyplot as plt"
   ]
  },
  {
   "cell_type": "code",
   "execution_count": 5,
   "metadata": {},
   "outputs": [],
   "source": [
    "# Read sqlite query results into a pandas DataFrame\n",
    "con = sqlite3.connect(\"collectors/data.sqlite3\")\n",
    "job_df = pd.read_sql_query(\"SELECT * from job_post\", con)\n",
    "company_review_df = pd.read_sql_query(\"SELECT * from company_review\", con)\n",
    "job_interview_df = pd.read_sql_query(\"SELECT * from job_interview\", con)\n",
    "con.close()"
   ]
  },
  {
   "cell_type": "code",
   "execution_count": 6,
   "metadata": {},
   "outputs": [
    {
     "data": {
      "text/html": [
       "<div>\n",
       "<style scoped>\n",
       "    .dataframe tbody tr th:only-of-type {\n",
       "        vertical-align: middle;\n",
       "    }\n",
       "\n",
       "    .dataframe tbody tr th {\n",
       "        vertical-align: top;\n",
       "    }\n",
       "\n",
       "    .dataframe thead th {\n",
       "        text-align: right;\n",
       "    }\n",
       "</style>\n",
       "<table border=\"1\" class=\"dataframe\">\n",
       "  <thead>\n",
       "    <tr style=\"text-align: right;\">\n",
       "      <th></th>\n",
       "      <th>id</th>\n",
       "      <th>company</th>\n",
       "      <th>title</th>\n",
       "      <th>question</th>\n",
       "      <th>date</th>\n",
       "      <th>source</th>\n",
       "      <th>search_kw</th>\n",
       "    </tr>\n",
       "  </thead>\n",
       "  <tbody>\n",
       "    <tr>\n",
       "      <th>0</th>\n",
       "      <td>1</td>\n",
       "      <td>Axiom Zen</td>\n",
       "      <td>Data Scientist Coop</td>\n",
       "      <td>He just asked me to introduce myself...</td>\n",
       "      <td>Jul. 14, 2019</td>\n",
       "      <td>glassdoor.com</td>\n",
       "      <td>data scientist</td>\n",
       "    </tr>\n",
       "    <tr>\n",
       "      <th>1</th>\n",
       "      <td>2</td>\n",
       "      <td>Geotab</td>\n",
       "      <td>Data Scientist</td>\n",
       "      <td>Past projects</td>\n",
       "      <td>Mar. 6, 2019</td>\n",
       "      <td>glassdoor.com</td>\n",
       "      <td>data scientist</td>\n",
       "    </tr>\n",
       "    <tr>\n",
       "      <th>2</th>\n",
       "      <td>3</td>\n",
       "      <td>Benbria</td>\n",
       "      <td>Full-stack Developer, Data Scientist</td>\n",
       "      <td>NLP challenge about finding semantic similarit...</td>\n",
       "      <td>Nov. 11, 2015</td>\n",
       "      <td>glassdoor.com</td>\n",
       "      <td>data scientist</td>\n",
       "    </tr>\n",
       "    <tr>\n",
       "      <th>3</th>\n",
       "      <td>4</td>\n",
       "      <td>Banque Nationale du Canada/National Bank of Ca...</td>\n",
       "      <td>Data Scientist</td>\n",
       "      <td>What measure would you use to assess the perfo...</td>\n",
       "      <td>Nov. 25, 2019</td>\n",
       "      <td>glassdoor.com</td>\n",
       "      <td>data scientist</td>\n",
       "    </tr>\n",
       "    <tr>\n",
       "      <th>4</th>\n",
       "      <td>5</td>\n",
       "      <td>Geotab</td>\n",
       "      <td>Data Scientist</td>\n",
       "      <td>Walk me through your educational background.</td>\n",
       "      <td>Feb. 1, 2020</td>\n",
       "      <td>glassdoor.com</td>\n",
       "      <td>data scientist</td>\n",
       "    </tr>\n",
       "  </tbody>\n",
       "</table>\n",
       "</div>"
      ],
      "text/plain": [
       "   id                                            company  \\\n",
       "0   1                                         Axiom Zen    \n",
       "1   2                                            Geotab    \n",
       "2   3                                           Benbria    \n",
       "3   4  Banque Nationale du Canada/National Bank of Ca...   \n",
       "4   5                                            Geotab    \n",
       "\n",
       "                                  title  \\\n",
       "0                   Data Scientist Coop   \n",
       "1                        Data Scientist   \n",
       "2  Full-stack Developer, Data Scientist   \n",
       "3                        Data Scientist   \n",
       "4                        Data Scientist   \n",
       "\n",
       "                                            question           date  \\\n",
       "0            He just asked me to introduce myself...  Jul. 14, 2019   \n",
       "1                                      Past projects   Mar. 6, 2019   \n",
       "2  NLP challenge about finding semantic similarit...  Nov. 11, 2015   \n",
       "3  What measure would you use to assess the perfo...  Nov. 25, 2019   \n",
       "4       Walk me through your educational background.   Feb. 1, 2020   \n",
       "\n",
       "          source       search_kw  \n",
       "0  glassdoor.com  data scientist  \n",
       "1  glassdoor.com  data scientist  \n",
       "2  glassdoor.com  data scientist  \n",
       "3  glassdoor.com  data scientist  \n",
       "4  glassdoor.com  data scientist  "
      ]
     },
     "execution_count": 6,
     "metadata": {},
     "output_type": "execute_result"
    }
   ],
   "source": [
    "job_interview_df.head()"
   ]
  },
  {
   "cell_type": "code",
   "execution_count": 8,
   "metadata": {},
   "outputs": [
    {
     "data": {
      "text/html": [
       "<div>\n",
       "<style scoped>\n",
       "    .dataframe tbody tr th:only-of-type {\n",
       "        vertical-align: middle;\n",
       "    }\n",
       "\n",
       "    .dataframe tbody tr th {\n",
       "        vertical-align: top;\n",
       "    }\n",
       "\n",
       "    .dataframe thead th {\n",
       "        text-align: right;\n",
       "    }\n",
       "</style>\n",
       "<table border=\"1\" class=\"dataframe\">\n",
       "  <thead>\n",
       "    <tr style=\"text-align: right;\">\n",
       "      <th></th>\n",
       "      <th>id</th>\n",
       "    </tr>\n",
       "  </thead>\n",
       "  <tbody>\n",
       "    <tr>\n",
       "      <th>count</th>\n",
       "      <td>510.000000</td>\n",
       "    </tr>\n",
       "    <tr>\n",
       "      <th>mean</th>\n",
       "      <td>255.500000</td>\n",
       "    </tr>\n",
       "    <tr>\n",
       "      <th>std</th>\n",
       "      <td>147.368586</td>\n",
       "    </tr>\n",
       "    <tr>\n",
       "      <th>min</th>\n",
       "      <td>1.000000</td>\n",
       "    </tr>\n",
       "    <tr>\n",
       "      <th>25%</th>\n",
       "      <td>128.250000</td>\n",
       "    </tr>\n",
       "    <tr>\n",
       "      <th>50%</th>\n",
       "      <td>255.500000</td>\n",
       "    </tr>\n",
       "    <tr>\n",
       "      <th>75%</th>\n",
       "      <td>382.750000</td>\n",
       "    </tr>\n",
       "    <tr>\n",
       "      <th>max</th>\n",
       "      <td>510.000000</td>\n",
       "    </tr>\n",
       "  </tbody>\n",
       "</table>\n",
       "</div>"
      ],
      "text/plain": [
       "               id\n",
       "count  510.000000\n",
       "mean   255.500000\n",
       "std    147.368586\n",
       "min      1.000000\n",
       "25%    128.250000\n",
       "50%    255.500000\n",
       "75%    382.750000\n",
       "max    510.000000"
      ]
     },
     "execution_count": 8,
     "metadata": {},
     "output_type": "execute_result"
    }
   ],
   "source": [
    "job_interview_df.describe()"
   ]
  },
  {
   "cell_type": "code",
   "execution_count": 60,
   "metadata": {},
   "outputs": [
    {
     "name": "stdout",
     "output_type": "stream",
     "text": [
      "[14, 23, 4, 11, 20, 24, 25]\n"
     ]
    }
   ],
   "source": [
    "\n",
    "    "
   ]
  },
  {
   "cell_type": "code",
   "execution_count": 50,
   "metadata": {},
   "outputs": [
    {
     "name": "stdout",
     "output_type": "stream",
     "text": [
      "99\n"
     ]
    }
   ],
   "source": [
    "print(len(job_interview_df[job_interview_df['search_kw']=='']))"
   ]
  },
  {
   "cell_type": "code",
   "execution_count": null,
   "metadata": {},
   "outputs": [],
   "source": []
  }
 ],
 "metadata": {
  "kernelspec": {
   "display_name": "Python 3",
   "language": "python",
   "name": "python3"
  },
  "language_info": {
   "codemirror_mode": {
    "name": "ipython",
    "version": 3
   },
   "file_extension": ".py",
   "mimetype": "text/x-python",
   "name": "python",
   "nbconvert_exporter": "python",
   "pygments_lexer": "ipython3",
   "version": "3.6.9"
  }
 },
 "nbformat": 4,
 "nbformat_minor": 4
}
